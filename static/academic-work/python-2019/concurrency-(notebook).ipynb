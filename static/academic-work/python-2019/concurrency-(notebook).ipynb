{
 "cells": [
  {
   "cell_type": "markdown",
   "metadata": {},
   "source": [
    "# Concurrency in Python"
   ]
  },
  {
   "cell_type": "markdown",
   "metadata": {},
   "source": [
    "We can speed up the execution of code by taking advantage of the multiple cores available in modern computers.\n",
    "We will learn how to speed up the execution of embarrassingly parallel problems.\n",
    "A problem is called embarrassingly parallel if it can be broken into smaller pieces that have little to no dependency between each another.\n",
    "\n"
   ]
  },
  {
   "cell_type": "markdown",
   "metadata": {},
   "source": [
    "\n",
    "# For Windows Users\n",
    "\n"
   ]
  },
  {
   "cell_type": "markdown",
   "metadata": {},
   "source": [
    "If you are on a Windows computer, there is an issue that arises when using the Concurrency module for Python.\n",
    "This issue will lead to an exception named `BrokenProcessPool`.\n",
    "However, it is very easy to avoid this exception.\n",
    "To execute code in parallel, we will need to supply the appropriate method with a function.\n",
    "This function will then be scheduled for execution in different cores.\n",
    "On Windows, the definition of the function that we execute in parallel cannot be in the Jupyter notebook you are using.\n",
    "Therefore, to avoid seeing the `BrokenProcessPool` exception, all you need to do is move the function definition to a separate file.\n",
    "\n",
    "For example, in the next sections we will define the functions `slow_computation`, `slow_computation_with_exceptions`, `slow_computation_silent` and `comp`.\n",
    "You should remove those function definitions from the Jupyter notebook and into a separate `.py` file.\n",
    "To do so, go the main page for your Jupyter notebook and select `New > Text File`.\n",
    "Change the name of this text file to `pcomputations.py`.\n",
    "Inside this file, type the code that defines those functions:\n",
    "\n"
   ]
  },
  {
   "cell_type": "code",
   "execution_count": 1,
   "metadata": {},
   "outputs": [],
   "source": [
    "import time\n",
    "import math\n",
    "\n",
    "\n",
    "def slow_computation(x):\n",
    "    print(f\"Computing {x}\")\n",
    "    time.sleep(2)\n",
    "    return x\n",
    "\n",
    "\n",
    "def slow_computation_with_exceptions(x):\n",
    "    print(f\"Computing {x}\")\n",
    "    time.sleep(2)\n",
    "    if x == 2:\n",
    "        raise ValueError(\"x==2\")\n",
    "    return x\n",
    "\n",
    "\n",
    "def slow_computation_silent(x):\n",
    "    time.sleep(2)\n",
    "    return x\n",
    "\n",
    "\n",
    "def comp(x):\n",
    "    time.sleep(2)\n",
    "    return math.log(x)"
   ]
  },
  {
   "cell_type": "markdown",
   "metadata": {},
   "source": [
    "Now, inside your Jupyter notebook, you can import those functions:\n",
    "\n"
   ]
  },
  {
   "cell_type": "code",
   "execution_count": 1,
   "metadata": {},
   "outputs": [],
   "source": [
    "from pcomputations import slow_computation,\\\n",
    "    slow_computation_with_exceptions, \\\n",
    "    slow_computation_silent, comp"
   ]
  },
  {
   "cell_type": "markdown",
   "metadata": {},
   "source": [
    "You can now use these functions inside your notebook, the only difference is that they were defined in another file.\n",
    "You can now run the rest of the code in this notebook without any issues.\n",
    "\n",
    "Remember to **delete the `def` for the functions in your notebook** if you are using Windows.\n",
    "This only applies when running code in parallel.\n",
    "\n"
   ]
  },
  {
   "cell_type": "markdown",
   "metadata": {},
   "source": [
    "\n",
    "# Multiple Python Processes\n",
    "\n"
   ]
  },
  {
   "cell_type": "markdown",
   "metadata": {},
   "source": [
    "Consider a function that takes some time to execute:\n",
    "\n"
   ]
  },
  {
   "cell_type": "code",
   "execution_count": 1,
   "metadata": {},
   "outputs": [],
   "source": [
    "import time\n",
    "\n",
    "\n",
    "def slow_computation(x):\n",
    "    print(f\"Computing {x}\")\n",
    "    time.sleep(2)\n",
    "    return x"
   ]
  },
  {
   "cell_type": "markdown",
   "metadata": {},
   "source": [
    "If we need to execute this function several times:\n",
    "\n"
   ]
  },
  {
   "cell_type": "code",
   "execution_count": 1,
   "metadata": {},
   "outputs": [],
   "source": [
    "import numpy as np\n",
    "\n",
    "start = time.perf_counter()\n",
    "results = np.zeros(10)\n",
    "for i in range(10):\n",
    "    results[i] = slow_computation(i)\n",
    "print(f\"Total time: {time.perf_counter() - start:.2f} seconds\")"
   ]
  },
  {
   "cell_type": "markdown",
   "metadata": {},
   "source": [
    "The entire process would take about 20 seconds to finish.\n",
    "\n",
    "Notice that this problem is embarrassingly parallel.\n",
    "Indeed, each iteration in the loop is independent from one another.\n",
    "We could execute the loop in a random order and we would still obtain the same results.\n",
    "Also, each iteration in the loop takes a few seconds to finish.\n",
    "When you see a problem of this type, its solution can potentially benefit from parallelization.\n",
    "\n",
    "We can parallelize Python code using the built-in module [`concurrent.futures`](https://docs.python.org/3/library/concurrent.futures.html).\n",
    "This module implements a class named `ProcessPoolExecutor`, which is an interface for submitting callables (like functions) to be executed at different processes.\n",
    "That is, we can use `ProcessPoolExecutor` to launch several Python processes, and then send each iteration of the loop above to a different process.\n",
    "The interface takes care of getting the results back on the Python that launched the processes.\n",
    "\n",
    "On this first example, we will use the high-level method of `ProcessPoolExecutor` named `map`.\n",
    "The `map` method takes a function and applies it to several values stored in an iterable (like a list).\n",
    "However, the function is executed asynchronously and concurrently on different Python processes (usually one per core).\n",
    "Let's modify the example above:\n",
    "\n"
   ]
  },
  {
   "cell_type": "code",
   "execution_count": 1,
   "metadata": {},
   "outputs": [],
   "source": [
    "from concurrent.futures import ProcessPoolExecutor\n",
    "\n",
    "start = time.perf_counter()\n",
    "with ProcessPoolExecutor() as executor:\n",
    "    print(\"Starting parallel computation\")\n",
    "    results = executor.map(slow_computation, range(20))\n",
    "print(\"Obtained the generator filled with values\")\n",
    "# We can now call next on the generator to obtain the results\n",
    "# one by one, or call list on the generator to get all the\n",
    "# values in a list.\n",
    "print(list(results))\n",
    "print(f'Total time: {time.perf_counter() - start:.2f}')"
   ]
  },
  {
   "cell_type": "markdown",
   "metadata": {},
   "source": [
    "The variable `results` is a generator.\n",
    "We can call `next` on it to obtain the value of each computation, or call `list` to get all of the values back in a list.\n",
    "After obtaining all values, the generator is used up and there are no more values to give.\n",
    "\n",
    "In my computer I have 2 cores, so we would expect the loop to finish in about 10 seconds, implying in a 50% performance improvement over the single-core version.\n",
    "Since there is some communication involved between the Python to processes to collect the results, it will take a little more than half the time to actually finish the job.\n",
    "\n",
    "Notice that even though the order of execution is random, the order of the results is the same as the order of the iterable.\n",
    "\n",
    "The `with` is used with `ProcessPoolExecutor`, which also provides a context manager (implements `__enter__` and `__exit__`).\n",
    "The `__exit__` method of the `ProcessPoolExecutor` instance, will call the method `shutdown(wait=True)`. This method will wait for all the processes to finish executing before continue executing the program.\n",
    "\n",
    "If an exception is raised in one of the processes, it will pop up when we are calling `next` on the generator.\n",
    "For example:\n",
    "\n"
   ]
  },
  {
   "cell_type": "code",
   "execution_count": 1,
   "metadata": {},
   "outputs": [],
   "source": [
    "def slow_computation_with_exceptions(x):\n",
    "    print(f\"Computing {x}\")\n",
    "    time.sleep(2)\n",
    "    if x == 2:\n",
    "        raise ValueError(\"x==2\")\n",
    "    return x\n",
    "\n",
    "\n",
    "with ProcessPoolExecutor() as executor:\n",
    "    results = executor.map(slow_computation_with_exceptions,\n",
    "                           range(5))\n",
    "\n",
    "type(results)\n",
    "next(results)\n",
    "next(results)\n",
    "next(results)\n",
    "# ValueError is raised\n",
    "next(results)\n",
    "# StopIteration is raised\n",
    "next(results)"
   ]
  },
  {
   "cell_type": "markdown",
   "metadata": {},
   "source": [
    "After an exception is raised in a generator, the generator stops producing new values and starts raising `StopIteration` if `next` is called again.\n",
    "\n"
   ]
  },
  {
   "cell_type": "markdown",
   "metadata": {},
   "source": [
    "\n",
    "# Futures\n",
    "\n"
   ]
  },
  {
   "cell_type": "markdown",
   "metadata": {},
   "source": [
    "The name of the module is `concurrent.futures`, but we have not seen any object of the type `Future`.\n",
    "These objects are used by the `.map` method.\n",
    "A `Future` class represents a computation that is happening asynchronously, and which may or may not have yet completed (similar to a `Promise` in JavaScript).\n",
    "When we call `ProcessPoolExecutor().map`, several `Future` instances are being created.\n",
    "Each instance has access to the function and value to be used in a computation.\n",
    "These objects can then be put in a queue and distributed to the different Python processes.\n",
    "In other words, the `Future` objects serve as the interface to communicate with the main Python process.\n",
    "These objects also provide methods to check whether they have completed the computation they were assigned.\n",
    "\n",
    "The `ProcessPoolExecutor().map` method creates the `Future` instances, puts them in a queue, checks when they are completed and retrieves the results.\n",
    "The completion check actually works a little differently.\n",
    "Instead of checking explicitly whether a `Future` instance is done, we let the instance do something when it finishes.\n",
    "This is known as a `callback`.\n",
    "The `Future` class has a `add_done_callback` method, which takes a function to be executed when the `Future` is done.\n",
    "\n",
    "We will modify our example to create the `Future` instances explicitly.\n",
    "Then, we will use the `as_completed` method to get the results as the futures finish executing.\n",
    "This gives us more flexibility, since we can schedule different functions and handle errors better than with `map`.\n",
    "\n"
   ]
  },
  {
   "cell_type": "code",
   "execution_count": 1,
   "metadata": {},
   "outputs": [],
   "source": [
    "from concurrent import futures\n",
    "\n",
    "# max_workers is how many cores we want to use at maximum\n",
    "# in my laptop there are only 2\n",
    "with futures.ProcessPoolExecutor(max_workers=2) as executor:\n",
    "    # Schedule all jobs\n",
    "    print(\"Scheduling jobs\")\n",
    "    # Next, create several Future instances:\n",
    "    to_do = []\n",
    "    for x in range(10):\n",
    "        # Schedule slow_computation to be executed with the\n",
    "        # input x\n",
    "        future = executor.submit(slow_computation, x)\n",
    "        # future is a Future instance, and it represents\n",
    "        # the asynchronous execution of slow_computation(x)\n",
    "        # Store all futures in a list:\n",
    "        to_do.append(future)\n",
    "        print(f'Scheduled {x} on {future}')\n",
    "\n",
    "    print(\"Retrieve results as they are completed\")\n",
    "    results = []\n",
    "    iterator = futures.as_completed(to_do)\n",
    "    # futures.as_completed returns an iterator\n",
    "    # This iterator yields a Future instance when it completes.\n",
    "    # That is, calling next(iterator) will yield the first\n",
    "    # Future that completed.\n",
    "    # Calling next(iterator) will yield the second Future that\n",
    "    # completed, and so on.\n",
    "    for future in iterator:\n",
    "        # If we are inside this block, it is because one of\n",
    "        # the futures has completed.\n",
    "        # We can get the results:\n",
    "        res = future.result()\n",
    "        print(f'Result of {future}: {res}')\n",
    "        results.append(res)\n",
    "\n",
    "print(results)"
   ]
  },
  {
   "cell_type": "markdown",
   "metadata": {},
   "source": [
    "Notice that as soon as we `executor.submit` a job, it starts executing.\n",
    "In fact, even before we are able to print the \"Scheduled\" message, we get a message saying the function started executing.\n",
    "When we finish scheduling, we call `futures.as_completed` and get an iterator.\n",
    "We then iterate over the results of this iterator.\n",
    "We get back the futures as they are completed.\n",
    "We get back the first futures quickly, but then we need to wait a few seconds for the next future to return.\n",
    "Observe that the futures are scheduled and returned in a random order, so the variable `results` has the results in a random order.\n",
    "\n"
   ]
  },
  {
   "cell_type": "markdown",
   "metadata": {},
   "source": [
    "\n",
    "# Ordering Results\n",
    "\n"
   ]
  },
  {
   "cell_type": "markdown",
   "metadata": {},
   "source": [
    "The `map` method waits for all futures to finish running, then sorts their order and then creates the generator, which is returned to us.\n",
    "We can also do that when submitting the futures with `executor.submit`, we just need to keep track of the jobs ourselves.\n",
    "\n",
    "We will modify the variable `to_do` from list to a dictionary.\n",
    "We will use each `Future` instance as a key in the dictionary.\n",
    "And each value of `x` as the value associated with the key.\n",
    "This is because when we call `futures.as_completed`, we get back a `Future`.\n",
    "We can use this future to find out what was the input to the function, and then order the results using the input.\n",
    "\n"
   ]
  },
  {
   "cell_type": "code",
   "execution_count": 1,
   "metadata": {},
   "outputs": [],
   "source": [
    "from concurrent import futures\n",
    "\n",
    "with futures.ProcessPoolExecutor(max_workers=2) as executor:\n",
    "    print(\"Scheduling jobs\")\n",
    "    to_do = {}\n",
    "    total_jobs = 10\n",
    "    for x in range(total_jobs):\n",
    "        future = executor.submit(slow_computation, x)\n",
    "        to_do[future] = x\n",
    "        print(f'Scheduled {x} on {future}')\n",
    "\n",
    "    results = np.zeros(total_jobs)\n",
    "    for future in futures.as_completed(to_do.keys()):\n",
    "        # We do not know the order of execution, so we do not\n",
    "        # know which future we are getting back.\n",
    "        # But, now that we have the to_do dictionary, we can\n",
    "        # find out.\n",
    "        x = to_do[future]\n",
    "        res = future.result()\n",
    "        print(f'Result of {future}: {res}')\n",
    "        results[x] = res\n",
    "\n",
    "print(results)"
   ]
  },
  {
   "cell_type": "markdown",
   "metadata": {},
   "source": [
    "\n",
    "# Progress Display\n",
    "\n"
   ]
  },
  {
   "cell_type": "markdown",
   "metadata": {},
   "source": [
    "We can use the [tqdm](https://github.com/tqdm/tqdm) package to create a progress bar during the execution of our script.\n",
    "First, install it with pip:\n",
    "\n"
   ]
  },
  {
   "cell_type": "code",
   "execution_count": 1,
   "metadata": {},
   "outputs": [],
   "source": [
    "pip install tqdm"
   ]
  },
  {
   "cell_type": "markdown",
   "metadata": {},
   "source": [
    "There are two main interfaces. If you are using Python on a terminal, you can import the function `tqdm` from the package: `from tqdm import tqdm`.\n",
    "If you are using Python on a Jupyter notebook, then you import the function `tqdm_notebook`: `from tqdm import tqdm_notebook`.\n",
    "Both functions take an iterable as an argument, and return another iterable.\n",
    "The iterable it returns will print on the screen a progress bar.\n",
    "Each time the iterable yields, the progress bar is updated.\n",
    "\n",
    "The package uses `print` to create the progress bar.\n",
    "So, if we are printing things inside the job, the progress bar will be printed on many lines.\n",
    "\n"
   ]
  },
  {
   "cell_type": "code",
   "execution_count": 1,
   "metadata": {},
   "outputs": [],
   "source": [
    "from tqdm import tqdm_notebook\n",
    "\n",
    "for i in tqdm_notebook(range(10), total=10):\n",
    "    time.sleep(1)"
   ]
  },
  {
   "cell_type": "markdown",
   "metadata": {},
   "source": [
    "Let's modify our script to display a progress bar.\n",
    "First, redefine the `slow_computation` function so that it does not print on the screen:\n",
    "\n"
   ]
  },
  {
   "cell_type": "code",
   "execution_count": 1,
   "metadata": {},
   "outputs": [],
   "source": [
    "def slow_computation_silent(x):\n",
    "    time.sleep(2)\n",
    "    return np.exp(x) + 3"
   ]
  },
  {
   "cell_type": "markdown",
   "metadata": {},
   "source": [
    "Now, use `tqdm_notebook` to create a progress bar:\n",
    "\n"
   ]
  },
  {
   "cell_type": "code",
   "execution_count": 1,
   "metadata": {},
   "outputs": [],
   "source": [
    "total_jobs = 10\n",
    "with futures.ProcessPoolExecutor(max_workers=2) as executor:\n",
    "    print(\"Scheduling jobs\")\n",
    "    to_do = {}\n",
    "    for x in range(total_jobs):\n",
    "        future = executor.submit(slow_computation_silent, x)\n",
    "        to_do[future] = x\n",
    "        print(f'Scheduled {x} on {future}')\n",
    "\n",
    "    results = np.zeros(total_jobs)\n",
    "    iterator = tqdm_notebook(futures.as_completed(to_do.keys()),\n",
    "                             total=total_jobs)\n",
    "    for future in iterator:\n",
    "        x = to_do[future]\n",
    "        results[x] = future.result()\n",
    "\n",
    "for x, res in enumerate(results):\n",
    "    print(f'{x}: {res}')"
   ]
  },
  {
   "cell_type": "markdown",
   "metadata": {},
   "source": [
    "\n",
    "# Handling Errors\n",
    "\n"
   ]
  },
  {
   "cell_type": "markdown",
   "metadata": {},
   "source": [
    "With `map` we could handle errors up to a point, since when we found an exception the generator would stop giving out new values.\n",
    "However, by scheduling the callables ourselves we can handle errors.\n",
    "\n",
    "Consider a function that will raise an exception on negative inputs:\n",
    "\n"
   ]
  },
  {
   "cell_type": "code",
   "execution_count": 1,
   "metadata": {},
   "outputs": [],
   "source": [
    "import math\n",
    "\n",
    "\n",
    "def comp(x):\n",
    "    time.sleep(2)\n",
    "    return math.log(x)"
   ]
  },
  {
   "cell_type": "markdown",
   "metadata": {},
   "source": [
    "The call to `math.log` can fail depending on the input.\n",
    "When that happens we will take note of the times it failed, but continue to get the results from the rest of the submissions:\n",
    "\n"
   ]
  },
  {
   "cell_type": "code",
   "execution_count": 1,
   "metadata": {},
   "outputs": [],
   "source": [
    "inputs = 2*np.random.random(10) - 1\n",
    "total_jobs = len(inputs)\n",
    "\n",
    "with futures.ProcessPoolExecutor(max_workers=2) as executor:\n",
    "    # scheduling jobs\n",
    "    print(\"Scheduling jobs\")\n",
    "    to_do = {}\n",
    "    for i, val in enumerate(inputs):\n",
    "        future = executor.submit(comp, val)\n",
    "        to_do[future] = i\n",
    "        print(f'Job {i} scheduled on {future}: {comp.__name__}({val})')\n",
    "\n",
    "    results = {}\n",
    "    fails = {}\n",
    "    for future in futures.as_completed(to_do.keys()):\n",
    "        i = to_do[future]\n",
    "        try:\n",
    "            value = future.result()\n",
    "        except ValueError as err:\n",
    "            fails[i] = err.args\n",
    "        else:\n",
    "            results[i] = value\n",
    "\n",
    "print('Successfully Completed:')\n",
    "for i, val in results.items():\n",
    "    print(f'Job {i} computed {comp.__name__}({inputs[i]}) = {val}')\n",
    "print('Failed Jobs:')\n",
    "for i, val in fails.items():\n",
    "    print(f'Job {i} failed at computing {comp.__name__}({val})')"
   ]
  },
  {
   "cell_type": "markdown",
   "metadata": {},
   "source": [
    "\n",
    "# Example: Time Series Panel\n",
    "\n"
   ]
  },
  {
   "cell_type": "markdown",
   "metadata": {},
   "source": [
    "We will now consider a complete example of parallelization with real data.\n",
    "\n"
   ]
  },
  {
   "cell_type": "markdown",
   "metadata": {},
   "source": [
    "\n",
    "## Loading the Panel\n",
    "\n"
   ]
  },
  {
   "cell_type": "markdown",
   "metadata": {},
   "source": [
    "Let's start by loading a time series panel.\n",
    "First, obtain the data from this [repository](https://github.com/python-for-economists/lecture-notes/blob/master/supporting/data/StocksHF.zip).\n",
    "Extract the files to a folder you can quickly find.\n",
    "In my case, I extracted the files to the folder stored in the `path` variable below.\n",
    "We will start by loading this data into Python, cleaning it and organizing it in a single data frame.\n",
    "\n",
    "Obtain the names of the files we extracted:\n",
    "\n"
   ]
  },
  {
   "cell_type": "code",
   "execution_count": 1,
   "metadata": {},
   "outputs": [],
   "source": [
    "import pandas as pd\n",
    "import numpy as np\n",
    "import os\n",
    "\n",
    "path = ('/Users/guilhermesalome/'\n",
    "        'Teaching/Duke/Econ890 Python - 2019/supporting/data/StocksHF/')\n",
    "files = [f for f in os.listdir(path) if '.csv' in f]\n",
    "files"
   ]
  },
  {
   "cell_type": "markdown",
   "metadata": {},
   "source": [
    "Now, load one of the files to inspect the data:\n",
    "\n"
   ]
  },
  {
   "cell_type": "code",
   "execution_count": 1,
   "metadata": {},
   "outputs": [],
   "source": [
    "d = pd.read_csv(path + files[0], skiprows=0, header=None)\n",
    "d\n",
    "d = d.iloc[:, 2]\n",
    "d.name = files[0].strip('.csv')\n",
    "d"
   ]
  },
  {
   "cell_type": "markdown",
   "metadata": {},
   "source": [
    "Do the same for a second file:\n",
    "\n"
   ]
  },
  {
   "cell_type": "code",
   "execution_count": 1,
   "metadata": {},
   "outputs": [],
   "source": [
    "e = pd.read_csv(path + files[1], skiprows=0, header=None)\n",
    "e = e.iloc[:, 2]\n",
    "e.name = files[1].strip('.csv')\n",
    "e"
   ]
  },
  {
   "cell_type": "markdown",
   "metadata": {},
   "source": [
    "Now, let's concatenate two series:\n",
    "\n"
   ]
  },
  {
   "cell_type": "code",
   "execution_count": 1,
   "metadata": {},
   "outputs": [],
   "source": [
    "pd.concat(objs=[d, e], axis=1)"
   ]
  },
  {
   "cell_type": "markdown",
   "metadata": {},
   "source": [
    "We get a `DataFrame`, where each column represents the price for a given stock.\n",
    "Notice that the columns have appropriate names, because we added names to our `Series` objects before the concatenation.\n",
    "\n",
    "Since we want to load multiple files, let's create a function that will do the job of loading and cleaning the data, just like we did above:\n",
    "\n"
   ]
  },
  {
   "cell_type": "code",
   "execution_count": 1,
   "metadata": {},
   "outputs": [],
   "source": [
    "def extract(folder, filename):\n",
    "    df = pd.read_csv(folder + filename,\n",
    "                     skiprows=0,\n",
    "                     header=None,\n",
    "                     usecols=[2],\n",
    "                     names=[filename.strip('.csv')])\n",
    "    return df\n",
    "\n",
    "# Test it:\n",
    "extract(path, files[0])"
   ]
  },
  {
   "cell_type": "markdown",
   "metadata": {},
   "source": [
    "Now, load the common indices for the panel:\n",
    "\n"
   ]
  },
  {
   "cell_type": "code",
   "execution_count": 1,
   "metadata": {},
   "outputs": [],
   "source": [
    "date_times = pd.read_csv(path + files[0], skiprows=0, header=None, usecols=[0, 1])\n",
    "dt = pd.to_datetime(date_times[0]*10**4+date_times[1], format='%Y%m%d%H%M')\n",
    "dt.name = 'Time'\n",
    "dt"
   ]
  },
  {
   "cell_type": "markdown",
   "metadata": {},
   "source": [
    "Concatenate all of the files and add the time indices:\n",
    "\n"
   ]
  },
  {
   "cell_type": "code",
   "execution_count": 1,
   "metadata": {},
   "outputs": [],
   "source": [
    "panel = pd.concat([extract(path, f) for f in files], axis=1)\n",
    "panel.index = dt\n",
    "panel"
   ]
  },
  {
   "cell_type": "markdown",
   "metadata": {},
   "source": [
    "Compute geometric returns, but only intraday:\n",
    "\n"
   ]
  },
  {
   "cell_type": "code",
   "execution_count": 1,
   "metadata": {},
   "outputs": [],
   "source": [
    "np.log(panel).diff()"
   ]
  },
  {
   "cell_type": "markdown",
   "metadata": {},
   "source": [
    "The above is not what we want, since includes overnight returns.\n",
    "We need to group the prices by day, and then compute the returns, this way we avoid computing returns across two different days.\n",
    "\n"
   ]
  },
  {
   "cell_type": "code",
   "execution_count": 1,
   "metadata": {},
   "outputs": [],
   "source": [
    "returns = np.log(panel).groupby(panel.index.date).diff()\n",
    "returns"
   ]
  },
  {
   "cell_type": "markdown",
   "metadata": {},
   "source": [
    "Since we do not compute the overnight returns, for each day we should have a `NaN` at the very first row.\n",
    "We can verify that is indeed the case:\n",
    "\n"
   ]
  },
  {
   "cell_type": "code",
   "execution_count": 1,
   "metadata": {},
   "outputs": [],
   "source": [
    "returns.iloc[0::386]\n",
    "# Drop the NaNs\n",
    "returns = returns.dropna()\n",
    "# Now the first values are at 9:36 AM\n",
    "returns.iloc[0::385]\n",
    "returns"
   ]
  },
  {
   "cell_type": "markdown",
   "metadata": {},
   "source": [
    "\n",
    "## Computing the Statistic of Interest\n",
    "\n"
   ]
  },
  {
   "cell_type": "markdown",
   "metadata": {},
   "source": [
    "We want to compute confidence intervals for a certain statistic, which is computed using intraday data.\n",
    "The statistic is computed for each day and for each stock.\n",
    "\n",
    "Let's build a function that will compute the statistics given a panel of data:\n",
    "\n"
   ]
  },
  {
   "cell_type": "code",
   "execution_count": 1,
   "metadata": {},
   "outputs": [],
   "source": [
    "def computeRV(returns):\n",
    "    return returns.groupby(returns.index.date).apply(lambda x: (x**2).sum())"
   ]
  },
  {
   "cell_type": "markdown",
   "metadata": {},
   "source": [
    "Notice that the result of the `groupby` and `apply` is a new `DataFrame`.\n",
    "The index of this `DataFrame` is given by `returns.index.date`.\n",
    "\n"
   ]
  },
  {
   "cell_type": "code",
   "execution_count": 1,
   "metadata": {},
   "outputs": [],
   "source": [
    "start = time.perf_counter()\n",
    "RV = computeRV(returns)\n",
    "stop = time.perf_counter()\n",
    "print(f'Elapsed Time: {stop - start:.2f} seconds')"
   ]
  },
  {
   "cell_type": "markdown",
   "metadata": {},
   "source": [
    "Computing the statistic just once for the entire panel takes a significant time.\n",
    "Imagine what would happen if the panel had all the constituents of the S&P500 index, or if we have data spanning the past two decades.\n",
    "In my case, it took about 1.51 seconds.\n",
    "If we want to compute confidence intervals for this statistic via bootstrapping, it would take at least 1510 seconds (with 1000 bootstrap samples), or about 25 minutes.\n",
    "If we have multiple cores available, then we can speed up the execution of this task.\n",
    "\n"
   ]
  },
  {
   "cell_type": "markdown",
   "metadata": {},
   "source": [
    "\n",
    "## Generating Bootstrap Samples\n",
    "\n"
   ]
  },
  {
   "cell_type": "markdown",
   "metadata": {},
   "source": [
    "To build the code, we select a smaller sample to work with.\n",
    "Test it, and then scale it to the full sample.\n",
    "\n",
    "Let's start with just 1 month and 2 stocks:\n",
    "\n"
   ]
  },
  {
   "cell_type": "code",
   "execution_count": 1,
   "metadata": {},
   "outputs": [],
   "source": [
    "test = returns.loc['2007-01-01':'2007-01-31', ['CSCO', 'BA']].copy()"
   ]
  },
  {
   "cell_type": "markdown",
   "metadata": {},
   "source": [
    "To create a bootstrap sample from this data (random sample with replacement), we can use the `sample` method of `DataFrame`:\n",
    "\n"
   ]
  },
  {
   "cell_type": "code",
   "execution_count": 1,
   "metadata": {},
   "outputs": [],
   "source": [
    "test.sample(n=test.shape[0], replace=True)"
   ]
  },
  {
   "cell_type": "markdown",
   "metadata": {},
   "source": [
    "The only issue is that our statistic is computed using intraday data, so we need to sample for each day separately:\n",
    "\n"
   ]
  },
  {
   "cell_type": "code",
   "execution_count": 1,
   "metadata": {},
   "outputs": [],
   "source": [
    "new_sample = test.groupby(test.index.date).apply(\n",
    "    lambda group: group.sample(n=group.shape[0], replace=True))\n",
    "new_sample"
   ]
  },
  {
   "cell_type": "markdown",
   "metadata": {},
   "source": [
    "We can drop the first level of the `MultiIndex`:\n",
    "\n"
   ]
  },
  {
   "cell_type": "code",
   "execution_count": 1,
   "metadata": {},
   "outputs": [],
   "source": [
    "new_sample.droplevel(0, axis=0)"
   ]
  },
  {
   "cell_type": "markdown",
   "metadata": {},
   "source": [
    "Alternatively, we can use the `groupby` option `group_keys=False`:\n",
    "\n"
   ]
  },
  {
   "cell_type": "code",
   "execution_count": 1,
   "metadata": {},
   "outputs": [],
   "source": [
    "new_sample = test.groupby(test.index.date, group_keys=False).apply(\n",
    "    lambda group: group.sample(n=group.shape[0], replace=True))\n",
    "new_sample"
   ]
  },
  {
   "cell_type": "markdown",
   "metadata": {},
   "source": [
    "Let's define a function that computes generates the bootstrap sample:\n",
    "\n"
   ]
  },
  {
   "cell_type": "code",
   "execution_count": 1,
   "metadata": {},
   "outputs": [],
   "source": [
    "def bootstrap_returns(returns):\n",
    "    groups = returns.groupby(returns.index.date, group_keys=False)\n",
    "    return groups.apply(lambda group: group.sample(n=group.shape[0], replace=True))"
   ]
  },
  {
   "cell_type": "markdown",
   "metadata": {},
   "source": [
    "We can combine `computeRV` and `bootstrap_returns` to compute the statistic day by day:\n",
    "\n"
   ]
  },
  {
   "cell_type": "code",
   "execution_count": 1,
   "metadata": {},
   "outputs": [],
   "source": [
    "computeRV(bootstrap_returns(test))"
   ]
  },
  {
   "cell_type": "markdown",
   "metadata": {},
   "source": [
    "At this point we can work on running this statement in parallel.\n",
    "This is an embarrassingly parallel problem, since each bootstrap samples and statistic computation is independent from one another.\n",
    "However, at the end of the computations we will have several data frames. One data frame for each bootstrap sample.\n",
    "And we need to create a function that will aggregate all of the results and compute the confidence intervals.\n",
    "\n"
   ]
  },
  {
   "cell_type": "markdown",
   "metadata": {},
   "source": [
    "\n",
    "## Computing the Confidence Intervals\n",
    "\n"
   ]
  },
  {
   "cell_type": "markdown",
   "metadata": {},
   "source": [
    "Consider you have three data frames containing the value of the statistic for two bootstrap samples:\n",
    "\n"
   ]
  },
  {
   "cell_type": "code",
   "execution_count": 1,
   "metadata": {},
   "outputs": [],
   "source": [
    "df1 = computeRV(bootstrap_returns(test))\n",
    "df2 = computeRV(bootstrap_returns(test))\n",
    "df3 = computeRV(bootstrap_returns(test))\n",
    "df1.values"
   ]
  },
  {
   "cell_type": "markdown",
   "metadata": {},
   "source": [
    "We want to compute percentiles for each day and each stock.\n",
    "Thus, we need to traverse all of the data frames (unfortunately there is no way around this).\n",
    "Let's save everything into a multi-dimensional matrix:\n",
    "\n"
   ]
  },
  {
   "cell_type": "code",
   "execution_count": 1,
   "metadata": {},
   "outputs": [],
   "source": [
    "all_stats = np.array((df1.values, df2.values, df3.values))\n",
    "all_stats.shape\n",
    "all_stats"
   ]
  },
  {
   "cell_type": "markdown",
   "metadata": {},
   "source": [
    "We can use the `np.quantile` function to compute the quantile along one axis.\n",
    "The axis we want to use is the first one, so that it traverse all the different matrices to compute the quantile for one day and one stock.\n",
    "The axis input of `np.quantile` is what will be changed when finding the quantile.\n",
    "In this case, `all_stats.shape` is `(3, 20, 2)`, where 3 is the number of data frames (or matrices in this case).\n",
    "We want to compute the percentile along 0th axis, while having fixed the values for the 1st and 2nd axes.\n",
    "\n",
    "To get the upper bound of the 99% confidence interval for the statistic:\n",
    "\n"
   ]
  },
  {
   "cell_type": "code",
   "execution_count": 1,
   "metadata": {},
   "outputs": [],
   "source": [
    "print(np.quantile(all_stats, 0.995, axis=0))"
   ]
  },
  {
   "cell_type": "markdown",
   "metadata": {},
   "source": [
    "For the lower bound:\n",
    "\n"
   ]
  },
  {
   "cell_type": "code",
   "execution_count": 1,
   "metadata": {},
   "outputs": [],
   "source": [
    "print(np.quantile(all_stats, 0.005, axis=0))"
   ]
  },
  {
   "cell_type": "markdown",
   "metadata": {},
   "source": [
    "Now we can take these values back to a dataframe that will hold the results.\n",
    "We need will build 2 data frames, one for the lower bound and one for the upper bound.\n",
    "We will create them with an appropriate `MultiIndex`.\n",
    "And then merge all in a single data frame:\n",
    "\n"
   ]
  },
  {
   "cell_type": "code",
   "execution_count": 1,
   "metadata": {},
   "outputs": [],
   "source": [
    "cols = df1.columns.values\n",
    "cols\n",
    "list(zip(cols, ['lower']*len(cols)))\n",
    "cols_lower = pd.MultiIndex.from_tuples(zip(cols, ['lower']*len(cols)))\n",
    "cols_lower\n",
    "lower = pd.DataFrame(data=np.quantile(all_stats, 0.005, axis=0),\n",
    "                     index=df1.index, columns=cols_lower)\n",
    "lower"
   ]
  },
  {
   "cell_type": "markdown",
   "metadata": {},
   "source": [
    "We repeat the process for the upper bounds:\n",
    "\n"
   ]
  },
  {
   "cell_type": "code",
   "execution_count": 1,
   "metadata": {},
   "outputs": [],
   "source": [
    "cols_upper = pd.MultiIndex.from_tuples(zip(cols, ['upper']*len(cols)))\n",
    "upper = pd.DataFrame(data=np.quantile(all_stats, 0.995, axis=0),\n",
    "                     index=df1.index, columns=cols_upper)\n",
    "upper"
   ]
  },
  {
   "cell_type": "markdown",
   "metadata": {},
   "source": [
    "We can now merge both data frames:\n",
    "\n"
   ]
  },
  {
   "cell_type": "code",
   "execution_count": 1,
   "metadata": {},
   "outputs": [],
   "source": [
    "ci = pd.merge(left=lower, right=upper, left_index=True, right_index=True)\n",
    "ci\n",
    "# Do a sort on the columns first hierarchy\n",
    "ci = ci.sort_index(axis=1, level=0)\n",
    "ci"
   ]
  },
  {
   "cell_type": "markdown",
   "metadata": {},
   "source": [
    "We can now define an aggregating function that generates the confidence intervals:\n",
    "\n"
   ]
  },
  {
   "cell_type": "code",
   "execution_count": 1,
   "metadata": {},
   "outputs": [],
   "source": [
    "def getCI(df_iterable):\n",
    "    all_stats = np.array([df.values for df in df_iterable])\n",
    "    # Obtain column names\n",
    "    cols = df_iterable[0].columns.values\n",
    "    # Create MultiIndex for the lower bound\n",
    "    cols_lower = pd.MultiIndex.from_tuples(zip(cols, ['lower']*len(cols)))\n",
    "    lower = pd.DataFrame(data=np.quantile(all_stats, 0.005, axis=0),\n",
    "                         index=df1.index, columns=cols_lower)\n",
    "    # Create MultiIndex for the upper bound\n",
    "    cols_upper = pd.MultiIndex.from_tuples(zip(cols, ['upper']*len(cols)))\n",
    "    upper = pd.DataFrame(data=np.quantile(all_stats, 0.995, axis=0),\n",
    "                         index=df1.index, columns=cols_upper)\n",
    "    # Merge both frames\n",
    "    ci = pd.merge(left=lower, right=upper, left_index=True, right_index=True)\n",
    "    # Do a sort on the columns first hierarchy\n",
    "    return ci.sort_index(axis=1, level=0)\n",
    "\n",
    "\n",
    "# Test function\n",
    "getCI([computeRV(bootstrap_returns(test)) for _ in range(5)])"
   ]
  },
  {
   "cell_type": "markdown",
   "metadata": {},
   "source": [
    "\n",
    "## Solution in a Single Core\n",
    "\n"
   ]
  },
  {
   "cell_type": "markdown",
   "metadata": {},
   "source": [
    "Let's time the solution in a single core:\n",
    "\n"
   ]
  },
  {
   "cell_type": "code",
   "execution_count": 1,
   "metadata": {},
   "outputs": [],
   "source": [
    "print(\"Solution in a Single Core\")\n",
    "print(\"|{:^15s}|{:^15s}|\".format(\"Samples\", \"Time (s)\"))\n",
    "print(\"|{}|{}|\".format('-'*15, '-'*15))\n",
    "single_core_time = {}\n",
    "for bsamples in [1, 5, 10, 50, 100, 200, 500, 1000]:\n",
    "    start = time.perf_counter()\n",
    "    ci = getCI([computeRV(bootstrap_returns(test)) for _ in range(bsamples)])\n",
    "    stop = time.perf_counter()\n",
    "    total_time = stop - start\n",
    "    single_core_time[bsamples] = total_time\n",
    "    print(f\"|{bsamples:^15.0f}|{total_time:^15.2f}|\")"
   ]
  },
  {
   "cell_type": "markdown",
   "metadata": {},
   "source": [
    "\n",
    "## Solution in Parallel\n",
    "\n"
   ]
  },
  {
   "cell_type": "markdown",
   "metadata": {},
   "source": [
    "We will use `Futures` to schedule the computations on different cores.\n",
    "Let's create the function that we will submit to each core.\n",
    "It will take a `DataFrame` containing the data, generate a single bootstrap sample and output the statistic:\n",
    "\n"
   ]
  },
  {
   "cell_type": "code",
   "execution_count": 1,
   "metadata": {},
   "outputs": [],
   "source": [
    "def sample_to_statistic(data):\n",
    "    return computeRV(bootstrap_returns(data))"
   ]
  },
  {
   "cell_type": "markdown",
   "metadata": {},
   "source": [
    "Let's create another function that uses `sample_to_statistic` several times, and then returns the confidence intervals for the statistic:\n",
    "\n"
   ]
  },
  {
   "cell_type": "code",
   "execution_count": 1,
   "metadata": {},
   "outputs": [],
   "source": [
    "def computeCI(data, bsamples):\n",
    "    with futures.ProcessPoolExecutor(max_workers=2) as executor:\n",
    "        to_do = []\n",
    "        # the order does not matter, so to_do does not need to be a dict\n",
    "        for i in range(bsamples):\n",
    "            future = executor.submit(sample_to_statistic, data)\n",
    "            to_do.append(future)\n",
    "\n",
    "        results = []\n",
    "        for future in futures.as_completed(to_do):\n",
    "            results.append(future.result())\n",
    "\n",
    "    return getCI(results)"
   ]
  },
  {
   "cell_type": "markdown",
   "metadata": {},
   "source": [
    "Let's time the results using two cores:\n",
    "\n"
   ]
  },
  {
   "cell_type": "code",
   "execution_count": 1,
   "metadata": {},
   "outputs": [],
   "source": [
    "many_cores_time = {}\n",
    "for bsamples in tqdm_notebook([1, 5, 10, 50, 100, 200, 500, 1000]):\n",
    "    start = time.perf_counter()\n",
    "    ci = computeCI(test, bsamples)\n",
    "    stop = time.perf_counter()\n",
    "    many_cores_time[bsamples] = stop - start"
   ]
  },
  {
   "cell_type": "markdown",
   "metadata": {},
   "source": [
    "\n",
    "## Compare Results\n",
    "\n"
   ]
  },
  {
   "cell_type": "markdown",
   "metadata": {},
   "source": [
    "Let's save the results in a `DataFrame`:\n",
    "\n"
   ]
  },
  {
   "cell_type": "code",
   "execution_count": 1,
   "metadata": {},
   "outputs": [],
   "source": [
    "time_single = pd.DataFrame(data={'Single Core': list(single_core_time.values()),\n",
    "                                 'Two Cores': list(many_cores_time.values())},\n",
    "                           index=list(single_core_time.keys()))\n",
    "time_single"
   ]
  },
  {
   "cell_type": "markdown",
   "metadata": {},
   "source": [
    "We can now easily visualize the results:\n",
    "\n"
   ]
  },
  {
   "cell_type": "code",
   "execution_count": 1,
   "metadata": {},
   "outputs": [],
   "source": [
    "ax = time_single.plot(kind='line',\n",
    "                      marker='o',\n",
    "                      color=['black', 'green'],\n",
    "                      linewidth=0.5)\n",
    "ax.grid(True, linestyle='--', alpha=0.8)\n",
    "ax.set(xlabel='Samples', ylabel='Time (seconds)')"
   ]
  },
  {
   "cell_type": "markdown",
   "metadata": {},
   "source": [
    "\n",
    "## Scaling to the Full Sample\n",
    "\n"
   ]
  },
  {
   "cell_type": "markdown",
   "metadata": {},
   "source": [
    "The results indicate that using two cores instead of one reduces the total execution time in a significant amount.\n",
    "We can further reduce the execution time by running the code in a computer with more cores.\n",
    "We will discuss two options in detail in the next lecture.\n",
    "\n",
    "Based on the results in my laptop, it took about 40 seconds to finish computing the CI for 2 stocks on a single month.\n",
    "The full sample has 12 months and 12 stocks, so the code would take about 6\\*12\\*40 seconds, or about 48 minutes.\n",
    "This is using two cores.\n",
    "\n",
    "The only issue remaining has to do with concatenating the several dataframes to compute the quantiles.\n",
    "When we scale to the full sample, this might lead to memory issues.\n",
    "If we are working on a computer with limited resources, we will need to take that into consideration, and break the problem in pieces.\n",
    "If we use a computer with more resources, then the code as is should be fine.\n",
    "\n"
   ]
  },
  {
   "cell_type": "markdown",
   "metadata": {},
   "source": [
    "\n",
    "# Compiling Python\n",
    "\n"
   ]
  },
  {
   "cell_type": "markdown",
   "metadata": {},
   "source": [
    "The project [Numba](http://numba.pydata.org) provides a just-in-time compiler for Python.\n",
    "The idea of the project is to transform Python code into optimized machine code.\n",
    "It also supports parallelization.\n",
    "However, the project is limited to a subset of the core language and the NumPy package.\n",
    "This means that most of the code using Pandas will not be able to be converted.\n",
    "Numba is useful when you have code that is mainly based on Numpy.\n",
    "\n",
    "You can install Numba with `pip`:\n",
    "\n"
   ]
  },
  {
   "cell_type": "code",
   "execution_count": 1,
   "metadata": {},
   "outputs": [],
   "source": [
    "pip install numba"
   ]
  },
  {
   "cell_type": "markdown",
   "metadata": {},
   "source": [
    "The package provides a decorator `njit`.\n",
    "We use `njit` to make Numba try to compile a function into machine code.\n",
    "Consider a function designed to work in a single core.\n",
    "\n"
   ]
  },
  {
   "cell_type": "code",
   "execution_count": 1,
   "metadata": {},
   "outputs": [],
   "source": [
    "import numpy as np\n",
    "\n",
    "def comp_with_np(n):\n",
    "    X = np.random.random(size=(n, n))\n",
    "    return X.mean()"
   ]
  },
  {
   "cell_type": "markdown",
   "metadata": {},
   "source": [
    "Let's time its execution:\n",
    "\n"
   ]
  },
  {
   "cell_type": "code",
   "execution_count": 1,
   "metadata": {},
   "outputs": [],
   "source": [
    "import time\n",
    "\n",
    "start = time.perf_counter()\n",
    "mode = comp_with_np(10000)\n",
    "print(f\"Total Time: {time.perf_counter() - start:.2f} seconds\")"
   ]
  },
  {
   "cell_type": "markdown",
   "metadata": {},
   "source": [
    "We can now apply the `njit` decorator, which will attempt to compile the entire function into machine code.\n",
    "\n"
   ]
  },
  {
   "cell_type": "code",
   "execution_count": 1,
   "metadata": {},
   "outputs": [],
   "source": [
    "from numba import njit\n",
    "\n",
    "comp_with_np = njit(comp_with_np)"
   ]
  },
  {
   "cell_type": "markdown",
   "metadata": {},
   "source": [
    "We need to call the function once to have it be compiled.\n",
    "It is then stored in the memory, and the next time we want to use it, it will already be compiled.\n",
    "\n"
   ]
  },
  {
   "cell_type": "code",
   "execution_count": 1,
   "metadata": {},
   "outputs": [],
   "source": [
    "# compile with numba\n",
    "comp_with_np(100)"
   ]
  },
  {
   "cell_type": "code",
   "execution_count": 1,
   "metadata": {},
   "outputs": [],
   "source": [
    "start = time.perf_counter()\n",
    "ci = comp_with_np(10000)\n",
    "print(f\"Total Time: {time.perf_counter() - start:.2f} seconds\")"
   ]
  },
  {
   "cell_type": "markdown",
   "metadata": {},
   "source": [
    "While the project has its many merits, the functionality is very limited.\n",
    "To have your code compiled, you can only use the supported functions.\n",
    "If you are working with the common features of Numpy, then using Numba will possibly increase the speed of your scripts.\n",
    "If it does not work, then you already know how to do parallel processing.\n",
    "\n"
   ]
  }
 ],
 "metadata": {
  "kernelspec": {
   "display_name": "Python 3",
   "language": "python",
   "name": "python3"
  },
  "language_info": {
   "codemirror_mode": {
    "name": "ipython",
    "version": 3
   },
   "file_extension": ".py",
   "mimetype": "text/x-python",
   "name": "python",
   "nbconvert_exporter": "python",
   "pygments_lexer": "ipython3",
   "version": "3.7.4"
  },
  "org": null
 },
 "nbformat": 4,
 "nbformat_minor": 1
}
