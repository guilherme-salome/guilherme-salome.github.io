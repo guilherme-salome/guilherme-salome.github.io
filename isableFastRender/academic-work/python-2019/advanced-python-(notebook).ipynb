{
 "cells": [
  {
   "cell_type": "markdown",
   "metadata": {},
   "source": [
    "\n",
    "# Advanced Python\n",
    "\n"
   ]
  },
  {
   "cell_type": "markdown",
   "metadata": {},
   "source": [
    "\n",
    "# Creating New Classes\n",
    "\n"
   ]
  },
  {
   "cell_type": "markdown",
   "metadata": {},
   "source": [
    "A class is a blueprint to create new objects, and objects are responsible for storing data and functions together.\n",
    "Creating classes is an useful abstraction, as it allows us to use common patterns to simplify code.\n",
    "For example, in game theory a useful abstraction could be the player of the game.\n",
    "We can use a class to create such a player, add a state representing his utility, a method for computing his utility, a method for his possible actions, and so on.\n",
    "\n",
    "To create a class we use the following syntax:\n",
    "\n"
   ]
  },
  {
   "cell_type": "code",
   "execution_count": 1,
   "metadata": {},
   "outputs": [],
   "source": [
    "class ClassName:\n",
    "    # variables shared across all class instances\n",
    "    var1 = 'abc'\n",
    "    var2 = 123\n",
    "\n",
    "    # Constructor: function that is exectued\n",
    "    # when the class is instantiated\n",
    "    def __init__(self, input1):\n",
    "        # self represents the instance of the object\n",
    "\n",
    "        # create a variable for the instance, and store the value\n",
    "        # of args[0]\n",
    "        self.a = input1\n",
    "\n",
    "    # Method of the class\n",
    "    def printVariable(self):\n",
    "        # a method has access to all the variables of the\n",
    "        # class instance (the object) via the keyword self\n",
    "        print(self.a)\n",
    "    # The methods of a class almost always have self as the first input\n",
    "    # There are cases where the input will be cls, and there are cases\n",
    "    # where there will be no input. We will talk about this after the\n",
    "    # Decorator section.\n",
    "\n",
    "    def incrementVariable(self):\n",
    "        # a method can modify existing variables and create new ontes\n",
    "        self.a = self.a + 1\n",
    "        print(self.a)\n",
    "        self.b = 10*self.a\n",
    "\n",
    "    def computeSum(self):\n",
    "        return self.a + self.b\n",
    "\n",
    "    def createVariable(self, c):\n",
    "        self.c = c\n",
    "        return self.a + self.b + self.c\n",
    "\n",
    "    def printClassVariable(self):\n",
    "        print(self.var1, self.var2)"
   ]
  },
  {
   "cell_type": "markdown",
   "metadata": {},
   "source": [
    "We can now create an object instance from the blueprint `ClassName`.\n",
    "That is, we can instantiate `ClassName`:\n",
    "\n"
   ]
  },
  {
   "cell_type": "code",
   "execution_count": 1,
   "metadata": {},
   "outputs": [],
   "source": [
    "instance = ClassName(3.1415)\n",
    "# Use its methods\n",
    "instance.printVariable()\n",
    "instance.incrementVariable()\n",
    "print(instance.createVariable(14))\n",
    "instance.printClassVariable()\n",
    "# We can directly access the variables\n",
    "print(instance.a, instance.b, instance.c)\n",
    "print(instance.var1, instance.var2)"
   ]
  },
  {
   "cell_type": "markdown",
   "metadata": {},
   "source": [
    "All classes are based on the blueprint of an even more general abstract class.\n",
    "They inherit some attributes and methods from this abstract class.\n",
    "One attribute is named `__dict__`, which stores all of the variables in the instance.\n",
    "\n"
   ]
  },
  {
   "cell_type": "code",
   "execution_count": 1,
   "metadata": {},
   "outputs": [],
   "source": [
    "print(instance.__dict__)\n",
    "# It also has a method named __setattr__\n",
    "print(instance.__setattr__)\n",
    "# This method is what is used when we assign the value of a variable\n",
    "# using the symbol: =\n",
    "# All it does is update the variables in\n",
    "# the __dict__ with the new value.\n",
    "\n",
    "# We can see the other attributes and methods with dir\n",
    "dir(instance)"
   ]
  },
  {
   "cell_type": "markdown",
   "metadata": {},
   "source": [
    "\n",
    "# Creating a Class for Stock Prices\n",
    "\n"
   ]
  },
  {
   "cell_type": "markdown",
   "metadata": {},
   "source": [
    "Let's create a new class that will represent the stock of a company:\n",
    "\n"
   ]
  },
  {
   "cell_type": "code",
   "execution_count": 1,
   "metadata": {},
   "outputs": [],
   "source": [
    "import numpy as np\n",
    "import matplotlib.pyplot as plt\n",
    "\n",
    "\n",
    "# Create a new class to represent a Stock\n",
    "class Stock:\n",
    "    frequencies = ['1min', '5min']\n",
    "\n",
    "    def __init__(self, p0, sigma, mean=0.0, frequency='5min'):\n",
    "        \"\"\"\n",
    "        \"\"\"\n",
    "        # Validate inputs\n",
    "        if p0 < 0:\n",
    "            raise ValueError(\"Negative initial price.\")\n",
    "        if sigma <= 0:\n",
    "            raise ValueError(\"Non-positive price standard deviation.\")\n",
    "        if frequency not in frequencies:\n",
    "            raise ValueError(\n",
    "                f\"Invalid frequency. Choose: {', '.join(frequencies)}\")\n",
    "        # Initialize class instance variables:\n",
    "        # current log-price\n",
    "        self.p = np.log(p0)\n",
    "        # standard deviation of log-prices:\n",
    "        self.sigma = sigma\n",
    "        # average log-return\n",
    "        self.mu = mean\n",
    "        # set frequency of price updates\n",
    "        self.frequency = frequency\n",
    "        if frequency == '5min':\n",
    "            # there are 79 5-minutes intervals from 9:30 AM to 4 PM\n",
    "            self.delta = 1/79\n",
    "        elif frequency == '1min':\n",
    "            self.delta = 1/391\n",
    "        # history of log-prices\n",
    "        self.prices = [self.p]\n",
    "\n",
    "    def timeStep(self):\n",
    "        \"\"\"Updates the stock price as if a delta time unit had passed.\n",
    "        Log-prices are simulated from a Brownian motion:\n",
    "        p_t = p_{t-1} + mu*delta + sigma*sqrt(delta)*Normal\n",
    "        \"\"\"\n",
    "        trend = self.mu*self.delta\n",
    "        ret = trend + self.sigma*np.sqrt(self.delta)*np.random.normal()\n",
    "        self.p += ret\n",
    "        self.prices.append(self.p)\n",
    "\n",
    "    def timeSteps(self, total_steps):\n",
    "        \"\"\"Updates the stock price as if a number of time steps of size\n",
    "        delta had passed.\n",
    "        \"\"\"\n",
    "        for i in range(total_steps):\n",
    "            self.timeStep()\n",
    "\n",
    "    def getPrice(self):\n",
    "        return np.exp(self.p)\n",
    "\n",
    "    def printPrice(self):\n",
    "        print(f'Current stock price: US$ {np.exp(self.p)}')\n",
    "\n",
    "    def graphHistory(self):\n",
    "        fig, ax = plt.subplots()\n",
    "        ax.plot(range(len(self.prices)), np.exp(self.prices),\n",
    "                color='black', linewidth=0.5)\n",
    "        ax.set(title='Evolution of Stock Price',\n",
    "               xlabel=f'Time (in {self.frequency} intervals)',\n",
    "               ylabel=r'Price (in US$)')\n",
    "        current_price = ax.scatter(len(self.prices), np.exp(self.p),\n",
    "                                   marker='o', s=100)\n",
    "        if self.p > self.prices[0]:\n",
    "            current_price.set_color('green')\n",
    "        else:\n",
    "            current_price.set_color('red')\n",
    "        ax.grid(True)\n",
    "        ax.set_xlim(left=0)\n",
    "        fig.show()"
   ]
  },
  {
   "cell_type": "code",
   "execution_count": 1,
   "metadata": {},
   "outputs": [],
   "source": [
    "spy = Stock(296.46, 0.011)\n",
    "spy.printPrice()\n",
    "spy.timeStep()\n",
    "spy.printPrice()\n",
    "spy.timeSteps(79*252)\n",
    "spy.printPrice()\n",
    "spy.graphHistory()"
   ]
  },
  {
   "cell_type": "markdown",
   "metadata": {},
   "source": [
    "\n",
    "# Underscores and Dunders in Names\n",
    "\n"
   ]
  },
  {
   "cell_type": "markdown",
   "metadata": {},
   "source": [
    "In a some of the examples, you saw the following attributes:\n",
    "\n"
   ]
  },
  {
   "cell_type": "code",
   "execution_count": 1,
   "metadata": {},
   "outputs": [],
   "source": [
    "spy.__dict__\n",
    "spy.__class__\n",
    "spy.__doc__"
   ]
  },
  {
   "cell_type": "markdown",
   "metadata": {},
   "source": [
    "The attributes use underscores in their names.\n",
    "It turns out the use of underscores in the names of variables has meaning.\n",
    "Underscores can be used in 5 different ways:\n",
    "\n",
    "1.  Single Underscore Leading the Variable Name: `_var`\n",
    "2.  Single Underscore Trailing the Variable Name: `var_`\n",
    "3.  Double Underscore Leading the Variable Name: `__var`\n",
    "4.  Double Underscore Leading and Trailing the Variable Name: `__var__`\n",
    "5.  Single Underscore by Itself: `_`\n",
    "\n",
    "Let's explore each of the use cases.\n",
    "\n"
   ]
  },
  {
   "cell_type": "markdown",
   "metadata": {},
   "source": [
    "\n",
    "## Single Underscore Leading the Variable Name: `_var`\n",
    "\n"
   ]
  },
  {
   "cell_type": "markdown",
   "metadata": {},
   "source": [
    "The `_var` type of naming is a convention (specified in PEP8) used by Python programmers to indicate that the variable (or method) is meant for internal use only.\n",
    "That is, whatever is associated with `_var` (an attribute or a method) should only be used by functions inside the class that defined it, and is not meant to be accessed directly outside the class definition.\n",
    "It is only a convention, so it is not enforced by the interpreter.\n",
    "However, if you see a variable named this way, you should avoid messing with it since it might be used internally in the class for other things.\n",
    "\n"
   ]
  },
  {
   "cell_type": "code",
   "execution_count": 1,
   "metadata": {},
   "outputs": [],
   "source": [
    "class SingleUnderscoreLeading:\n",
    "    def __init__(self):\n",
    "        self.name = \"ABC\"\n",
    "        self._private = \"DEF\"\n",
    "\n",
    "    def _internal_function(self):\n",
    "        self._private += \"GHI\"\n",
    "\n",
    "\n",
    "x = SingleUnderscoreLeading()\n",
    "print(x.name)\n",
    "print(x._private)\n",
    "print(x._internal_function())"
   ]
  },
  {
   "cell_type": "markdown",
   "metadata": {},
   "source": [
    "\n",
    "## Single Underscore Trailing the Variable Name: `var_`\n",
    "\n"
   ]
  },
  {
   "cell_type": "markdown",
   "metadata": {},
   "source": [
    "The use of a trailing underscore in the name of a variable is when you need to give a name to a variable, but that name is already taken by a keyword in Python.\n",
    "\n"
   ]
  },
  {
   "cell_type": "code",
   "execution_count": 1,
   "metadata": {},
   "outputs": [],
   "source": [
    "class Asset:\n",
    "    def __init__(self, type_):\n",
    "        # type is a keyword, so use type_ instead\n",
    "        self.type_ = type_\n",
    "        # type of the asset: Stock, Option, Debenture, ..."
   ]
  },
  {
   "cell_type": "markdown",
   "metadata": {},
   "source": [
    "This is also a convention and is specified in PEP8.\n",
    "\n"
   ]
  },
  {
   "cell_type": "markdown",
   "metadata": {},
   "source": [
    "\n",
    "## Double Underscore Leading the Variable Name: `__var`\n",
    "\n"
   ]
  },
  {
   "cell_type": "markdown",
   "metadata": {},
   "source": [
    "The use of a double underscore at the beginning of a variable makes the Python interpreter to change the name of the variable (attribute or method) when the class is instantiated.\n",
    "The change of names is called <span class=\"underline\">name mangling</span>, and it serves two purposes:\n",
    "\n",
    "-   Making the variable harder to access outside of the class definition. This is similar to the case of `_var`, but now it is actually enforced by the Python interpreter.\n",
    "-   Making it easier to avoid name conflicts if you use this class as a base for another class (subclass). If your class and subclass have many variables, it can be easy to have naming conflicts, so name mangling helps avoid that.\n",
    "\n",
    "Example:\n",
    "\n"
   ]
  },
  {
   "cell_type": "code",
   "execution_count": 1,
   "metadata": {},
   "outputs": [],
   "source": [
    "class NameMangling:\n",
    "    def __init__(self):\n",
    "        self.a = 1\n",
    "        self._b = 2\n",
    "        self.__c = 3\n",
    "\n",
    "test = NameMangling()\n",
    "print(test.a)\n",
    "print(test._b)\n",
    "print(test.__c)                 # no attribute named __c\n",
    "# of course, the __c name was mangled\n",
    "dir(test)\n",
    "# __c was substituted by _NameMangling__c\n",
    "# It uses a single leading _, indicating it is reserved\n",
    "# for internal use only.\n",
    "# But, we can access it outside of the class if we\n",
    "# really want (although we shouldn't).\n",
    "print(test._NameMangling__c)"
   ]
  },
  {
   "cell_type": "markdown",
   "metadata": {},
   "source": [
    "The object's methods can access the variables without any issues:\n",
    "\n"
   ]
  },
  {
   "cell_type": "code",
   "execution_count": 1,
   "metadata": {},
   "outputs": [],
   "source": [
    "class ManglingAMethod:\n",
    "    def __init__(self):\n",
    "        self.a = 1\n",
    "        self._step_size = 2\n",
    "\n",
    "    def __increase(self):\n",
    "        self.a += self._step_size\n",
    "\n",
    "    def increase(self, total_steps=1):\n",
    "        for i in range(total_steps):\n",
    "            self.__increase()\n",
    "\n",
    "\n",
    "test = ManglingAMethod()\n",
    "print(test.a)\n",
    "test.__increase()               # no attribute __increase\n",
    "print(test.a)\n",
    "test.increase()\n",
    "print(test.a)\n",
    "test.increase(5)\n",
    "print(test.a)\n",
    "dir(test)\n",
    "# although the name was mangled after the class is instantiated\n",
    "# the methods of the class can access it normally"
   ]
  },
  {
   "cell_type": "markdown",
   "metadata": {},
   "source": [
    "\n",
    "## Double Underscore Leading and Trailing the Variable Name: `__var__`\n",
    "\n"
   ]
  },
  {
   "cell_type": "markdown",
   "metadata": {},
   "source": [
    "Variable names with double underscores are known as dunders, where dunder stands for double underscore.\n",
    "For example the `__init__` method of a class is a dunder method.\n",
    "\n",
    "Names with double underscores do not go through name mangling.\n",
    "However, they have a special meaning in the Python language.\n",
    "These dunder variables define special operations in Python.\n",
    "For example, `__init__` defines the class constructor, `__doc__` stores the class documentation, `__setattr__` defines what the `=` operator should do, and so on.\n",
    "There are several of these dunder attributes and they are all discussed in the [Python data model page](https://docs.python.org/3/reference/datamodel.html#basic-customization).\n",
    "We will discuss a few of them in the next section.\n",
    "\n",
    "You should avoid defining <span class=\"underline\">new</span> attributes of a class using double underscores, since they can be used by Python in a special way.\n",
    "Even if they are not being used right now, in the future something might be changed in the language specification and the name you used could start having a special meaning.\n",
    "\n"
   ]
  },
  {
   "cell_type": "markdown",
   "metadata": {},
   "source": [
    "\n",
    "## Single Underscore by Itself: `_`\n",
    "\n"
   ]
  },
  {
   "cell_type": "markdown",
   "metadata": {},
   "source": [
    "A single underscore is actually used outside of the context of classes and objects.\n",
    "It is used to represent some output of a function that we do not care about.\n",
    "Say you have a function that returns two outputs, but you do not care about the second output.\n",
    "Then, when you unpacked the function results, you would use `_` to store the value you do not care about.\n",
    "In other words, `_` represents throwaway values.\n",
    "Example:\n",
    "\n"
   ]
  },
  {
   "cell_type": "code",
   "execution_count": 1,
   "metadata": {},
   "outputs": [],
   "source": [
    "def foo(x):\n",
    "    return x**2, np.sqrt(x)\n",
    "\n",
    "\n",
    "# We only want the 1st output\n",
    "a = foo(4)\n",
    "# but a function will always return all of its outputs in a tuple\n",
    "# We can use tuple unpacking\n",
    "a, b = foo(4)\n",
    "# Say we do not really care about b, then substitute it for _\n",
    "a, _ = foo(4)\n",
    "# Or, if we do not care about the value of a, then we substitute it for _\n",
    "_, b = foo(4)\n",
    "\n",
    "\n",
    "person = ('First Name', 'Last Name', 29, 0.0)\n",
    "_, last_name, age, _ = person\n",
    "print(last_name, age)\n",
    "print(_)"
   ]
  },
  {
   "cell_type": "markdown",
   "metadata": {},
   "source": [
    "The `_` indicates values that we do not have an use for, and serves as a temporary variable.\n",
    "In some REPLs, `_` also represents the result of the last expression evaluated and that was not assigned a name.\n",
    "\n"
   ]
  },
  {
   "cell_type": "markdown",
   "metadata": {},
   "source": [
    "\n",
    "# Special Methods\n",
    "\n"
   ]
  },
  {
   "cell_type": "markdown",
   "metadata": {},
   "source": [
    "We will now explore some of the dunder methods of a class in more detail.\n",
    "\n"
   ]
  },
  {
   "cell_type": "markdown",
   "metadata": {},
   "source": [
    "\n",
    "## The `__len__` method\n",
    "\n"
   ]
  },
  {
   "cell_type": "markdown",
   "metadata": {},
   "source": [
    "When we create a list in Python, we can use the function `len` to get its length.\n",
    "Remember that everything in Python is an object, including lists.\n",
    "When we call `len` on an object, the object instance will look for the method `__len__` and execute, and then return its value.\n",
    "If the dunder method `__len__` is not implemented, it will lead to an exception.\n",
    "\n"
   ]
  },
  {
   "cell_type": "code",
   "execution_count": 1,
   "metadata": {},
   "outputs": [],
   "source": [
    "a = [1, 2, 3]\n",
    "print(len(a))\n",
    "dir(a)\n",
    "print(a.__len__())\n",
    "\n",
    "\n",
    "class MyList:\n",
    "    def __init__(self, *values):\n",
    "        self.values = list(values)\n",
    "\n",
    "\n",
    "a = MyList(1, 2, 3, 4, 5)\n",
    "a.values\n",
    "# Try to find the length of the object a:\n",
    "len(a)\n",
    "# error, because there is no __length__ method implemented\n",
    "\n",
    "\n",
    "class MyList:\n",
    "    def __init__(self, *values):\n",
    "        self.values = list(values)\n",
    "\n",
    "    def __len__(self):\n",
    "        # len is implemented for the list type, which is self.values\n",
    "        return len(self.values)\n",
    "\n",
    "\n",
    "a = MyList(1, 2, 3, 4, 5)\n",
    "print(len(a))"
   ]
  },
  {
   "cell_type": "markdown",
   "metadata": {},
   "source": [
    "\n",
    "## The `__bool__` method\n",
    "\n"
   ]
  },
  {
   "cell_type": "markdown",
   "metadata": {},
   "source": [
    "The `__bool__` method is responsible for returning a boolean when we evaluate an object in the `if` context, or when we call the built-in `bool` on the object:\n",
    "\n"
   ]
  },
  {
   "cell_type": "code",
   "execution_count": 1,
   "metadata": {},
   "outputs": [],
   "source": [
    "bool([])\n",
    "bool([1, 2, 3])\n",
    "\n",
    "\n",
    "class Answer:\n",
    "    def __init__(self):\n",
    "        self.answer = input(\"What do monkeys eat? \")\n",
    "\n",
    "    def __bool__(self):\n",
    "        if self.answer in set([\"Bananas\", \"bananas\", \"BANANAS!!!!\"]):\n",
    "            return True\n",
    "        else:\n",
    "            return False\n",
    "\n",
    "\n",
    "my_answer = Answer(\"bananas\")\n",
    "print(bool(my_answer))\n",
    "my_answer = Answer(\"apples\")\n",
    "print(bool(my_answer))"
   ]
  },
  {
   "cell_type": "markdown",
   "metadata": {},
   "source": [
    "\n",
    "## The `__call__` method\n",
    "\n"
   ]
  },
  {
   "cell_type": "markdown",
   "metadata": {},
   "source": [
    "The `__call__` method is what makes an object callable.\n",
    "That is, the object instance can be behave as a function.\n",
    "\n"
   ]
  },
  {
   "cell_type": "code",
   "execution_count": 1,
   "metadata": {},
   "outputs": [],
   "source": [
    "class PutOption:\n",
    "    def __init__(self, stock_price, sigma, strike, tenor):\n",
    "        # Validate inputs\n",
    "        if stock_price <= 0:\n",
    "            raise ValueError(\"Stock price must be positive.\")\n",
    "        if sigma <= 0:\n",
    "            raise ValueError(\"Standard deviation must be positive.\")\n",
    "        if strike <= 0:\n",
    "            raise ValueError(\"Strike price must be positive.\")\n",
    "        if tenor <= 0:\n",
    "            raise ValueError(\n",
    "                \"Time to expiration (in days) must be positive.\")\n",
    "        # Underlying asset\n",
    "        self.underlying = Stock(stock_price, sigma, frequency='5min')\n",
    "        # Strike price\n",
    "        self.strike = np.float(strike)\n",
    "        # Time to expiration in days\n",
    "        self.tenor = tenor\n",
    "\n",
    "    def __payoff(self, price):\n",
    "        return np.max((0, self.strike - price))\n",
    "\n",
    "    def getPayoff(self):\n",
    "        # Simulate stock price\n",
    "        self.underlying.timeSteps(self.tenor*79)\n",
    "        # Return option payoff\n",
    "        return self.__payoff(self.underlying.getPrice())\n",
    "\n",
    "    def __call__(self):\n",
    "        \"\"\"Simulates stock price and returns payoff.\"\"\"\n",
    "        return self.getPayoff()\n",
    "\n",
    "\n",
    "put = PutOption(200, 0.011, 220, 30)\n",
    "put()"
   ]
  },
  {
   "cell_type": "markdown",
   "metadata": {},
   "source": [
    "\n",
    "## The `__repr__` and `__str__` methods\n",
    "\n"
   ]
  },
  {
   "cell_type": "markdown",
   "metadata": {},
   "source": [
    "The `__repr__` method is used when we inspect an object on the REPL, or when we call the built-in `repr` on an object.\n",
    "The `__str__` method is used when we call `print` on the object. The `print` function calls `str` on the object, which gives us the result of the object's `__str__` method.\n",
    "The differences are discussed below:\n",
    "\n"
   ]
  },
  {
   "cell_type": "code",
   "execution_count": 1,
   "metadata": {},
   "outputs": [],
   "source": [
    "x = [1, 2, 3]\n",
    "x                               # or repr(x)\n",
    "# what about print?\n",
    "print(x)                        # calls str(x)\n",
    "y = {'a': 1, 'b': 2}\n",
    "repr(y)\n",
    "print(y)"
   ]
  },
  {
   "cell_type": "markdown",
   "metadata": {},
   "source": [
    "`repr` is used to give an unambiguous representation of the object.\n",
    "In the case of simple objects, `repr` and `str` coincide.\n",
    "`str` is used to give a human readable representation of the object\n",
    "\n",
    "Consider a more complicated object:\n",
    "\n"
   ]
  },
  {
   "cell_type": "code",
   "execution_count": 1,
   "metadata": {},
   "outputs": [],
   "source": [
    "import datetime\n",
    "# Get a date object representing today's date\n",
    "today = datetime.date.today()\n",
    "# print will give a readable representation of the object:\n",
    "str(today)\n",
    "# but repr will give an unambiguous representation of the object\n",
    "repr(today)\n",
    "# notice that repr basically returns the way we construct the object\n",
    "# indeed:\n",
    "today = datetime.date(2019, 7, 9)\n",
    "print(today)"
   ]
  },
  {
   "cell_type": "markdown",
   "metadata": {},
   "source": [
    "We can define the `__repr__` and `__str__` methods ourselves:\n",
    "\n"
   ]
  },
  {
   "cell_type": "code",
   "execution_count": 1,
   "metadata": {},
   "outputs": [],
   "source": [
    "class PutOption:\n",
    "    def __init__(self, stock_price, sigma, strike, tenor):\n",
    "        # Validate inputs\n",
    "        if stock_price <= 0:\n",
    "            raise ValueError(\"Stock price must be positive.\")\n",
    "        if sigma <= 0:\n",
    "            raise ValueError(\"Standard deviation must be positive.\")\n",
    "        if strike <= 0:\n",
    "            raise ValueError(\"Strike price must be positive.\")\n",
    "        if tenor <= 0:\n",
    "            raise ValueError(\n",
    "                \"Time to expiration (in days) must be positive.\")\n",
    "        # Underlying asset\n",
    "        self.stock_price = stock_price\n",
    "        self.sigma = sigma\n",
    "        self.frequency = '5min'\n",
    "        self.underlying = Stock(stock_price,\n",
    "                                sigma,\n",
    "                                frequency=self.frequency)\n",
    "        # Strike price\n",
    "        self.strike = np.float(strike)\n",
    "        # Time to expiration in days\n",
    "        self.tenor = tenor\n",
    "\n",
    "    def __payoff(self, price):\n",
    "        return np.max((0, self.strike - price))\n",
    "\n",
    "    def getPayoff(self):\n",
    "        # Simulate stock price\n",
    "        self.underlying.timeSteps(self.tenor*79)\n",
    "        # Return option payoff\n",
    "        return self.__payoff(self.underlying.getPrice())\n",
    "\n",
    "    def __call__(self):\n",
    "        \"\"\"Simulates stock price and returns payoff.\"\"\"\n",
    "        return self.getPayoff()\n",
    "\n",
    "    def __repr__(self):\n",
    "        return (f\"PutOption({self.stock_price}, {self.sigma}\"\n",
    "                f\", {self.strike}, {self.tenor})\")\n",
    "\n",
    "    def __str__(self):\n",
    "        return (f\"PutOption: Strike=US${self.stock_price}, \"\n",
    "                f\"Tenor={self.tenor} days\")\n",
    "\n",
    "\n",
    "put = PutOption(200, 0.011, 220, 30)\n",
    "repr(put)\n",
    "str(put)"
   ]
  },
  {
   "cell_type": "markdown",
   "metadata": {},
   "source": [
    "\n",
    "# Decorators\n",
    "\n"
   ]
  },
  {
   "cell_type": "markdown",
   "metadata": {},
   "source": [
    "[Decorators](https://www.python.org/dev/peps/pep-0318/) are used to modify callables (like functions, methods or classes), but without permanently changing them.\n",
    "That is, decorators perform local changes to a callable.\n",
    "\n"
   ]
  },
  {
   "cell_type": "markdown",
   "metadata": {},
   "source": [
    "\n",
    "## Input Validation\n",
    "\n"
   ]
  },
  {
   "cell_type": "markdown",
   "metadata": {},
   "source": [
    "In the classes above we did some data validation.\n",
    "It is common to have several functions where you need to validate inputs (or perform assertions) that are very similar.\n",
    "For example:\n",
    "\n"
   ]
  },
  {
   "cell_type": "code",
   "execution_count": 1,
   "metadata": {},
   "outputs": [],
   "source": [
    "def ols(x, y):\n",
    "    if x.shape[0] != y.shape[0]:\n",
    "        raise ValueError(\"Number of rows must match for x and y\")\n",
    "    if x.shape[0] < x.shape[1]:\n",
    "        raise ValueError(\n",
    "            \"x: Need more observations than charactersitics.\")\n",
    "    # estimate ols\n",
    "    # return estimates\n",
    "    return\n",
    "\n",
    "\n",
    "def probit(x, y):\n",
    "    if x.shape[0] != y.shape[0]:\n",
    "        raise ValueError(\"Number of rows must match for x and y\")\n",
    "    if x.shape[0] < x.shape[1]:\n",
    "        raise ValueError(\n",
    "            \"x: Need more observations than charactersitics.\")\n",
    "    # estimate probit\n",
    "    # return estimates\n",
    "    return\n",
    "\n",
    "\n",
    "def logit(x, y):\n",
    "   if x.shape[0] != y.shape[0]:\n",
    "        raise ValueError(\"Number of rows must match for x and y\")\n",
    "    if x.shape[0] < x.shape[1]:\n",
    "        raise ValueError(\n",
    "            \"x: Need more observations than charactersitics.\")\n",
    "    # estimate logit\n",
    "    # return estimates\n",
    "    return\n",
    "\n",
    "\n",
    "x = np.random.random((5, 2))\n",
    "y = np.random.random((5, 1))\n",
    "ols(x, y)\n",
    "x = np.random.random((4, 2))\n",
    "ols(x, y)\n",
    "x = np.random.random((2, 5))\n",
    "ols(x, y)"
   ]
  },
  {
   "cell_type": "markdown",
   "metadata": {},
   "source": [
    "We repeated ourselves in the code above.\n",
    "There is a common pattern of validation that we should be able to simplify.\n",
    "For example, we could have one function that validates the input:\n",
    "\n"
   ]
  },
  {
   "cell_type": "code",
   "execution_count": 1,
   "metadata": {},
   "outputs": [],
   "source": [
    "def validateRegressionInput(x, y):\n",
    "    if x.shape[0] != y.shape[0]:\n",
    "        raise ValueError(\"Number of rows must match for x and y\")\n",
    "    if x.shape[0] < x.shape[1]:\n",
    "        raise ValueError(\n",
    "            \"x: Need more observations than charactersitics.\")\n",
    "    return True\n",
    "\n",
    "\n",
    "def ols(x, y):\n",
    "    if validateRegressionInput(x, y):\n",
    "        # estimate ols\n",
    "        # return estimates\n",
    "    return\n",
    "\n",
    "\n",
    "def probit(x, y):\n",
    "    if validateRegressionInput(x, y):\n",
    "        # estimate probit\n",
    "        # return estimates\n",
    "    return\n",
    "\n",
    "\n",
    "def logit(x, y):\n",
    "    if validateRegressionInput(x, y):\n",
    "        # estimate logit\n",
    "        # return estimates\n",
    "    return"
   ]
  },
  {
   "cell_type": "markdown",
   "metadata": {},
   "source": [
    "Now our functions are much cleaner and do input validation without repeating code.\n",
    "An alternative solution is to wrap the functions in another function which performs the validation.\n",
    "That is, create a function that returns a function, and this new function will do input validation before estimating the regression:\n",
    "\n"
   ]
  },
  {
   "cell_type": "code",
   "execution_count": 1,
   "metadata": {},
   "outputs": [],
   "source": [
    "def validateRegressionInput(func):\n",
    "    def functionWithValidatedInput(x, y):\n",
    "        if x.shape[0] != y.shape[0]:\n",
    "            raise ValueError(\"Number of rows must match for x and y\")\n",
    "        if x.shape[0] < x.shape[1]:\n",
    "            raise ValueError(\n",
    "                \"x: Need more observations than charactersitics.\")\n",
    "        return func(x, y)\n",
    "    return functionWithValidatedInput"
   ]
  },
  {
   "cell_type": "markdown",
   "metadata": {},
   "source": [
    "The function `validateRegressionInput` is a functional in the math sense.\n",
    "That is, we pass it a function, and it returns a new function.\n",
    "Observe that this new function takes the same inputs as the original function: x and y.\n",
    "However, the function returned by `validateRegressionInput` also validates the inputs.\n",
    "After validating the inputs, the original function is called (here represented by `func`).\n",
    "`func` is called with the inputs x and y, and it returns the value of `func(x, y)`.\n",
    "\n",
    "`validateRegressionInput` takes a function and returns a similar function that has been extended to do input validation:\n",
    "\n"
   ]
  },
  {
   "cell_type": "code",
   "execution_count": 1,
   "metadata": {},
   "outputs": [],
   "source": [
    "# We can now define our functions\n",
    "def ols(x, y):\n",
    "    # estimate ols\n",
    "    # return estimates\n",
    "    return\n",
    "\n",
    "\n",
    "# Now we call the functional validateRegressionInput to get back an extended version\n",
    "# of ols, where the input is validated!\n",
    "ols = validateRegressionInput(ols)\n",
    "\n",
    "\n",
    "def probit(x, y):\n",
    "    # estimate probit\n",
    "    # return estimates\n",
    "    return\n",
    "\n",
    "\n",
    "probit = validateRegressionInput(probit)\n",
    "\n",
    "\n",
    "def logit(x, y):\n",
    "    # estimate logit\n",
    "    # return estimates\n",
    "    return\n",
    "\n",
    "\n",
    "logit = validateRegressionInput(logit)\n",
    "\n",
    "\n",
    "x = np.random.random((5, 7))\n",
    "y = np.random.random(5)\n",
    "logit(x, y)"
   ]
  },
  {
   "cell_type": "markdown",
   "metadata": {},
   "source": [
    "Here we see a common pattern: create a function and then modify it.\n",
    "Now, Python has a syntax for this pattern, and this syntax is called the decorators syntax.\n",
    "A decorator is a function that returns another function, just like `validateRegressionInput` in the example above.\n",
    "We can then decorate other functions with this decorator, that is, extend other functions with the decorator.\n",
    "\n"
   ]
  },
  {
   "cell_type": "code",
   "execution_count": 1,
   "metadata": {},
   "outputs": [],
   "source": [
    "# THIS:\n",
    "def ols(x, y):\n",
    "    # estimate ols\n",
    "    # return estimates\n",
    "    return\n",
    "\n",
    "\n",
    "ols = validateRegressionInput(ols)\n",
    "\n",
    "# IS EQUIVALENT TO:\n",
    "@validateRegressionInput\n",
    "def ols(x, y):\n",
    "    # estimate ols\n",
    "    # return estimates\n",
    "    return\n",
    "\n",
    "\n",
    "x = np.random.random((5, 2))\n",
    "y = np.random.random(5)\n",
    "ols(x, y)\n",
    "y = np.random.random(6)\n",
    "ols(x, y)"
   ]
  },
  {
   "cell_type": "markdown",
   "metadata": {},
   "source": [
    "\n",
    "## Timing Execution\n",
    "\n"
   ]
  },
  {
   "cell_type": "markdown",
   "metadata": {},
   "source": [
    "Consider a scenario where you have four different functions to compute some task, and you would like to know which is faster.\n",
    "\n"
   ]
  },
  {
   "cell_type": "code",
   "execution_count": 1,
   "metadata": {},
   "outputs": [],
   "source": [
    "import random\n",
    "import math\n",
    "import numpy as np\n",
    "\n",
    "\n",
    "def f1(sample_size):\n",
    "    sample = []\n",
    "    for i in range(sample_size):\n",
    "        sample.append(random.gauss(0, 1))\n",
    "    return sum(sample)/len(sample)\n",
    "\n",
    "\n",
    "def f2(sample_size):\n",
    "    sample = []\n",
    "    for i in range(sample_size):\n",
    "        sample.append(random.gauss(0, 1))\n",
    "    return math.fsum(sample)/len(sample)\n",
    "\n",
    "def f3(sample_size):\n",
    "    sample = [random.gauss(0, 1) for _ in range(sample_size)]\n",
    "    return math.fsum(sample)/len(sample)\n",
    "\n",
    "\n",
    "def f4(sample_size):\n",
    "    sample = np.random.normal(size=(sample_size))\n",
    "    return sample.mean()"
   ]
  },
  {
   "cell_type": "markdown",
   "metadata": {},
   "source": [
    "Notice the use of the built-in [`random`](https://docs.python.org/3/library/random.html) package for generating random numbers, and the use of the built-in [`math`](https://docs.python.org/3/library/math.html) package and its function `fsum` to accurately compute the sum of the list of numbers (more accurate than `sum` in terms of numerical errors).\n",
    "\n",
    "We can time the execution of functions with the functions from the built-in [`time`](https://docs.python.org/3/library/time.html) module.\n",
    "\n"
   ]
  },
  {
   "cell_type": "code",
   "execution_count": 1,
   "metadata": {},
   "outputs": [],
   "source": [
    "import time\n",
    "# Get a value measured in seconds of a \"performance counter\"\n",
    "# (a clock with a good resolution for measuring time)\n",
    "start = time.perf_counter()\n",
    "# The number itself does not mean anything, we need to compare\n",
    "# it to the stop.\n",
    "# time to get the elapsed time in seconds\n",
    "stop = time.perf_counter()\n",
    "print(f\"Elapsed time: {stop - start: .4f} seconds\")"
   ]
  },
  {
   "cell_type": "markdown",
   "metadata": {},
   "source": [
    "Let's use `time.perf_counter` to build a decorator for measuring the execution time of a function:\n",
    "\n"
   ]
  },
  {
   "cell_type": "code",
   "execution_count": 1,
   "metadata": {},
   "outputs": [],
   "source": [
    "def time_this(func):\n",
    "    def wrapper(sample_size):\n",
    "        start = time.perf_counter()\n",
    "        results = func(sample_size)\n",
    "        stop = time.perf_counter()\n",
    "        print(f\"Elapsed time: {stop - start: .4f} seconds\")\n",
    "        return results\n",
    "    return wrapper"
   ]
  },
  {
   "cell_type": "markdown",
   "metadata": {},
   "source": [
    "We can decorate the functions we want to time, and when we call them, the time will be printed automatically.\n",
    "\n"
   ]
  },
  {
   "cell_type": "code",
   "execution_count": 1,
   "metadata": {},
   "outputs": [],
   "source": [
    "@time_this\n",
    "def f1(sample_size):\n",
    "    sample = []\n",
    "    for i in range(sample_size):\n",
    "        sample.append(random.gauss(0, 1))\n",
    "    return sum(sample)/len(sample)\n",
    "\n",
    "\n",
    "@time_this\n",
    "def f2(sample_size):\n",
    "    sample = []\n",
    "    for i in range(sample_size):\n",
    "        sample.append(random.gauss(0, 1))\n",
    "    return math.fsum(sample)/len(sample)\n",
    "\n",
    "\n",
    "@time_this\n",
    "def f3(sample_size):\n",
    "    sample = [random.gauss(0, 1) for _ in range(sample_size)]\n",
    "    return math.fsum(sample)/len(sample)\n",
    "\n",
    "\n",
    "@time_this\n",
    "def f4(sample_size):\n",
    "    sample = np.random.normal(size=(sample_size))\n",
    "    return sample.mean()\n",
    "\n",
    "\n",
    "for f in [f1, f2, f3, f4]:\n",
    "    f(10000)"
   ]
  },
  {
   "cell_type": "markdown",
   "metadata": {},
   "source": [
    "We can modify the decorator so that it tells us which function is being executed:\n",
    "\n"
   ]
  },
  {
   "cell_type": "code",
   "execution_count": 1,
   "metadata": {},
   "outputs": [],
   "source": [
    "def time_this(func):\n",
    "    def wrapper(sample_size):\n",
    "        start = time.perf_counter()\n",
    "        results = func(sample_size)\n",
    "        stop = time.perf_counter()\n",
    "        print(f\"Function: {func.__name__}\")\n",
    "        print(f\"Elapsed time: {stop - start: .4f} seconds\")\n",
    "        return results\n",
    "    return wrapper\n",
    "\n",
    "\n",
    "@time_this\n",
    "def f1(sample_size):\n",
    "    sample = []\n",
    "    for i in range(sample_size):\n",
    "        sample.append(random.gauss(0, 1))\n",
    "    return sum(sample)/len(sample)\n",
    "\n",
    "\n",
    "@time_this\n",
    "def f2(sample_size):\n",
    "    sample = []\n",
    "    for i in range(sample_size):\n",
    "        sample.append(random.gauss(0, 1))\n",
    "    return math.fsum(sample)/len(sample)\n",
    "\n",
    "@time_this\n",
    "def f3(sample_size):\n",
    "    sample = [random.gauss(0, 1) for _ in range(sample_size)]\n",
    "    return math.fsum(sample)/len(sample)\n",
    "\n",
    "\n",
    "@time_this\n",
    "def f4(sample_size):\n",
    "    sample = np.random.normal(size=(sample_size))\n",
    "    return sample.mean()\n",
    "\n",
    "\n",
    "for f in [f1, f2, f3, f4]:\n",
    "    f(10000)"
   ]
  },
  {
   "cell_type": "markdown",
   "metadata": {},
   "source": [
    "\n",
    "## Multiple Decorators\n",
    "\n"
   ]
  },
  {
   "cell_type": "markdown",
   "metadata": {},
   "source": [
    "We can use multiple decorators to decorate a function.\n",
    "Since each decorator returns a function, we can chain more than one, and, at the end, we will still have a function.\n",
    "\n"
   ]
  },
  {
   "cell_type": "code",
   "execution_count": 1,
   "metadata": {},
   "outputs": [],
   "source": [
    "def capitalize_all(func):\n",
    "    def wrapper(name):\n",
    "        return func(name.upper())\n",
    "    return wrapper\n",
    "\n",
    "\n",
    "def yell(func):\n",
    "    def wrapper(name):\n",
    "        greeting = func(name)\n",
    "        return f\"{greeting}!!!!!!!!!!!!!!!!!!!!!!!\"\n",
    "    return wrapper\n",
    "\n",
    "\n",
    "@capitalize_all\n",
    "def greet(name):\n",
    "    return f\"Hello, {name:s}!\"\n",
    "\n",
    "\n",
    "greet(\"Everyone\")\n",
    "\n",
    "\n",
    "@yell\n",
    "@capitalize_all\n",
    "def greet(name):\n",
    "    return f\"Hello, {name:s}!\"\n",
    "\n",
    "\n",
    "greet(\"Everyone\")"
   ]
  },
  {
   "cell_type": "markdown",
   "metadata": {},
   "source": [
    "\n",
    "## Decorating Functions that Have Many Arguments\n",
    "\n"
   ]
  },
  {
   "cell_type": "markdown",
   "metadata": {},
   "source": [
    "We can use the `*args` and `**kwargs` notations to deal with functions of many arguments:\n",
    "\n"
   ]
  },
  {
   "cell_type": "code",
   "execution_count": 1,
   "metadata": {},
   "outputs": [],
   "source": [
    "# Create a decorator for a function that can take many input arugments\n",
    "def decorator(func):\n",
    "    def wrapper(*args, **kwargs):\n",
    "        return func(*args, **kwargs)\n",
    "    return wrapper"
   ]
  },
  {
   "cell_type": "markdown",
   "metadata": {},
   "source": [
    "Remember that `*args` collects all positional inputs and stores them in the tuple `args`, which is available inside the `wrapper` function.\n",
    "And `**kwargs` collects all keyword arguments and stores them in the dictionary `kwards`, which is also available inside the `wrapper` function.\n",
    "\n",
    "The `args` tuple and the `kwargs` dictionary are then forwarded to the original function `func`.\n",
    "The `*` and `**` are unpacking operators in this context (the symbol `*` and `**` are overloaded!).\n",
    "When we call `func(*args, **kwargs)`, the operator `*` will unpack `args`, so that each input in the tuple `args` is passed to `func` separately.\n",
    "The operator `**` will unpack `kwards`, so that each keyword input is also passed separately.\n",
    "`func` can then function regularly with its inputs.\n",
    "\n"
   ]
  },
  {
   "cell_type": "code",
   "execution_count": 1,
   "metadata": {},
   "outputs": [],
   "source": [
    "def decorator(func):\n",
    "    def wrapper(*args, **kwargs):\n",
    "        print('Positional arguments: ', args)\n",
    "        print('Keyword arguments: ', kwargs)\n",
    "        return func(*args, **kwargs)\n",
    "    return wrapper\n",
    "\n",
    "\n",
    "@decorator\n",
    "def foo(x, y, z=1):\n",
    "    print(x, y, z)\n",
    "\n",
    "\n",
    "foo(1, 2, z=10)\n",
    "foo(1, 2, 3)\n",
    "foo(z=1, x=2, y=-3)"
   ]
  },
  {
   "cell_type": "markdown",
   "metadata": {},
   "source": [
    "\n",
    "## Making the Documentation of Decorated Functions Available\n",
    "\n"
   ]
  },
  {
   "cell_type": "markdown",
   "metadata": {},
   "source": [
    "When we create a function with a docstring, we can call `help` to get back useful comments about the function.\n",
    "\n"
   ]
  },
  {
   "cell_type": "code",
   "execution_count": 1,
   "metadata": {},
   "outputs": [],
   "source": [
    "def greet(name):\n",
    "    \"\"\"Returns a warm welcome message.\"\"\"\n",
    "    return f\"Hello, {name}!\"\n",
    "\n",
    "\n",
    "# Function name and documentation are available\n",
    "greet(\"abc\")\n",
    "greet.__name__\n",
    "greet.__doc__"
   ]
  },
  {
   "cell_type": "markdown",
   "metadata": {},
   "source": [
    "However, when we decorate a function, we loose the original docstring:\n",
    "\n"
   ]
  },
  {
   "cell_type": "code",
   "execution_count": 1,
   "metadata": {},
   "outputs": [],
   "source": [
    "# Decorate greet\n",
    "def toUpperCase(func):\n",
    "    def wrapper(name):\n",
    "        \"\"\"Decorator docstring\"\"\"\n",
    "        return greet(name).upper()\n",
    "    return wrapper\n",
    "\n",
    "\n",
    "decorated_greet = toUpperCase(greet)\n",
    "print(decorated_greet(\"Abc\"))\n",
    "# However, the original function name and documentation are gone\n",
    "decorated_greet.__name__\n",
    "print(decorated_greet.__doc__)"
   ]
  },
  {
   "cell_type": "markdown",
   "metadata": {},
   "source": [
    "We can decorate the original function `func` with the decorator `wraps` from the Python module `functools`.\n",
    "By decorating `func` with `wraps` before calling `wrapper`, we can make the original docstring available in the decorated version:\n",
    "\n"
   ]
  },
  {
   "cell_type": "code",
   "execution_count": 1,
   "metadata": {},
   "outputs": [],
   "source": [
    "import functools\n",
    "\n",
    "\n",
    "def toUpperCase(func):\n",
    "    @functools.wraps(func)\n",
    "    def wrapper(name):\n",
    "        \"\"\"Decorator docstring\"\"\"\n",
    "        return greet(name).upper()\n",
    "    return wrapper\n",
    "\n",
    "\n",
    "decorated_greet = toUpperCase(greet)\n",
    "decorated_greet.__name__\n",
    "decorated_greet.__doc__"
   ]
  },
  {
   "cell_type": "markdown",
   "metadata": {},
   "source": [
    "\n",
    "# Instance, Class and Static Methods\n",
    "\n"
   ]
  },
  {
   "cell_type": "markdown",
   "metadata": {},
   "source": [
    "There are two special decorators that can be used inside a class definition: `classmethod` and `staticmethod`.\n",
    "These decorators are built-in the language and modify the methods of a class.\n",
    "\n"
   ]
  },
  {
   "cell_type": "code",
   "execution_count": 1,
   "metadata": {},
   "outputs": [],
   "source": [
    "class DecoratedClass:\n",
    "    def instance_method(self):\n",
    "        # has access to the variables of the instance\n",
    "        # and also the variables common to all instances (class variable)\n",
    "        # via self.__class__\n",
    "        return \"instance method\", self\n",
    "\n",
    "    @classmethod\n",
    "    def class_method(cls):\n",
    "        # instead of receiving self, it receives cls\n",
    "        # which represents the class itself\n",
    "        # this method does not have access to the instance variables\n",
    "        # only the class variables\n",
    "        # That is, cls points to the class itself.\n",
    "        return \"class method\", cls\n",
    "\n",
    "    @staticmethod\n",
    "    def static_method():\n",
    "        # this method does not have self neither cls as input\n",
    "        # it cannot access the instance variables nor the class variables\n",
    "        # but we can define it to take other inputs\n",
    "        return \"static method\""
   ]
  },
  {
   "cell_type": "markdown",
   "metadata": {},
   "source": [
    "The `instance_method` can access the object's instance variables via `self`.\n",
    "The `class_method` can access the class variables via `cls`, that is, it can look at the blueprint of the object itself.\n",
    "The `static_method` cannot access any of the instance or the class variables.\n",
    "\n"
   ]
  },
  {
   "cell_type": "code",
   "execution_count": 1,
   "metadata": {},
   "outputs": [],
   "source": [
    "obj = DecoratedClass()\n",
    "print(obj.instance_method(), obj)\n",
    "print(obj.class_method(), DecoratedClass)\n",
    "print(obj.static_method())"
   ]
  },
  {
   "cell_type": "markdown",
   "metadata": {},
   "source": [
    "Let's try to use the methods of `DecoratedClass` without an instance:\n",
    "\n"
   ]
  },
  {
   "cell_type": "code",
   "execution_count": 1,
   "metadata": {},
   "outputs": [],
   "source": [
    "DecoratedClass.static_method()\n",
    "# works, since it does not depend on anything else, we just need\n",
    "# the class to be defined\n",
    "DecoratedClass.class_method()\n",
    "# also works, because it only depends on the class itself, and not on a\n",
    "# particular instance\n",
    "DecoratedClass.instance_method()\n",
    "# does not work, because it needs an instance to access"
   ]
  },
  {
   "cell_type": "markdown",
   "metadata": {},
   "source": [
    "The `staticmethod` decorator basically makes the method a regular function.\n",
    "It is used to make that function live in the namespace of the class.\n",
    "\n",
    "The `classmethod` decorator gives a method access to the class itself.\n",
    "This can be used to create extra constructors!\n",
    "\n"
   ]
  },
  {
   "cell_type": "code",
   "execution_count": 1,
   "metadata": {},
   "outputs": [],
   "source": [
    "class Option:\n",
    "    def __init__(self, strike, tenor, type_):\n",
    "        self.strike = strike\n",
    "        self.tenor = tenor\n",
    "        self.type_ = type_\n",
    "\n",
    "    def __repr__(self):\n",
    "        return f\"Option({self.strike}, {self.tenor}, {self.type_})\"\n",
    "\n",
    "    @classmethod\n",
    "    def long_straddle(cls, strike, tenor):\n",
    "        return cls(strike, tenor, 'long-straddle')\n",
    "\n",
    "    @classmethod\n",
    "    def short_straddle(cls, strike, tenor):\n",
    "        return cls(strike, tenor, 'short-straddle')\n",
    "\n",
    "    def payoff(self, price):\n",
    "        if self.type_ == 'c':\n",
    "            return np.max([0, price - self.strike])\n",
    "        elif self.type_ == 'p':\n",
    "            return np.max([0, self.strike - price])\n",
    "        elif self.type_ == 'long-straddle':\n",
    "            return np.abs(price - self.strike)\n",
    "        elif selt.type_ == 'short-straddle':\n",
    "            return -np.abs(price - self.strike)\n",
    "\n",
    "\n",
    "call = Option(200, 30, 'c')\n",
    "repr(call)\n",
    "long_straddle = Option.long_straddle(200, 30)\n",
    "repr(long_straddle)"
   ]
  },
  {
   "cell_type": "markdown",
   "metadata": {},
   "source": [
    "\n",
    "# Iterators\n",
    "\n"
   ]
  },
  {
   "cell_type": "markdown",
   "metadata": {},
   "source": [
    "Iterators are objects that implement the `__iter__` and `__next__` dunder methods.\n",
    "They represent a collection of things we want to iterate over.\n",
    "We have used iterators in for-loops:\n",
    "\n"
   ]
  },
  {
   "cell_type": "code",
   "execution_count": 1,
   "metadata": {},
   "outputs": [],
   "source": [
    "for i in [0, 1, 2]:\n",
    "    print(i)\n",
    "# the list [0, 1, 2] is an iterator\n",
    "# it is a collection of things we want to iterate over\n",
    "# and it implements the dunder methods iter and next"
   ]
  },
  {
   "cell_type": "markdown",
   "metadata": {},
   "source": [
    "Another example are file objects, which could be used to iterate over the lines of a file.\n",
    "\n"
   ]
  },
  {
   "cell_type": "code",
   "execution_count": 1,
   "metadata": {},
   "outputs": [],
   "source": [
    "with open('my_file.txt', 'w') as f:\n",
    "    f.write('\\n'.join([\"a\",\"b\",\"c\"]))\n",
    "with open('my_file.txt', 'r') as f:\n",
    "    for line in f:\n",
    "        print(line)"
   ]
  },
  {
   "cell_type": "markdown",
   "metadata": {},
   "source": [
    "An iterator represent a collection that we can iterate over (with a for-loop, for example).\n",
    "To make it work, the iterator object must have a `__next__` method, that returns the next value in the set:\n",
    "\n"
   ]
  },
  {
   "cell_type": "code",
   "execution_count": 1,
   "metadata": {},
   "outputs": [],
   "source": [
    "f = open('my_file.txt', 'r')\n",
    "print(f.__next__())\n",
    "# Each time we call __next__ the object returns the next value\n",
    "# in the collection.\n",
    "# Same as:\n",
    "print(next(f))\n",
    "# we can call the dunder next until the last line\n",
    "print(f.__next__())\n",
    "# if we call it again, we will get an exception\n",
    "print(f.__next__())"
   ]
  },
  {
   "cell_type": "markdown",
   "metadata": {},
   "source": [
    "Notice that we get an exception with an interesting name: `StopIteration`.\n",
    "This means the iterator is over, there are no more elements in the collection to iterate over.\n",
    "\n",
    "Let's see how a for-loop really works in Python:\n",
    "\n"
   ]
  },
  {
   "cell_type": "code",
   "execution_count": 1,
   "metadata": {},
   "outputs": [],
   "source": [
    "# We can go back to the beginning of the file by calling\n",
    "f.seek(0)\n",
    "\n",
    "# Consider this loop:\n",
    "for line in f:\n",
    "    print(line)\n",
    "\n",
    "f.seek(0)\n",
    "# Under the hood, what is happening is:\n",
    "while True:\n",
    "    try:\n",
    "        line = next(f)\n",
    "    except StopIteration:\n",
    "        break\n",
    "    else:\n",
    "        print(line)"
   ]
  },
  {
   "cell_type": "markdown",
   "metadata": {},
   "source": [
    "That is, read a line, then run the code that was inside the for-loop.\n",
    "Then, read the next line and so on.\n",
    "When we get the StopIteration exception, it means we are out of lines to read, so we break the loop.\n",
    "\n",
    "Another example of iterator is the object returned by enumerate:\n",
    "\n"
   ]
  },
  {
   "cell_type": "code",
   "execution_count": 1,
   "metadata": {},
   "outputs": [],
   "source": [
    "names = [\"A\", \"B\", \"C\"]\n",
    "numbered_names = enumerate(names)\n",
    "print(next(numbered_names))\n",
    "\n",
    "# for-loop with enumerate:\n",
    "for pos, name in enumerate(names):\n",
    "    print(f\"{pos}: {name}\")\n",
    "\n",
    "\n",
    "# Equivalent to:\n",
    "iterator = enumerate(names)\n",
    "while True:\n",
    "    try:\n",
    "        pos, name = next(iterator)\n",
    "    except StopIteration:\n",
    "        break\n",
    "    else:\n",
    "        print(f\"{pos}: {name}\")"
   ]
  },
  {
   "cell_type": "markdown",
   "metadata": {},
   "source": [
    "Notice that after getting all elements of the iterator, we reach the end and `StopIteration` is raised.\n",
    "We cannot reset `numbered_names` like we could with the file.\n",
    "The file object is a special case.\n",
    "\n",
    "To iterate over `numbered_names` from the beginning, we would need to call enumerate again.\n",
    "That is, calling enumerate is, somehow, giving us an iterator.\n",
    "\n",
    "Now, an ****ITERABLE**** (as opposed to ****ITERATOR****), is an object that gives us an iterator when we ask for it.\n",
    "Again, an iterable is an object that gives us an iterator.\n",
    "\n",
    "We can ask for an iterator from an iterable by using the function iter, or the dunder method `__iter__`.\n",
    "For example, a list itself is not an iterable, but it is an iterator.\n",
    "\n"
   ]
  },
  {
   "cell_type": "code",
   "execution_count": 1,
   "metadata": {},
   "outputs": [],
   "source": [
    "x = [0, 1, 2, 3]\n",
    "next(x)\n",
    "# error, list is not an iterator"
   ]
  },
  {
   "cell_type": "markdown",
   "metadata": {},
   "source": [
    "But why can we use lists in a for-loop?\n",
    "Because it is an iterable, that is, it can create an iterator from the values in the list:\n",
    "\n"
   ]
  },
  {
   "cell_type": "code",
   "execution_count": 1,
   "metadata": {},
   "outputs": [],
   "source": [
    "x_iterator = iter(x)\n",
    "next(x_iterator)\n",
    "# works!"
   ]
  },
  {
   "cell_type": "markdown",
   "metadata": {},
   "source": [
    "A list is an object that can generate iterators. It is an iterable.\n",
    "Thus, when we use a for-loop with an ITERABLE, what is happening is:\n",
    "\n"
   ]
  },
  {
   "cell_type": "code",
   "execution_count": 1,
   "metadata": {},
   "outputs": [],
   "source": [
    "iterator = iter(iterable)\n",
    "while True:\n",
    "    try:\n",
    "        value = next(iterator)\n",
    "    except StopIteration:\n",
    "        break\n",
    "    else:\n",
    "        # do something with value\n",
    "        pass"
   ]
  },
  {
   "cell_type": "markdown",
   "metadata": {},
   "source": [
    "We use the iterable to get an iterator.\n",
    "And then loop over the elements of the iterator until it is done.\n",
    "The iterator is then ****SPENT****, that is, there are no more values to get out of it.\n",
    "If we want to loop over again, then we need to create a fresh iterator, by asking the iterable for a new iterator.\n",
    "The list is an iterable that saves the elements, and can generate as many iterators as we need from the same values.\n",
    "\n",
    "Let's create a simple iterable.\n",
    "An iterable must implement the `__iter__` method to return an iterator.\n",
    "\n"
   ]
  },
  {
   "cell_type": "code",
   "execution_count": 1,
   "metadata": {},
   "outputs": [],
   "source": [
    "class FibonacciIterable:\n",
    "    def __init__(self, n):\n",
    "        self.n = n\n",
    "\n",
    "    def __iter__(self):\n",
    "        return FibonacciIterator(self.n)\n",
    "\n",
    "\n",
    "# Now, we need to creat the ITERATOR, which implements\n",
    "# the __next__ method.\n",
    "class FibonacciIterator:\n",
    "    def __init__(self, n):\n",
    "        self.n = n\n",
    "        self.previous = [1]\n",
    "\n",
    "    def __next__(self):\n",
    "        value = self.previous[-1]\n",
    "        if value > self.n:\n",
    "            raise StopIteration\n",
    "        else:\n",
    "            next_value = sum(self.previous[-2:])\n",
    "            self.previous.append(next_value)\n",
    "            return value\n",
    "\n",
    "\n",
    "\n",
    "iterable = FibonacciIterable(10)\n",
    "iterator = iter(iterable)\n",
    "next(iterator)"
   ]
  },
  {
   "cell_type": "markdown",
   "metadata": {},
   "source": [
    "We can use an iterable in a for-loop:\n",
    "\n"
   ]
  },
  {
   "cell_type": "code",
   "execution_count": 1,
   "metadata": {},
   "outputs": [],
   "source": [
    "for fib in FibonacciIterable(10):\n",
    "    print(fib)\n",
    "\n",
    "# equivalent to:\n",
    "iterator = FibonacciIterable(10).__iter__()\n",
    "while True:\n",
    "    try:\n",
    "        fib = next(iterator)\n",
    "    except StopIteration:\n",
    "        break\n",
    "    else:\n",
    "        print(fib)"
   ]
  },
  {
   "cell_type": "markdown",
   "metadata": {},
   "source": [
    "Notice that we are repeating oruselves with the code above.\n",
    "We had to create two separate objects, an iterable and an iterator.\n",
    "We can create a single object that implements both the `__iter__` method and the `__next__` method:\n",
    "\n"
   ]
  },
  {
   "cell_type": "code",
   "execution_count": 1,
   "metadata": {},
   "outputs": [],
   "source": [
    "class FibonacciSequence:\n",
    "    def __init__(self, stop_at_most):\n",
    "        self.stop_at_most = stop_at_most\n",
    "        self.previous = [1]\n",
    "\n",
    "    def __iter__(self):\n",
    "        # the instance itself implements the __next__ method, so itself\n",
    "        # is an iterator (and an iterable)\n",
    "        return self\n",
    "\n",
    "    def __next__(self):\n",
    "        value = self.previous[-1]\n",
    "        if value > self.stop_at_most:\n",
    "            raise StopIteration\n",
    "        else:\n",
    "            next_value = sum(self.previous[-2:])\n",
    "            self.previous.append(next_value)\n",
    "            return value\n",
    "\n",
    "\n",
    "fib = FibonacciSequence(30)"
   ]
  },
  {
   "cell_type": "markdown",
   "metadata": {},
   "source": [
    "Now, `fib` is an actual iterator, it implements both `__iter__` and `__next__`.\n",
    "We can use it in a loop to get values, since we can call `__iter__` to get an iterator from it, and then loop over the elements.\n",
    "\n"
   ]
  },
  {
   "cell_type": "code",
   "execution_count": 1,
   "metadata": {},
   "outputs": [],
   "source": [
    "for i in fib:\n",
    "    print(i)\n",
    "# But remember, when an there are no more elements to loop, the\n",
    "# iterator is spent, and we need a new one to iterate again.\n",
    "next(fib)\n",
    "\n",
    "for i in FibonacciSequence(50):\n",
    "    print(i)"
   ]
  },
  {
   "cell_type": "markdown",
   "metadata": {},
   "source": [
    "Notice that in an iterator, we do not compute all of its elements at once.\n",
    "We obtain the elements as we go.\n",
    "This means, we can create iterators that store infinite numbers:\n",
    "\n"
   ]
  },
  {
   "cell_type": "code",
   "execution_count": 1,
   "metadata": {},
   "outputs": [],
   "source": [
    "class NaturalNumbers:\n",
    "    def __init__(self):\n",
    "        self.n = 1\n",
    "\n",
    "    def __iter__(self):\n",
    "        return self\n",
    "\n",
    "    def __next__(self):\n",
    "        value = self.n\n",
    "        self.n += 1\n",
    "        return value\n",
    "\n",
    "\n",
    "n = NaturalNumbers()\n",
    "next(n)"
   ]
  },
  {
   "cell_type": "markdown",
   "metadata": {},
   "source": [
    "We can call `n` forever, it is now a list with an inifinite number of elements.\n",
    "\n",
    "The idea behind iterators is that you have a set of things you want to do, say very complicated tasks.\n",
    "But you would like to get the results as you finish each task.\n",
    "An iterator allows you to do just that.\n",
    "When we call `next`, it will do the first complicated task in the list, which might take awhile.\n",
    "When it is finished, it will return you the value so that you can analyze it or store it.\n",
    "We can then call `next` again to begin the next task, and so on.\n",
    "\n"
   ]
  },
  {
   "cell_type": "markdown",
   "metadata": {},
   "source": [
    "\n",
    "# Generators\n",
    "\n"
   ]
  },
  {
   "cell_type": "markdown",
   "metadata": {},
   "source": [
    "Generators are simple iterators.\n",
    "Iterators are a very general idea, that require us to build a class and define `__iter__` and `__next__`.\n",
    "We gain a lot of control and can add a lot of complexity to an iterator.\n",
    "But, we do need to write more code for it.\n",
    "\n",
    "Generators are a way to construct simple iterators.\n",
    "Instead of constructing a class, we will construct a function using the keyword `yield`.\n",
    "We use the keyword `yield` whenever we want to return a value and stop so that other code can execute.\n",
    "This is what was happening in the for-loop with an iterator, we called `next`, got some value back, ran the code inside the loop, and then called `next` again, and so on.\n",
    "Let's recreate the natural numbers example with generators:\n",
    "\n"
   ]
  },
  {
   "cell_type": "code",
   "execution_count": 1,
   "metadata": {},
   "outputs": [],
   "source": [
    "class NaturalNumbers:\n",
    "    def __init__(self):\n",
    "        self.n = 1\n",
    "\n",
    "    def __iter__(self):\n",
    "        return self\n",
    "\n",
    "    def __next__(self):\n",
    "        value = self.n\n",
    "        self.n += 1\n",
    "        return value\n",
    "\n",
    "\n",
    "def natural_numbers():\n",
    "    n = 1\n",
    "    while True:\n",
    "        yield n\n",
    "        n += 1\n",
    "\n",
    "\n",
    "natural_generator = natural_numbers()\n",
    "type(natural_generator)\n",
    "# A generator behaves just like an iterator, but is created with\n",
    "# the yield keyword.\n",
    "# We can call next on the iterator to get the values:\n",
    "next(natural_generator)"
   ]
  },
  {
   "cell_type": "markdown",
   "metadata": {},
   "source": [
    "We can create a finite generator:\n",
    "\n"
   ]
  },
  {
   "cell_type": "code",
   "execution_count": 1,
   "metadata": {},
   "outputs": [],
   "source": [
    "def names():\n",
    "    yield \"A\"\n",
    "    yield \"B\"\n",
    "    yield \"C\"\n",
    "\n",
    "names_gen = names()\n",
    "# When we call next for the first time, the function will start\n",
    "# being executed. When it finds the first yield, it returns that\n",
    "# value and stops the execution of the function at that line.\n",
    "# We can then do other things:\n",
    "first_name = next(names_gen)\n",
    "print(f\"The first name is: {first_name}\")\n",
    "# We can then go back to that function again by calling next, which\n",
    "# will continue the execution from where it started\n",
    "second_name = next(names_gen)\n",
    "print(f\"The second name is: {second_name}\")\n",
    "# When we call next, we will reach the last yield, and after that,\n",
    "# calling next would lead to StopIteration exceptions.\n",
    "next(names_gen)\n",
    "next(names_gen)"
   ]
  },
  {
   "cell_type": "markdown",
   "metadata": {},
   "source": [
    "Generators are great to create generators (that are iterators) in a more readable fashion:\n",
    "\n"
   ]
  },
  {
   "cell_type": "code",
   "execution_count": 1,
   "metadata": {},
   "outputs": [],
   "source": [
    "def fibonacci(n):\n",
    "    \"\"\"Get the first n elements of the Fibonacci sequence.\"\"\"\n",
    "    prev = [1]\n",
    "    for i in range(n):\n",
    "        yield prev[-1]\n",
    "        prev.append(sum(prev[-2:]))\n",
    "\n",
    "\n",
    "for i in fibonacci(10):\n",
    "    print(i)"
   ]
  },
  {
   "cell_type": "markdown",
   "metadata": {},
   "source": [
    "\n",
    "# Generator Expressions\n",
    "\n"
   ]
  },
  {
   "cell_type": "markdown",
   "metadata": {},
   "source": [
    "Generator expressions are a way to create generators, which are simple iterators, in an even simpler way.\n",
    "Generator expressions allow us to create generators in a single line:\n",
    "\n"
   ]
  },
  {
   "cell_type": "code",
   "execution_count": 1,
   "metadata": {},
   "outputs": [],
   "source": [
    "def names_gen():\n",
    "    for name in [\"A\", \"B\", \"C\"]:\n",
    "        yield name\n",
    "\n",
    "# equivalent to:\n",
    "names_gen = (name for name in [\"A\", \"B\", \"C\"])\n",
    "type(names_gen)\n",
    "next(names_gen)\n",
    "next(names_gen)\n",
    "next(names_gen)\n",
    "next(names_gen)\n",
    "# raises StopIteration"
   ]
  },
  {
   "cell_type": "markdown",
   "metadata": {},
   "source": [
    "We can use the built-in `list`, to get a list of values out of a generator\n",
    "\n"
   ]
  },
  {
   "cell_type": "code",
   "execution_count": 1,
   "metadata": {},
   "outputs": [],
   "source": [
    "print(list(names_gen()))"
   ]
  },
  {
   "cell_type": "markdown",
   "metadata": {},
   "source": [
    "We can also filter the values we give back in a generator expression:\n",
    "\n"
   ]
  },
  {
   "cell_type": "code",
   "execution_count": 1,
   "metadata": {},
   "outputs": [],
   "source": [
    "even_numbers = (x for x in range(20) if x % 2 == 0)\n",
    "print(list(even_numbers))\n",
    "\n",
    "# and also modify numbers that we return\n",
    "squared_number = (x**2 for x in range(10))\n",
    "print(list(squared_number))"
   ]
  },
  {
   "cell_type": "markdown",
   "metadata": {},
   "source": [
    "The full syntax for generator expressions is:\n",
    "\n"
   ]
  },
  {
   "cell_type": "code",
   "execution_count": 1,
   "metadata": {},
   "outputs": [],
   "source": [
    "generator = (expression for value in collection if condition)"
   ]
  },
  {
   "cell_type": "markdown",
   "metadata": {},
   "source": [
    "Avoid creating generator expressions that extend over a line.\n",
    "The syntax is meant for simple generators.\n",
    "\n"
   ]
  },
  {
   "cell_type": "markdown",
   "metadata": {},
   "source": [
    "\n",
    "# List Comprehensions\n",
    "\n"
   ]
  },
  {
   "cell_type": "markdown",
   "metadata": {},
   "source": [
    "We have used list comprehensions in a few of the examples.\n",
    "List comprehensions are used to build simple lists, very much like generator expressions are used to build simple generators.\n",
    "The syntax of list comprehensions and generator expressions is basically the same, with the difference that list comprehensions use square-brackets, while generator expressions use parentheses.\n",
    "\n"
   ]
  },
  {
   "cell_type": "code",
   "execution_count": 1,
   "metadata": {},
   "outputs": [],
   "source": [
    "# create a simple list of squared numbers\n",
    "squared_numbers = [x**2 for x in range(10)]\n",
    "print(squared_numbers)\n",
    "\n",
    "# create a new list with filtered strings\n",
    "messy_data = ['JOHN    ', ' JackSOn ', 'Sophia   ']\n",
    "clean_data = [name.strip().capitalize() for name in messy_data]"
   ]
  },
  {
   "cell_type": "markdown",
   "metadata": {},
   "source": [
    "List comprehensions create lists.\n",
    "Generator expressions create generators.\n",
    "Lists store all the values in memory at once, while generators create the values as requested.\n",
    "\n"
   ]
  },
  {
   "cell_type": "markdown",
   "metadata": {},
   "source": [
    "\n",
    "# Chaining Iterators\n",
    "\n"
   ]
  },
  {
   "cell_type": "markdown",
   "metadata": {},
   "source": [
    "Iterators can be chained together to create an efficient workflow.\n",
    "\n"
   ]
  },
  {
   "cell_type": "code",
   "execution_count": 1,
   "metadata": {},
   "outputs": [],
   "source": [
    "def naturals():\n",
    "    n = 1\n",
    "    while True:\n",
    "        yield n\n",
    "        n += 1\n",
    "\n",
    "\n",
    "def squared(sequence):\n",
    "    for i in sequence:\n",
    "        yield i**2\n",
    "\n",
    "\n",
    "chain = squared(naturals())\n",
    "type(chain)\n",
    "next(chain)"
   ]
  },
  {
   "cell_type": "markdown",
   "metadata": {},
   "source": [
    "When we call `next` on chain, we start executing `squared`.\n",
    "When we reach the for-loop, the loop will call next on `sequence`.\n",
    "But `sequence` is our generator `naturals()`.\n",
    "Calling next on `naturals()` will start executing it, and it will yield the first number.\n",
    "This number is stored into the variable `i`, which is then squared and yielded to us.\n",
    "\n"
   ]
  },
  {
   "cell_type": "code",
   "execution_count": 1,
   "metadata": {},
   "outputs": [],
   "source": [
    "def printed(sequence):\n",
    "    for i in sequence:\n",
    "        print(f\"Number: {i}\")\n",
    "        yield i\n",
    "\n",
    "chain = squared(printed(naturals()))\n",
    "next(chain)"
   ]
  },
  {
   "cell_type": "markdown",
   "metadata": {},
   "source": [
    "\n",
    "# Context Managers\n",
    "\n"
   ]
  },
  {
   "cell_type": "markdown",
   "metadata": {},
   "source": [
    "We used context managers before when dealing with files.\n",
    "The idea of context managers is that you want to execute some code, but you need something else done after the code is finished or even if the code fails.\n",
    "In the case of files, we need the file to be properly closed, so even if our code fails, the file closes and we do not run the risk of corrupting the file.\n",
    "\n",
    "We start a context manager with the keyword `with`:\n",
    "\n"
   ]
  },
  {
   "cell_type": "code",
   "execution_count": 1,
   "metadata": {},
   "outputs": [],
   "source": [
    "with open('my_file.txt', 'r') as f:\n",
    "    for line in f:\n",
    "        print(line)\n",
    "\n",
    "# equivalent to\n",
    "f = open('my_file.txt', 'r')\n",
    "try:\n",
    "    for line in f:\n",
    "        print(line)\n",
    "finally:\n",
    "    f.close()\n",
    "# Even if the code inside the try block leads to an error,\n",
    "# the code inside the finally block will execute, properly\n",
    "# closing the file."
   ]
  },
  {
   "cell_type": "markdown",
   "metadata": {},
   "source": [
    "The `open` function returns an object, as everything in Python is an object, that can be used as a context manager.\n",
    "An object that can be used as a context manager implements the `__enter__` and `__exit__` methods.\n",
    "Let's replicate the functionality of `open` with our own context manager:\n",
    "\n"
   ]
  },
  {
   "cell_type": "code",
   "execution_count": 1,
   "metadata": {},
   "outputs": [],
   "source": [
    "class FileReader:\n",
    "    def __init__(self, filename):\n",
    "        self.filename = filename\n",
    "\n",
    "    def __enter__(self):\n",
    "        self.file = open(self.filename, 'r')\n",
    "        return self.file\n",
    "\n",
    "    def __exit__(self, *args):\n",
    "        self.file.close()\n",
    "\n",
    "\n",
    "with FileReader('my_file.txt') as f:\n",
    "    for line in f:\n",
    "        print(line)"
   ]
  },
  {
   "cell_type": "markdown",
   "metadata": {},
   "source": [
    "When we call `FileReader` on the `with` line two things happen:\n",
    "\n",
    "1.  The class constructor is executed with 'my<sub>file.txt</sub>' as the input;\n",
    "2.  The `__enter__` method is executed and its return value is assigned to `f`.\n",
    "\n",
    "Then we run our for-loop, and after the loop finishes, the `__exit__` method of the `FileReader` instance is executed, closing the file.\n",
    "\n"
   ]
  },
  {
   "cell_type": "markdown",
   "metadata": {},
   "source": [
    "\n",
    "# String Formatting\n",
    "\n"
   ]
  },
  {
   "cell_type": "markdown",
   "metadata": {},
   "source": [
    "We will learn two ways of formatting strings in Python.\n",
    "First, using the `format` method of strings:\n",
    "\n"
   ]
  },
  {
   "cell_type": "code",
   "execution_count": 1,
   "metadata": {},
   "outputs": [],
   "source": [
    "from datetime import date\n",
    "name = \"World\"\n",
    "print(\"Hello, {}!\".format(name))\n",
    "\n",
    "print(\"Hello, {}! Today's date is {}.\".format(name, date.today()))\n",
    "print(\"Hello, {name}! Today's date is {date}.\".format(\n",
    "    name=name, date=date.today()))"
   ]
  },
  {
   "cell_type": "markdown",
   "metadata": {},
   "source": [
    "Second, is using [formatted string literals](https://docs.python.org/3/reference/lexical_analysis.html#f-strings):\n",
    "\n"
   ]
  },
  {
   "cell_type": "code",
   "execution_count": 1,
   "metadata": {},
   "outputs": [],
   "source": [
    "print(f\"Hello, {name}!\")\n",
    "print(f\"Hello, {name}! Today's date is {date.today()}.\")\n",
    "print(f\"5 + 2 = {5 + 2}\")\n",
    "from math import pi\n",
    "print(f\"Pi with 8 decimal cases: {pi:.8f}\")\n",
    "print(f\"Pi with 4 decimal cases: {pi:.4f}\")\n",
    "# The colen specifies how to format the variable when\n",
    "# constructing the string.\n",
    "# .f means the number is a float\n",
    "# .8f means we want to use 8 decimal places"
   ]
  },
  {
   "cell_type": "markdown",
   "metadata": {},
   "source": [
    "Formatted string literals were introduced in Python 3.6, so it is not available on earlier Python versions.\n",
    "Formatting strings with `format` is available ever since the introduction of Python 3.\n",
    "For more details on the formatting options check the [String Formatting reference page](https://docs.python.org/3/library/stdtypes.html#printf-style-string-formatting).\n",
    "\n"
   ]
  },
  {
   "cell_type": "markdown",
   "metadata": {},
   "source": [
    "\n",
    "# Debugging\n",
    "\n"
   ]
  },
  {
   "cell_type": "markdown",
   "metadata": {},
   "source": [
    "Python has a built-in debugger, available in the module [`pdb`](https://docs.python.org/3.6/library/pdb.html).\n",
    "We can use `pdb` to insert breakpoints in the code, which interrupt the execution of the code and allow us to inspect the variables in the stack.\n",
    "\n"
   ]
  },
  {
   "cell_type": "code",
   "execution_count": 1,
   "metadata": {},
   "outputs": [],
   "source": [
    "import pdb\n",
    "\n",
    "def code_that_will_fail():\n",
    "    x = [1, 2, 3]\n",
    "    y = [3, 4, 5]\n",
    "    pdb.set_trace()             # breakpoint\n",
    "    z = x @ y\n",
    "    return z\n",
    "\n",
    "\n",
    "code_that_will_fail()"
   ]
  },
  {
   "cell_type": "markdown",
   "metadata": {},
   "source": [
    "When the code hits the `pdb.set_trace`, it will interrupt execution, and you will get a message in the REPL that starts with `(Pdb)`.\n",
    "You can type code and hit enter to execute.\n",
    "For example, you can type `x` to inspect its value.\n",
    "You can then use the [Debugger Commands](https://docs.python.org/3.6/library/pdb.html#debugger-commands) to continue executing the code.\n",
    "You can continue the execution with:\n",
    "\n",
    "-   `next`: executes the next line\n",
    "-   `step`: executes the next line, and if it is a function, goes inside it and stops there (so you can see what is happening inside the function)\n",
    "-   `return`: executes all lines until a return is found\n",
    "-   `continue`: execute all lines until another breakpoint is found\n",
    "\n",
    "You can also type `help` to get a list of the commands.\n",
    "To quit the debugger just type `exit`.\n",
    "\n",
    "Another way to enter the debug mode is post-mortem, where the code failed and you did not set up any breakpoints.\n",
    "You can run `pdb.pm()` to debug the last error.\n",
    "\n"
   ]
  },
  {
   "cell_type": "code",
   "execution_count": 1,
   "metadata": {},
   "outputs": [],
   "source": [
    "def code_that_will_fail():\n",
    "    x = [1, 2, 3]\n",
    "    y = [3, 4, 5]\n",
    "    z = x @ y\n",
    "    return z\n",
    "\n",
    "\n",
    "code_that_will_fail()\n",
    "pdb.pm()"
   ]
  },
  {
   "cell_type": "markdown",
   "metadata": {},
   "source": [
    "This is useful for debugging smaller pieces of code.\n",
    "\n"
   ]
  }
 ],
 "metadata": {
  "kernelspec": {
   "display_name": "Python 3",
   "language": "python",
   "name": "python3"
  },
  "language_info": {
   "codemirror_mode": {
    "name": "ipython",
    "version": 3
   },
   "file_extension": ".py",
   "mimetype": "text/x-python",
   "name": "python",
   "nbconvert_exporter": "python",
   "pygments_lexer": "ipython3",
   "version": "3.7.4"
  },
  "org": null
 },
 "nbformat": 4,
 "nbformat_minor": 1
}
