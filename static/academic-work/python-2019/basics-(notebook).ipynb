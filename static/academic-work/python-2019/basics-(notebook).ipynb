{
 "cells": [
  {
   "cell_type": "markdown",
   "metadata": {},
   "source": [
    "# Python Basics"
   ]
  },
  {
   "cell_type": "markdown",
   "metadata": {},
   "source": [
    "This lecture covers the core of the Python language, introducing the main concepts of the language and providing a comprehensive set of tools that can be used to solve several fundamental problems.\n",
    "\n"
   ]
  },
  {
   "cell_type": "markdown",
   "metadata": {},
   "source": [
    "\n",
    "# Interacting with Python\n",
    "\n"
   ]
  },
  {
   "cell_type": "markdown",
   "metadata": {},
   "source": [
    "There are two ways to execute Python scripts.\n",
    "First, you write a `.py` file and run it in a terminal with `python3 myfile.py`.\n",
    "Second, you execute the Python commands line by line in the Python REPL (read-eval-print-loop).\n",
    "To open the Python REPL simply type `python3` in the terminal. You can quit Python by running `exit()` or with Control-D.\n",
    "In the Jupyter notebook you are interacting with a REPL, each cell you execute sends the commands to the interpreter, which then executes and prints outputs and then waits for more commands.\n",
    "\n"
   ]
  },
  {
   "cell_type": "markdown",
   "metadata": {},
   "source": [
    "\n",
    "# Built-In Data Types\n",
    "\n"
   ]
  },
  {
   "cell_type": "markdown",
   "metadata": {},
   "source": [
    "The main data types that are built-in Python are:\n",
    "\n",
    "-   Numerics: hold different types of numbers (integers, floats and complex numbers);\n",
    "-   Text: hold characters and strings (`string`);\n",
    "-   Boolean: used to test conditions (`bool`, `True`, `False`);\n",
    "-   Sequences: list of elements where order matters (`list`, `tuple` and `range`);\n",
    "-   Sets: list of distinct objects where order is not important (`set`, `frozenset`);\n",
    "-   Mapping: maps keys to values (dictionary, `dict`);\n",
    "-   Objects: represents all data in Python (class)\n",
    "-   Exceptions: represents errors in Python\n",
    "\n",
    "All of the built-in types are fully described [here](https://docs.python.org/3.6/library/stdtypes.html). We will cover most of them. There are also many built-in functions, which are described [here](https://docs.python.org/3.6/library/functions.html), and we will cover some of them as we go.\n",
    "\n"
   ]
  },
  {
   "cell_type": "markdown",
   "metadata": {},
   "source": [
    "\n",
    "## Numerical Data\n",
    "\n"
   ]
  },
  {
   "cell_type": "markdown",
   "metadata": {},
   "source": [
    "Numbers are separated into three different types: `int`, `float` and `complex`.\n",
    "Integers can be as big as required, as long as you have free memory available.\n",
    "\n",
    "Variables in python are not strongly typed.\n",
    "This means the type of the variable is inferred at the time of declaration from its context.\n",
    "Thus, when creating numerical data, the type of variable will be inferred from its definition.\n",
    "\n"
   ]
  },
  {
   "cell_type": "code",
   "execution_count": 1,
   "metadata": {},
   "outputs": [],
   "source": [
    "# integer\n",
    "x = 3005\n",
    "# big integer\n",
    "y = 10000000000000000000000000000000000000000000\n",
    "z = 10**30000"
   ]
  },
  {
   "cell_type": "markdown",
   "metadata": {},
   "source": [
    "We can print these numbers on the screen by typing the name of the variable, like `x`, or by using the function [`print`](https://docs.python.org/3.6/library/functions.html#print).\n",
    "\n"
   ]
  },
  {
   "cell_type": "code",
   "execution_count": 1,
   "metadata": {},
   "outputs": [],
   "source": [
    "# print the value of the variables on the screen\n",
    "x\n",
    "y\n",
    "z\n",
    "# alternatively use print\n",
    "print(x)\n",
    "# can print multiple variables\n",
    "print(x, y, z)"
   ]
  },
  {
   "cell_type": "markdown",
   "metadata": {},
   "source": [
    "We can check the size of these integers (in bytes) with a helper function from the [`sys`](https://docs.python.org/3.6/library/sys.html?module-sys#module-sys) module (more on modules later), named [`getsizeof`](https://docs.python.org/3.6/library/sys.html?highlight=sys#sys.getsizeof).\n",
    "We use functions inside a module using the dot notation: `module_name.name_of_function`.\n",
    "For example, to use `getsizeof` we call `sys.getsizeof`.\n",
    "\n"
   ]
  },
  {
   "cell_type": "code",
   "execution_count": 1,
   "metadata": {},
   "outputs": [],
   "source": [
    "# import module sys\n",
    "import sys\n",
    "# print size of the integer stored in x\n",
    "print(sys.getsizeof(x))\n",
    "# print size of the large integers\n",
    "print(sys.getsizeof(y), sys.getsizeof(z))"
   ]
  },
  {
   "cell_type": "markdown",
   "metadata": {},
   "source": [
    "The number of bytes assigned to the variable changes as the integer increases.\n",
    "\n",
    "Floating point numbers have a different implementation that varies by operating system, but usually is equivalent to a double type in C (8 bytes).\n",
    "To create a float:\n",
    "\n"
   ]
  },
  {
   "cell_type": "code",
   "execution_count": 1,
   "metadata": {},
   "outputs": [],
   "source": [
    "# floating point numbers: floats\n",
    "a = 3.1415\n",
    "b = 2.718281828"
   ]
  },
  {
   "cell_type": "markdown",
   "metadata": {},
   "source": [
    "To create complex numbers we use `j`:\n",
    "\n"
   ]
  },
  {
   "cell_type": "code",
   "execution_count": 1,
   "metadata": {},
   "outputs": [],
   "source": [
    "# complex numbers\n",
    "c = 2+3j\n",
    "d = 1j\n",
    "print(c, d)"
   ]
  },
  {
   "cell_type": "markdown",
   "metadata": {},
   "source": [
    "Complex numbers have properties that can be accessed using the dot notation, just like we accessed the function `getsizeof` from the module `sys`.\n",
    "\n"
   ]
  },
  {
   "cell_type": "code",
   "execution_count": 1,
   "metadata": {},
   "outputs": [],
   "source": [
    "# real part of a complex number\n",
    "print(c.real)\n",
    "# imaginary part of a complexn umber\n",
    "print(c.imag)"
   ]
  },
  {
   "cell_type": "markdown",
   "metadata": {},
   "source": [
    "We will not talk anymore about complex numbers and choose to focus only on integers and floats.\n",
    "\n",
    "The integers and floats support the usual mathematical operations.\n",
    "\n"
   ]
  },
  {
   "cell_type": "code",
   "execution_count": 1,
   "metadata": {},
   "outputs": [],
   "source": [
    "x = 11\n",
    "y = 2\n",
    "# Addition, subtraction, multiplication and division\n",
    "print(x + y, x - y, x*y, x/y)\n",
    "# Integer division\n",
    "print(x//y)\n",
    "# Remainder of integer division\n",
    "print(x%y)\n",
    "# Absolute value\n",
    "print(abs(-x-y))\n",
    "# Exponentiation\n",
    "print(pow(x, 2))\n",
    "print(x**2)                     # equivalent to pow"
   ]
  },
  {
   "cell_type": "markdown",
   "metadata": {},
   "source": [
    "Notice the use of two built-ins: [`abs`](https://docs.python.org/3.6/library/functions.html?abs#abs) for absolute value and [`pow`](https://docs.python.org/3.6/library/functions.html?abs#pow) for exponentiation.\n",
    "\n",
    "Some of the operations will make implicit conversions from integers to floats or the other way around.\n",
    "We can check the type of a variable with the built-in function [`type`](https://docs.python.org/3.6/library/functions.html?#type).\n",
    "\n"
   ]
  },
  {
   "cell_type": "code",
   "execution_count": 1,
   "metadata": {},
   "outputs": [],
   "source": [
    "# x and y are integers\n",
    "print(x, type(x))\n",
    "print(y, type(y))\n",
    "# when we divide x and y, they are implicitely converted to floats\n",
    "# so that the result is also a float\n",
    "print(x/y, type(x/y))"
   ]
  },
  {
   "cell_type": "markdown",
   "metadata": {},
   "source": [
    "We can convert between integers and floats by calling the built-in functions [`int`](https://docs.python.org/3.6/library/functions.html?#int) and [`float`](https://docs.python.org/3.6/library/functions.html?#float):\n",
    "\n"
   ]
  },
  {
   "cell_type": "code",
   "execution_count": 1,
   "metadata": {},
   "outputs": [],
   "source": [
    "z = 3.2\n",
    "print(int(z), type(int(z)))\n",
    "h = 22\n",
    "print(float(h), type(float(h)))"
   ]
  },
  {
   "cell_type": "markdown",
   "metadata": {},
   "source": [
    "These functions are useful to convert strings into numbers.\n",
    "\n"
   ]
  },
  {
   "cell_type": "markdown",
   "metadata": {},
   "source": [
    "\n",
    "## Text Data\n",
    "\n"
   ]
  },
  {
   "cell_type": "markdown",
   "metadata": {},
   "source": [
    "Textual data in Python is stored in [`str`](https://docs.python.org/3.6/library/stdtypes.html#textseq) objects.\n",
    "There are several ways of creating strings:\n",
    "\n"
   ]
  },
  {
   "cell_type": "code",
   "execution_count": 1,
   "metadata": {},
   "outputs": [],
   "source": [
    "# Create strings with single quotes '\n",
    "first_name = 'Guilherme'\n",
    "# or double quotes \"\n",
    "last_name = \"Salome\"\n",
    "print(first_name, type(first_name), sys.getsizeof(first_name))\n",
    "# A string can also have quotation marks\n",
    "more_strings = 'This is a string with \"quotation marks\"'\n",
    "print(more_strings)\n",
    "# To create strings with multiple lines use triple quotes '''\n",
    "# or triple double quotes \"\"\"\n",
    "multiple_lines = '''This is a string\n",
    "that spans\n",
    "multiple lines. They can also be created with\n",
    "triple quotation marks \"\"\" \"\"\"'''\n",
    "print(multiple_lines)"
   ]
  },
  {
   "cell_type": "markdown",
   "metadata": {},
   "source": [
    "Strings have an implicit join when they are part of a single expression:\n",
    "\n"
   ]
  },
  {
   "cell_type": "code",
   "execution_count": 1,
   "metadata": {},
   "outputs": [],
   "source": [
    "name = \"Guilherme \" \"Salome\"\n",
    "complete_name = (\"Guilherme \" \"Salome\")"
   ]
  },
  {
   "cell_type": "markdown",
   "metadata": {},
   "source": [
    "Strings are a collection of characters.\n",
    "Think of a vector, where each element is a letter.\n",
    "We can access letters in a string using the `[]` notation.\n",
    "\n"
   ]
  },
  {
   "cell_type": "code",
   "execution_count": 1,
   "metadata": {},
   "outputs": [],
   "source": [
    "# The first letter of a string has the index 0\n",
    "# we can access it with [0]\n",
    "name = \"Guilherme\"\n",
    "print(name[0])\n",
    "print(name[1], name[2])\n",
    "# Last letter\n",
    "print(name[8])\n",
    "# Last letter of a string can be recovered with the index -1\n",
    "print(name[-1])"
   ]
  },
  {
   "cell_type": "markdown",
   "metadata": {},
   "source": [
    "We can use the built-in function [`len`](https://docs.python.org/3.6/library/functions.html?#len) to get number of letters in a string.\n",
    "\n"
   ]
  },
  {
   "cell_type": "code",
   "execution_count": 1,
   "metadata": {},
   "outputs": [],
   "source": [
    "print(len(name))\n",
    "# Since index starts at 0, the last letter is at position len(name)-1\n",
    "print(name[len(name) - 1])"
   ]
  },
  {
   "cell_type": "markdown",
   "metadata": {},
   "source": [
    "Strings are immutable:\n",
    "\n"
   ]
  },
  {
   "cell_type": "code",
   "execution_count": 1,
   "metadata": {},
   "outputs": [],
   "source": [
    "name = \"Guilherme\"\n",
    "print(name[0])                     # first letter of string\n",
    "name[0] = 'A'                      # error"
   ]
  },
  {
   "cell_type": "markdown",
   "metadata": {},
   "source": [
    "We can concatenate strings with the `+` operator.\n",
    "\n"
   ]
  },
  {
   "cell_type": "code",
   "execution_count": 1,
   "metadata": {},
   "outputs": [],
   "source": [
    "fname = \"John\"\n",
    "lname = \"Doe\"\n",
    "print(fname + lname)\n",
    "print(fname + ' ' + lname)"
   ]
  },
  {
   "cell_type": "markdown",
   "metadata": {},
   "source": [
    "Whatever is being concatenated has to have the type `str`, otherwise it needs to be converted to a string by using the built-in function [`str`](https://docs.python.org/3.6/library/functions.html?#func-str):\n",
    "\n"
   ]
  },
  {
   "cell_type": "code",
   "execution_count": 1,
   "metadata": {},
   "outputs": [],
   "source": [
    "x = 1\n",
    "name = \"Guilherme\"\n",
    "print('Student ' + x + ': ' + name)  # error since x is not a string\n",
    "# convert to string with str\n",
    "print('Student ' + str(x) + ': ' + name)  # error since x is not a string"
   ]
  },
  {
   "cell_type": "markdown",
   "metadata": {},
   "source": [
    "Strings are objects.\n",
    "Objects hold values, like the value of the string, but can also hold other information, like properties and methods.\n",
    "We have seen an object with properties when we created a complex number.\n",
    "In that case, the complex number object had two properties, one that held the real part of the number, and another that held the complex part of the number.\n",
    "Objects can also have methods.\n",
    "Methods are functions which relate to the object itself.\n",
    "For example, a method might use the objects value and create a new one.\n",
    "In the case of strings, there is a method that takes the string in the variable and returns a new string with all letter capitalized.\n",
    "\n"
   ]
  },
  {
   "cell_type": "code",
   "execution_count": 1,
   "metadata": {},
   "outputs": [],
   "source": [
    "first_name = 'guilherme'\n",
    "# Capitalize string\n",
    "print(first_name.capitalize())\n",
    "print(first_name)\n",
    "capitalized = first_name.capitalize()\n",
    "# All upper case\n",
    "upper_case = first_name.upper()\n",
    "print(upper_case)\n",
    "# All lower case\n",
    "print(upper_case.lower())"
   ]
  },
  {
   "cell_type": "markdown",
   "metadata": {},
   "source": [
    "Remember that strings are immutable, so string methods all return new strings when used.\n",
    "We will use other methods after we talk about sequences and booleans.\n",
    "A complete list of the string methods is available [here](https://docs.python.org/3.6/library/stdtypes.html#string-methods).\n",
    "\n"
   ]
  },
  {
   "cell_type": "markdown",
   "metadata": {},
   "source": [
    "\n",
    "## Boolean\n",
    "\n"
   ]
  },
  {
   "cell_type": "markdown",
   "metadata": {},
   "source": [
    "There are two boolean values: `True` and `False`.\n",
    "The booleans are a subclass of integers, and, in some contexts, the integers 1 and 0 represent the booleans `True` and `False`.\n",
    "\n",
    "We can obtain booleans via comparisons. There are 8 types of comparisons in Python:\n",
    "\n"
   ]
  },
  {
   "cell_type": "code",
   "execution_count": 1,
   "metadata": {},
   "outputs": [],
   "source": [
    "print(1 < 1)\n",
    "print(1 <= 1)\n",
    "print(1 > 1)\n",
    "print(1 >= 1)\n",
    "print(1 == 1)\n",
    "print(1 != 1)\n",
    "print(1 is 1)  # compares if two object are the same\n",
    "print(1 is not 1)"
   ]
  },
  {
   "cell_type": "markdown",
   "metadata": {},
   "source": [
    "Booleans support the operations: `and`, `or` and `not`.\n",
    "\n"
   ]
  },
  {
   "cell_type": "code",
   "execution_count": 1,
   "metadata": {},
   "outputs": [],
   "source": [
    "print((1 > 0) and (2 > 1))\n",
    "print((1 > 2) or (1 < 2))\n",
    "print((1 > 2) or (0 > 1))\n",
    "print(not True)"
   ]
  },
  {
   "cell_type": "markdown",
   "metadata": {},
   "source": [
    "The built-in function [`bool`](https://docs.python.org/3.6/library/functions.html?#bool) can convert <span class=\"underline\">any</span> value to a boolean.\n",
    "\n"
   ]
  },
  {
   "cell_type": "code",
   "execution_count": 1,
   "metadata": {},
   "outputs": [],
   "source": [
    "print(bool(0), bool(1))\n",
    "print(bool('Guilherme'))\n",
    "print(bool([]))"
   ]
  },
  {
   "cell_type": "markdown",
   "metadata": {},
   "source": [
    "When we use the function `bool` Python evaluates whether the input of the function is associated with False or True.\n",
    "The most common objects that will lead to a `False` value are:\n",
    "\n",
    "-   Constants that are False by definition: `False` and `None`\n",
    "-   Numbers that are zero: 0, 0.0, 0j\n",
    "-   Empty sequences: `''`, `()`, `[]`, `{}`\n",
    "\n",
    "Other objects that are non-empty will lead to a value of `True`.\n",
    "\n"
   ]
  },
  {
   "cell_type": "markdown",
   "metadata": {},
   "source": [
    "\n",
    "## Sequences\n",
    "\n"
   ]
  },
  {
   "cell_type": "markdown",
   "metadata": {},
   "source": [
    "Sequences define a sequence of objects where the order of the objects is kept.\n",
    "There are three basic types: `list`, `tuple`, `range`.\n",
    "A [`list`](https://docs.python.org/3.6/library/stdtypes.html#list) can hold any number of elements and types of objects:\n",
    "\n"
   ]
  },
  {
   "cell_type": "code",
   "execution_count": 1,
   "metadata": {},
   "outputs": [],
   "source": [
    "list_of_numbers = [1, 2, 3, 2.3, 3.1, -1, 0, -5]\n",
    "print(list_of_numbers)\n",
    "list_of_strings = ['Guilherme', 'Salome', 'HFFE', 'Lecture 13']\n",
    "mixed_list = [-1, False, 'Hello', 3.2]"
   ]
  },
  {
   "cell_type": "markdown",
   "metadata": {},
   "source": [
    "Elements of the list can be accessed by index.\n",
    "The index of a list starts at `0`.\n",
    "\n"
   ]
  },
  {
   "cell_type": "code",
   "execution_count": 1,
   "metadata": {},
   "outputs": [],
   "source": [
    "# first element at index 0\n",
    "print(list_of_numbers[0])\n",
    "print(list_of_numbers[1])"
   ]
  },
  {
   "cell_type": "markdown",
   "metadata": {},
   "source": [
    "The built-in function `len` gives the length of a list:\n",
    "\n"
   ]
  },
  {
   "cell_type": "code",
   "execution_count": 1,
   "metadata": {},
   "outputs": [],
   "source": [
    "print(len(list_of_numbers))\n",
    "print(len([]))\n",
    "print(len('HFFE'))"
   ]
  },
  {
   "cell_type": "markdown",
   "metadata": {},
   "source": [
    "Notice that a string is backed up by a list, so it shares some of its methods and returns the number of characters when `len` is called on a string.\n",
    "\n",
    "Because indices start at 0 and not at 1, the last index of a list is given by the length of such list minus 1.\n",
    "The last element of a list can also be accessed via the index `-1` (equivalent of Matlab's `end`):\n",
    "\n"
   ]
  },
  {
   "cell_type": "code",
   "execution_count": 1,
   "metadata": {},
   "outputs": [],
   "source": [
    "print(mixed_list[3])\n",
    "print(len(mixed_list))\n",
    "print(mixed_list[len(mixed_list)])  # index out of range\n",
    "print(mixed_list[len(mixed_list)-1])\n",
    "print(mixed_list[-1])"
   ]
  },
  {
   "cell_type": "markdown",
   "metadata": {},
   "source": [
    "We can recover several elements of a list, also known as slicing, using the `[]` notation.\n",
    "\n"
   ]
  },
  {
   "cell_type": "code",
   "execution_count": 1,
   "metadata": {},
   "outputs": [],
   "source": [
    "numbers = [-1, 2, 5, 7, 9, 10, 12]\n",
    "# recover first element\n",
    "numbers[0]\n",
    "# recover first three numbers\n",
    "numbers[0:3]\n",
    "# equivalent to\n",
    "numbers[:3]\n",
    "# recover from the third number to the fifth\n",
    "numbers[2:5]\n",
    "# recover from the 2nd number to the last\n",
    "numbers[1:len(numbers)]\n",
    "numbers[1:]\n",
    "# recover the last number\n",
    "numbers[-1]\n",
    "# recover every other number\n",
    "numbers[0:len(numbers):2]        # start:stop:step\n",
    "numbers[0::2]\n",
    "# recover every 3rd number\n",
    "numbers[0::3]"
   ]
  },
  {
   "cell_type": "markdown",
   "metadata": {},
   "source": [
    "Elements of a list can be modified:\n",
    "\n"
   ]
  },
  {
   "cell_type": "code",
   "execution_count": 1,
   "metadata": {},
   "outputs": [],
   "source": [
    "list_of_numbers[0] = 1000\n",
    "print(list_of_numbers)\n",
    "list_of_numbers[-1] = 'oops'\n",
    "print(list_of_numbers)"
   ]
  },
  {
   "cell_type": "markdown",
   "metadata": {},
   "source": [
    "A list can be extended:\n",
    "\n"
   ]
  },
  {
   "cell_type": "code",
   "execution_count": 1,
   "metadata": {},
   "outputs": [],
   "source": [
    "print(list_of_numbers)\n",
    "list_of_numbers.append(100)     # adds to the end of list\n",
    "print(list_of_numbers)\n",
    "list_of_numbers.insert(0, 100)  # inserts at beginning of list\n",
    "print(list_of_numbers)\n",
    "list_of_numbers.insert(1, 100)  # inserts at position 1, shifts everythin to the right"
   ]
  },
  {
   "cell_type": "markdown",
   "metadata": {},
   "source": [
    "It is important to note that adding elements to the beginning of a list or at a random location inside the list is slow. Appending at the end of the list is much faster.\n",
    "\n",
    "A list can be shrunk.\n",
    "\n"
   ]
  },
  {
   "cell_type": "code",
   "execution_count": 1,
   "metadata": {},
   "outputs": [],
   "source": [
    "print(list_of_numbers)\n",
    "list_of_numbers.pop()           # removes last item\n",
    "print(list_of_numbers)\n",
    "list_of_numbers.pop(0)          # removes first item (this is slow)\n",
    "print(list_of_numbers)\n",
    "del list_of_numbers[1]          # removes element at index 1\n",
    "print(list_of_numbers)"
   ]
  },
  {
   "cell_type": "markdown",
   "metadata": {},
   "source": [
    "A [`tuple`](https://docs.python.org/3.6/library/stdtypes.html#tuple) is also a sequence, but it is a sequence that cannot be modified after it is created.\n",
    "\n"
   ]
  },
  {
   "cell_type": "code",
   "execution_count": 1,
   "metadata": {},
   "outputs": [],
   "source": [
    "tuple_of_numbers = (1,2,3,4,5)\n",
    "print(tuple_of_numbers)\n",
    "print(tuple_of_numbers[0], tuple_of_numbers[-1], len(tuple_of_numbers))\n",
    "tuple_of_numbers[0] = 100       # raises error\n",
    "tuple_of_numbers.append(100)    # raises error\n",
    "tuple_of_numbers.pop()          # raises error\n",
    "del tuple_of_numbers[0]         # raises error"
   ]
  },
  {
   "cell_type": "markdown",
   "metadata": {},
   "source": [
    "Tuples are more efficient than lists since they occupy less bytes.\n",
    "Tuples are used when you want to fix a sequence of values that should not be changed.\n",
    "\n",
    "A [`range`](https://docs.python.org/3.6/library/stdtypes.html#range) constructs a sequence of numbers and is often used for looping a specific number of times in a loop.\n",
    "\n"
   ]
  },
  {
   "cell_type": "code",
   "execution_count": 1,
   "metadata": {},
   "outputs": [],
   "source": [
    "print(list(range(0, 10)))\n",
    "print(list(range(10)))\n",
    "print(list(range(0, 10, 2)))"
   ]
  },
  {
   "cell_type": "markdown",
   "metadata": {},
   "source": [
    "It is important to know that all functions that return a list of numbers in Python exclude the last number from the list. For example `range(5)` returns a list with the numbers `0,1,2,3,4`. This is because lists start in the index 0, so the last index of a list with 5 elements is the index 4.\n",
    "This contrasts with lists in Matlab which start at index 1, but is a small change that is more natural to programming and is the default in most of the programming languages.\n",
    "\n"
   ]
  },
  {
   "cell_type": "markdown",
   "metadata": {},
   "source": [
    "\n",
    "## Sets\n",
    "\n"
   ]
  },
  {
   "cell_type": "markdown",
   "metadata": {},
   "source": [
    "A [`set`](https://docs.python.org/3.6/library/stdtypes.html#set) is a list of <span class=\"underline\">distinct</span> objects without a specific order (unordered collection).\n",
    "To create a set we pass a list of elements to the `set` function:\n",
    "\n"
   ]
  },
  {
   "cell_type": "code",
   "execution_count": 1,
   "metadata": {},
   "outputs": [],
   "source": [
    "students = set(['A', 'B', 'C', 'D'])\n",
    "print(students)\n",
    "{'A', 'B', 'C', 'D'}            # also creates the same set\n",
    "set()                           # empty set\n",
    "{}                              # NOT an empty set, but an empty dictionary\n",
    "print(type(set()), type({}))"
   ]
  },
  {
   "cell_type": "markdown",
   "metadata": {},
   "source": [
    "Notice that the elements in a set are all unique. Indeed, `set` is an implementation of a mathematical set:\n",
    "\n"
   ]
  },
  {
   "cell_type": "code",
   "execution_count": 1,
   "metadata": {},
   "outputs": [],
   "source": [
    "print({'A', 'A', 'A', 'B', 'B', 'C'})"
   ]
  },
  {
   "cell_type": "markdown",
   "metadata": {},
   "source": [
    "A `set` can be extended and its elements can be removed:\n",
    "\n"
   ]
  },
  {
   "cell_type": "code",
   "execution_count": 1,
   "metadata": {},
   "outputs": [],
   "source": [
    "print(students)\n",
    "students.add('E')\n",
    "print(students)                 # notice the order of elements might change\n",
    "students.discard('A')           # removes 'A' if it is in the set\n",
    "students.discard('A')           # if not in the set, do nothing\n",
    "students.remove('B')            # removes 'B' it it is in the set\n",
    "students.remove('B')            # if not in the set, raise error"
   ]
  },
  {
   "cell_type": "markdown",
   "metadata": {},
   "source": [
    "We can find how many elements are in a set with `len`.\n",
    "\n"
   ]
  },
  {
   "cell_type": "code",
   "execution_count": 1,
   "metadata": {},
   "outputs": [],
   "source": [
    "print(len(students))"
   ]
  },
  {
   "cell_type": "markdown",
   "metadata": {},
   "source": [
    "As the implementation of a mathematical set, we can take unions, intersections and differences. We can also check if an element is in a set.\n",
    "\n"
   ]
  },
  {
   "cell_type": "code",
   "execution_count": 1,
   "metadata": {},
   "outputs": [],
   "source": [
    "students = {'A', 'B', 'C', 'D', 'E'}\n",
    "teacher = {'G'}\n",
    "assistant = {'I'}\n",
    "everyone = students.union(teacher, assistant)  # new set that is union of all\n",
    "everyone_but_A = students.difference({'A'})\n",
    "print({'A', 'B', 'C'}.intersection({'B', 'C'}))\n",
    "print('A' in students)"
   ]
  },
  {
   "cell_type": "markdown",
   "metadata": {},
   "source": [
    "Other operations are described [here](https://docs.python.org/3.6/library/stdtypes.html#set).\n",
    "\n",
    "A [`frozenset`](https://docs.python.org/3.6/library/stdtypes.html#frozenset) is similar to a `set` but is an immutable collection.\n",
    "\n"
   ]
  },
  {
   "cell_type": "code",
   "execution_count": 1,
   "metadata": {},
   "outputs": [],
   "source": [
    "students = frozenset(['A', 'B', 'C', 'D', 'E'])\n",
    "# can do everything a set does, but cannot be modified\n",
    "students.add('F')               # error"
   ]
  },
  {
   "cell_type": "markdown",
   "metadata": {},
   "source": [
    "A `frozenset` is useful when you want to name a set of values that will have some use in your program.\n",
    "This makes your code more readable and easier to identify key parameters.\n",
    "\n"
   ]
  },
  {
   "cell_type": "markdown",
   "metadata": {},
   "source": [
    "\n",
    "## Mapping (Dictionaries)\n",
    "\n"
   ]
  },
  {
   "cell_type": "markdown",
   "metadata": {},
   "source": [
    "A mapping is an object that associates names (keys) to values (any object).\n",
    "The standard implementation of a mapping in Python is a dictionary: [`dict`](https://docs.python.org/3.6/library/stdtypes.html#dict).\n",
    "A dictionary can be created by giving the `dict` constructor a list of `key:value` pairs:\n",
    "\n"
   ]
  },
  {
   "cell_type": "code",
   "execution_count": 1,
   "metadata": {},
   "outputs": [],
   "source": [
    "grades = {'A': 10, 'B': 8, 'C': 7, 'D': 8.5, 'E': 9.8}\n",
    "print(type(grades))\n",
    "print(len(grades))\n",
    "grades['A']                     # returns value for grade of A\n",
    "grades['C'] = 7.5\n",
    "print(grades)"
   ]
  },
  {
   "cell_type": "markdown",
   "metadata": {},
   "source": [
    "Dictionaries can be modified, its elements can be removed, new elements can be added, and existing elements can be updated.\n",
    "\n"
   ]
  },
  {
   "cell_type": "code",
   "execution_count": 1,
   "metadata": {},
   "outputs": [],
   "source": [
    "print(grades)\n",
    "grades.update({'A': 0})         # A was cheating\n",
    "print(grades)\n",
    "del grades['B']                 # remove grade for B\n",
    "print(grades)\n",
    "grades['F'] = 10                # adds a new pair to the dictionary\n",
    "print(grades)"
   ]
  },
  {
   "cell_type": "markdown",
   "metadata": {},
   "source": [
    "We can recover (as a list) all of the keys of a dictionary, all of its values, and all of the `key:value` pairs:\n",
    "\n"
   ]
  },
  {
   "cell_type": "code",
   "execution_count": 1,
   "metadata": {},
   "outputs": [],
   "source": [
    "list(grades.keys())             # a list of all dict keys\n",
    "list(grades.values())           # a list of all dict values\n",
    "list(grades.items())            # a list of the key:value pairs"
   ]
  },
  {
   "cell_type": "markdown",
   "metadata": {},
   "source": [
    "Other methods are described [here](https://docs.python.org/3.6/library/stdtypes.html#dict).\n",
    "\n"
   ]
  },
  {
   "cell_type": "markdown",
   "metadata": {},
   "source": [
    "\n",
    "## Objects\n",
    "\n"
   ]
  },
  {
   "cell_type": "markdown",
   "metadata": {},
   "source": [
    "Objects are the core of everything in Python. In fact, every data in Python is represented by an object. All of the basic types we studied so far are objects. That is why when we call `type(1)`, for example, we get back `<class 'int'>`. This means the number 1 is an object of the class int.\n",
    "\n",
    "Every object in Python has: an identity, a type and a value.\n",
    "This means every single variable we declare in our scripts will have an identity, a type and a value, since everything in Python is an object, no exceptions.\n",
    "\n",
    "The <span class=\"underline\">identity</span> of an object is a value that never changes after it was created, it is like the address of an object in the computer's memory.\n",
    "The comparison operator `is` compares the identity of two objects.\n",
    "\n"
   ]
  },
  {
   "cell_type": "code",
   "execution_count": 1,
   "metadata": {},
   "outputs": [],
   "source": [
    "a = []\n",
    "b = []\n",
    "print(a == b)                          # the lists have the same values\n",
    "print(a is b)                          # but they are not the same objects\n",
    "a.append(1)\n",
    "b.append(1)\n",
    "print(a == b)  # both lists have the same values, a 1\n",
    "# but the 1 that lives in a is not the same that lives in b\n",
    "# I can change the value of b[0] and it does not affect a[0]\n",
    "print(a is b)"
   ]
  },
  {
   "cell_type": "markdown",
   "metadata": {},
   "source": [
    "We can get the identity of an object with [`id`](https://docs.python.org/3.6/library/functions.html?#id) function (a function is also an object in Python):\n",
    "\n"
   ]
  },
  {
   "cell_type": "code",
   "execution_count": 1,
   "metadata": {},
   "outputs": [],
   "source": [
    "print(\"Identity of 'a': \" + str(id(a)))  # id returns an integer representing a's identity\n",
    "print(\"Identity of 'b': \" + str(id(b)))  # id returns an integer representing a's identity"
   ]
  },
  {
   "cell_type": "markdown",
   "metadata": {},
   "source": [
    "The <span class=\"underline\">type</span> of an object determines what functions it supports, it represents the object's definition. The type of an object cannot be changed. As we have seen before, we can discover the type of an object with the `type` function.\n",
    "\n"
   ]
  },
  {
   "cell_type": "code",
   "execution_count": 1,
   "metadata": {},
   "outputs": [],
   "source": [
    "print(type(a))\n",
    "  print(type(type))               # type is an object, and has a type"
   ]
  },
  {
   "cell_type": "markdown",
   "metadata": {},
   "source": [
    "The <span class=\"underline\">value</span> of an object may be mutable or immutable, like lists and tuples.\n",
    "\n",
    "The built-in functions [`dir`](https://docs.python.org/3.6/library/functions.html?#dir) and [`help`](https://docs.python.org/3.6/library/functions.html?#help) can be used to inspect the methods of an object, and to get help on those methods:\n",
    "\n"
   ]
  },
  {
   "cell_type": "code",
   "execution_count": 1,
   "metadata": {},
   "outputs": [],
   "source": [
    "a = [1, 2, 3]\n",
    "print(type(a))                  # a is a list\n",
    "print(dir(a))                   # these are all of its methods\n",
    "# we can understand each method by using the help function\n",
    "help(a.reverse)\n",
    "help(a.sort)"
   ]
  },
  {
   "cell_type": "markdown",
   "metadata": {},
   "source": [
    "For now we will skip the topic of how to define new objects, but we will talk about it after we cover loops, conditionals and functions.\n",
    "\n"
   ]
  },
  {
   "cell_type": "markdown",
   "metadata": {},
   "source": [
    "\n",
    "## Exceptions\n",
    "\n"
   ]
  },
  {
   "cell_type": "markdown",
   "metadata": {},
   "source": [
    "Exceptions are objects that hold the information about errors that occur in Python during the run-time of a script.\n",
    "There are many built-in exceptions that are raised depending on the situation.\n",
    "For example, trying to access an element of a list with an index that is not correct will raise an [`IndexError`](https://docs.python.org/3.6/library/exceptions.html?highlight=indexerror#IndexError):\n",
    "\n"
   ]
  },
  {
   "cell_type": "code",
   "execution_count": 1,
   "metadata": {},
   "outputs": [],
   "source": [
    "students = ['A', 'B', 'C']\n",
    "students[4]"
   ]
  },
  {
   "cell_type": "markdown",
   "metadata": {},
   "source": [
    "For example, trying to access a value stored in a dictionary with a non-existing key will raise a [`KeyError`](https://docs.python.org/3.6/library/exceptions.html?#KeyError):\n",
    "\n"
   ]
  },
  {
   "cell_type": "code",
   "execution_count": 1,
   "metadata": {},
   "outputs": [],
   "source": [
    "grades = {'A': 10, 'B': 8}\n",
    "grades['C']"
   ]
  },
  {
   "cell_type": "markdown",
   "metadata": {},
   "source": [
    "For example, calling a method on an object that does not actually have that method will raise an [`AttributeError`](https://docs.python.org/3.6/library/exceptions.html?#AttributeError):\n",
    "\n"
   ]
  },
  {
   "cell_type": "code",
   "execution_count": 1,
   "metadata": {},
   "outputs": [],
   "source": [
    "students = {'A', 'B', 'C', 'D', 'E'}\n",
    "students.append('F')            # there is no append method in a set"
   ]
  },
  {
   "cell_type": "markdown",
   "metadata": {},
   "source": [
    "A complete list of the exceptions that are built-in Python is available [here](https://docs.python.org/3.6/library/exceptions.html#concrete-exceptions).\n",
    "\n",
    "The philosophy of programming in Python when it comes to dealing with errors is known as `EAFP`: Easier to Ask for Forgiveness than Permission.\n",
    "It means that when we are coding, we should assume that the values/methods exist and try to do the computations, but if something fails, then we will fix it.\n",
    "This is opposed to the style known as LBYL: Look Before You Leap.\n",
    "Where you check if everything is as should be before doing the computations.\n",
    "This distinction is just a philosophical one, and, in the case of Python, the EAFP increases the speed of developing software.\n",
    "\n",
    "In a LYBL style of coding we would write software as such:\n",
    "\n"
   ]
  },
  {
   "cell_type": "code",
   "execution_count": 1,
   "metadata": {},
   "outputs": [],
   "source": [
    "if is_everything_right_for_computing():\n",
    "    # if everything is right (variables have the values we expect, ...)\n",
    "    do_the_computations()\n",
    "else:\n",
    "    handle_the_error_case()"
   ]
  },
  {
   "cell_type": "markdown",
   "metadata": {},
   "source": [
    "In a EAFP style of coding we would write the same software as:\n",
    "\n"
   ]
  },
  {
   "cell_type": "code",
   "execution_count": 1,
   "metadata": {},
   "outputs": [],
   "source": [
    "try:\n",
    "    do_the_computations()\n",
    "except SomeErrorHappened:\n",
    "    handle_the_error_case()"
   ]
  },
  {
   "cell_type": "markdown",
   "metadata": {},
   "source": [
    "The EAFP approach is what we will use when handling errors.\n",
    "\n",
    "Handling errors is an extremely important topic, but requires understanding conditionals, so we will defer studying exceptions to a later section.\n",
    "\n"
   ]
  },
  {
   "cell_type": "markdown",
   "metadata": {},
   "source": [
    "\n",
    "# Control Flow Tools\n",
    "\n"
   ]
  },
  {
   "cell_type": "markdown",
   "metadata": {},
   "source": [
    "Control flow refers to the tools we have available to control the execution of our script: conditionals (if, else, elif), loops (while, for) and functions.\n",
    "\n"
   ]
  },
  {
   "cell_type": "markdown",
   "metadata": {},
   "source": [
    "\n",
    "## Conditionals\n",
    "\n"
   ]
  },
  {
   "cell_type": "markdown",
   "metadata": {},
   "source": [
    "The syntax for [`if`](https://docs.python.org/3.6/tutorial/controlflow.html#if-statements) statements is:\n",
    "\n"
   ]
  },
  {
   "cell_type": "code",
   "execution_count": 1,
   "metadata": {},
   "outputs": [],
   "source": [
    "if condition:\n",
    "    # if condition evaluates to True\n",
    "    # run code in here\n",
    "else:\n",
    "    # if condition is False\n",
    "    # run code in here instead"
   ]
  },
  {
   "cell_type": "markdown",
   "metadata": {},
   "source": [
    "Notice the use of a colon after the condition and after the `else` keyword.\n",
    "Also observe that we have indented the expressions after the `if` and `else` keywords.\n",
    "Contrary to other languages that use brackets or the `end` keyword to delimit a scope, Python uses indentation.\n",
    "The indentation indicates what is inside the `if` block and what is not.\n",
    "Finally, notice that semicolons are not required by Python, you can still use them but they are not required, instead Python uses linebreaks to find the end of the command.\n",
    "\n",
    "The condition that comes after the `if` keyword is an expression that evaluates to a boolean. If that is true, then the indented code after `if`  is executed. If the expression evaluates to false, then the indented code after `else` is executed.\n",
    "\n",
    "For example:\n",
    "\n"
   ]
  },
  {
   "cell_type": "code",
   "execution_count": 1,
   "metadata": {},
   "outputs": [],
   "source": [
    "value = 100\n",
    "if value < 100:\n",
    "    print('Value is smaller than 100')\n",
    "else:\n",
    "    print('Value is at least 100')"
   ]
  },
  {
   "cell_type": "markdown",
   "metadata": {},
   "source": [
    "We can also have an `if` without an `else` or an `elif`:\n",
    "\n"
   ]
  },
  {
   "cell_type": "code",
   "execution_count": 1,
   "metadata": {},
   "outputs": [],
   "source": [
    "say_hi = True\n",
    "if say_hi:\n",
    "    print(\"Hi!\")"
   ]
  },
  {
   "cell_type": "markdown",
   "metadata": {},
   "source": [
    "We can test multiple conditions:\n",
    "\n"
   ]
  },
  {
   "cell_type": "code",
   "execution_count": 1,
   "metadata": {},
   "outputs": [],
   "source": [
    "name = 'Guilherme'\n",
    "if name.startswith('A'):\n",
    "    print('Starts with letter A')\n",
    "elif name.startswith('B'):\n",
    "    print('Starts with letter B')\n",
    "else:\n",
    "    print('Starts with some other letter')"
   ]
  },
  {
   "cell_type": "markdown",
   "metadata": {},
   "source": [
    "If the first two conditions are not executed then the last condition (the default) is.\n",
    "Notice the use of the `str` method [`startswith`](https://docs.python.org/3.6/library/stdtypes.html?#str.startswith) to check whether the first letter of the string `name` matches some other letter.\n",
    "\n",
    "It is possible to use several `elif` to test more conditions.\n",
    "\n"
   ]
  },
  {
   "cell_type": "code",
   "execution_count": 1,
   "metadata": {},
   "outputs": [],
   "source": [
    "if x < -1:\n",
    "    doSomething\n",
    "elif x >= -1 and x <= 1:\n",
    "    doSomethingElse\n",
    "elif x > 2 and x != 3:\n",
    "    doYetAnotherThing\n",
    "else:\n",
    "    # x == 3\n",
    "    doOtherThing"
   ]
  },
  {
   "cell_type": "markdown",
   "metadata": {},
   "source": [
    "\n",
    "## Loops\n",
    "\n"
   ]
  },
  {
   "cell_type": "markdown",
   "metadata": {},
   "source": [
    "In Python, we can write loops with [`while`](https://docs.python.org/3.6/tutorial/introduction.html#first-steps-towards-programming) and [`for`](https://docs.python.org/3.6/tutorial/controlflow.html#for-statements).\n",
    "\n",
    "A while loop evaluates an expression, and, if it is True, a block of is executed and the loop repeats.\n",
    "The syntax for a `while` is:\n",
    "\n"
   ]
  },
  {
   "cell_type": "code",
   "execution_count": 1,
   "metadata": {},
   "outputs": [],
   "source": [
    "while condition:\n",
    "    # if the condition is true\n",
    "    do something here"
   ]
  },
  {
   "cell_type": "markdown",
   "metadata": {},
   "source": [
    "The code inside the `while` loop will be executed as long as the `condition` evaluates to True.\n",
    "\n",
    "For example:\n",
    "\n"
   ]
  },
  {
   "cell_type": "code",
   "execution_count": 1,
   "metadata": {},
   "outputs": [],
   "source": [
    "total = 10\n",
    "i = 0\n",
    "print(\"Beginning while loop:\")\n",
    "while i < total:\n",
    "    i += 1                      # equivalent to i = i + 1\n",
    "    print(i)"
   ]
  },
  {
   "cell_type": "markdown",
   "metadata": {},
   "source": [
    "A `for` loop can be written as:\n",
    "\n"
   ]
  },
  {
   "cell_type": "code",
   "execution_count": 1,
   "metadata": {},
   "outputs": [],
   "source": [
    "for i in iterator:\n",
    "    do something here"
   ]
  },
  {
   "cell_type": "markdown",
   "metadata": {},
   "source": [
    "A for loop iterates the variable `i` over the values in `iterator`.\n",
    "For each value `i` takes, the code block is executed.\n",
    "\n",
    "For example:\n",
    "\n"
   ]
  },
  {
   "cell_type": "code",
   "execution_count": 1,
   "metadata": {},
   "outputs": [],
   "source": [
    "students = ['A', 'B', 'C', 'D', 'E']\n",
    "for i in [0, 1, 2, 3, 4]:\n",
    "    print(students[i])"
   ]
  },
  {
   "cell_type": "markdown",
   "metadata": {},
   "source": [
    "Remember that we have two built-in functions that can help here. The function `range` can create a list of numbers like the one in the for loop above. And the function `len` returns the length of an object.\n",
    "So:\n",
    "\n"
   ]
  },
  {
   "cell_type": "code",
   "execution_count": 1,
   "metadata": {},
   "outputs": [],
   "source": [
    "students = ['A', 'B', 'C', 'D', 'E']\n",
    "for i in range(len(students)):\n",
    "    print(students[i])"
   ]
  },
  {
   "cell_type": "markdown",
   "metadata": {},
   "source": [
    "For loops in Python really behave like a \"for-each\" loop.\n",
    "We can iterate over the elements of `students` directly, without the need to use an index.\n",
    "\n"
   ]
  },
  {
   "cell_type": "code",
   "execution_count": 1,
   "metadata": {},
   "outputs": [],
   "source": [
    "students = ['A', 'B', 'C', 'D', 'E']\n",
    "for name in students:\n",
    "    print(name)"
   ]
  },
  {
   "cell_type": "markdown",
   "metadata": {},
   "source": [
    "The container with the students takes care of giving out each of the elements without explicitly tracking the index of elements.\n",
    "If the container (in this case a list) is ordered, then the elements will be processed in the same order.\n",
    "If the container is not ordered, like in a `set`, then the loop would process each elements in an arbitrary order, but all of the elements would be processed.\n",
    "\n",
    "If you really need to access the indices then you can use the built-in function [`enumerate`](https://docs.python.org/3.6/library/functions.html#enumerate) to iterate over the indices and the student names at the same time:\n",
    "\n"
   ]
  },
  {
   "cell_type": "code",
   "execution_count": 1,
   "metadata": {},
   "outputs": [],
   "source": [
    "for i, name in enumerate(students):\n",
    "    print('students[' + str(i) + ']=' + name)"
   ]
  },
  {
   "cell_type": "markdown",
   "metadata": {},
   "source": [
    "The iterator `enumerate(students)` returns more than one value (it returns two values at each iteration). In general, iterators can return a `tuple` with any number of values, and these values are unpacked in the for-loop. In this case, the `enumerate(students)` returns a tuple with two elements, the first is an integer representing the index (starting at 0), and the second is one of the elements of the students list.\n",
    "These two values are unpacked, the first one is assigned to the variable `i`, and the second is assigned to the variable `name`.\n",
    "\n",
    "We can iterate over keys and values of a dictionary.\n",
    "To do so, we use the [`items`](https://docs.python.org/3.6/library/stdtypes.html?highlight=dict.items#dict.items) method of dictionaries:\n",
    "\n"
   ]
  },
  {
   "cell_type": "code",
   "execution_count": 1,
   "metadata": {},
   "outputs": [],
   "source": [
    "studentsGrades = {'A': 10, 'B': 9, 'C': 9.5, 'D': 8}\n",
    "dir(grades)\n",
    "help(grades.items)\n",
    "for name, grade in studentsGrades.items():\n",
    "    print(f\"{name}'s grade was {grade}\")"
   ]
  },
  {
   "cell_type": "markdown",
   "metadata": {},
   "source": [
    "In some other languages a for-loop is written with the following syntax:\n",
    "\n"
   ]
  },
  {
   "cell_type": "code",
   "execution_count": 1,
   "metadata": {},
   "outputs": [],
   "source": [
    "for (int i = a; i < n; i += s) {\n",
    "do stuff here\n",
    "}"
   ]
  },
  {
   "cell_type": "markdown",
   "metadata": {},
   "source": [
    "This type of loop can be written in Python using the function `range`:\n",
    "\n"
   ]
  },
  {
   "cell_type": "code",
   "execution_count": 1,
   "metadata": {},
   "outputs": [],
   "source": [
    "for i in range(a, n, s):\n",
    "    # do things here"
   ]
  },
  {
   "cell_type": "markdown",
   "metadata": {},
   "source": [
    "The function `range(a, n, s)` will create a list of numbers starting at the value `a`, stops before the value `n`, and has a step size `s`.\n",
    "\n"
   ]
  },
  {
   "cell_type": "markdown",
   "metadata": {},
   "source": [
    "\n",
    "## Break and Else Statements in For Loops\n",
    "\n"
   ]
  },
  {
   "cell_type": "markdown",
   "metadata": {},
   "source": [
    "The [`break`](https://docs.python.org/3.6/tutorial/controlflow.html?#break-and-continue-statements-and-else-clauses-on-loops) keyword can be used inside a loop (either for or while) to break out of it.\n",
    "Specifically, the `break` keyword breaks out of the most inner loop.\n",
    "\n"
   ]
  },
  {
   "cell_type": "code",
   "execution_count": 1,
   "metadata": {},
   "outputs": [],
   "source": [
    "for i in range(10):\n",
    "    if i == 5:\n",
    "        break\n",
    "    print(i)"
   ]
  },
  {
   "cell_type": "markdown",
   "metadata": {},
   "source": [
    "Another example:\n",
    "\n"
   ]
  },
  {
   "cell_type": "code",
   "execution_count": 1,
   "metadata": {},
   "outputs": [],
   "source": [
    "j = 0\n",
    "while True:\n",
    "    for i in range(1000):\n",
    "        print(i, j)\n",
    "        if i == 5:\n",
    "            break\n",
    "    j += 1\n",
    "    if j == 2:\n",
    "        break"
   ]
  },
  {
   "cell_type": "markdown",
   "metadata": {},
   "source": [
    "Loops also have an `else` clause that is executed after the loop finishes (after the iterator is exhausted) and only if the loop finishes without the use of a `break`.\n",
    "\n"
   ]
  },
  {
   "cell_type": "code",
   "execution_count": 1,
   "metadata": {},
   "outputs": [],
   "source": [
    "checkIfPrime = range(3, 10)     # what number is prime from 3 to 9\n",
    "for number in checkIfPrime:\n",
    "    for divisor in range(2, number):\n",
    "        if number % divisor == 0:  # number can be written as a*b with a,b < number\n",
    "            print(f'{number} is not prime')\n",
    "            print(f'{number}={divisor}*{number//divisor}')\n",
    "            break\n",
    "    else:\n",
    "        # no break occurred, this means no divisor was found\n",
    "        print(f'{number} is prime!')"
   ]
  },
  {
   "cell_type": "markdown",
   "metadata": {},
   "source": [
    "Notice that the `else` clause does not belong to the `if`, but actually to the `for`, the indentations are different.\n",
    "\n"
   ]
  },
  {
   "cell_type": "markdown",
   "metadata": {},
   "source": [
    "\n",
    "## Functions\n",
    "\n"
   ]
  },
  {
   "cell_type": "markdown",
   "metadata": {},
   "source": [
    "Functions can be defined with the `def` keyword and there is no need to specify the type of the return (remember values in Python are inferred when they are assigned).\n",
    "The body of the function starts in the next line and must be indented.\n",
    "\n"
   ]
  },
  {
   "cell_type": "code",
   "execution_count": 1,
   "metadata": {},
   "outputs": [],
   "source": [
    "def writeFibonacciSeries(n):\n",
    "    \"\"\"\n",
    "    Writes a list of the first n numbers from the Fibonacci series.\n",
    "\n",
    "    Input:\n",
    "     n: integer, number of elements to obtain from the Fibonacci series\n",
    "        n >= 2\n",
    "\n",
    "    Output:\n",
    "     series: list of integers\n",
    "    \"\"\"\n",
    "    series = [1, 1]             # first 2 numbers of the series\n",
    "    total = 0\n",
    "    while total < n - 2:\n",
    "        series.append(sum(series[-2:]))\n",
    "        total += 1\n",
    "    return series"
   ]
  },
  {
   "cell_type": "markdown",
   "metadata": {},
   "source": [
    "After the `def` keyword comes the name of the function, and then parentheses `()`. Inside the parentheses are the name of the variables, if any, and then comes a colon.\n",
    "\n",
    "The body of a functin starts with its documentation string (docstring). The triple quotes define a multi-line comment and it is a good practice to add the definition of the function, or at least what it is supposed to do and output.\n",
    "\n",
    "We can execute this code cell so that the function `writeFobinacciSeries` is available for use.\n",
    "We can now call this function:\n",
    "\n"
   ]
  },
  {
   "cell_type": "code",
   "execution_count": 1,
   "metadata": {},
   "outputs": [],
   "source": [
    "writeFibonacciSeries(10)"
   ]
  },
  {
   "cell_type": "markdown",
   "metadata": {},
   "source": [
    "Notice that calling the function `help` on or just defined function will output its documentation:\n",
    "\n"
   ]
  },
  {
   "cell_type": "code",
   "execution_count": 1,
   "metadata": {},
   "outputs": [],
   "source": [
    "help(writeFibonacciSeries)"
   ]
  },
  {
   "cell_type": "markdown",
   "metadata": {},
   "source": [
    "The body of the function defines a local scope.\n",
    "Any variables that are assigned in the body of the function first refer to the local scope, and then to the global scope.\n",
    "\n"
   ]
  },
  {
   "cell_type": "code",
   "execution_count": 1,
   "metadata": {},
   "outputs": [],
   "source": [
    "message = \"Hello World\"\n",
    "def sayHello():\n",
    "    message = \"Hello World!!!!\"\n",
    "    print(message)\n",
    "\n",
    "print(message)                  # prints Hello World, not Hello World!!!!"
   ]
  },
  {
   "cell_type": "markdown",
   "metadata": {},
   "source": [
    "The variable `message` is first defined outside the function, it is a global variable.\n",
    "Inside the `sayHello` function we define a variable with the same name, it is a local variable and does not overwrite the global variable with the same name.\n",
    "This becomes clear when we print the value of `message` outside of the function.\n",
    "\n",
    "Notice that the `sayHello` function has no `return` keyword and does not return any value.\n",
    "A function that has no `return` keyword implicitly returns a value of `None`.\n",
    "That is, Python impicitly appends a `return None` to the function that has no `return` value.\n",
    "The body of the function ends when the indentation ends, so there is no need to use brackets or an `end` keyword.\n",
    "When the value of `None` is the only one to be returned by a function, the REPL suppress printing it on the screen.\n",
    "\n"
   ]
  },
  {
   "cell_type": "code",
   "execution_count": 1,
   "metadata": {},
   "outputs": [],
   "source": [
    "sayHello()                      # does not print the return value\n",
    "print(sayHello())               # prints the return value, which is None\n",
    "a = sayHello()\n",
    "a == None                       # True"
   ]
  },
  {
   "cell_type": "markdown",
   "metadata": {},
   "source": [
    "\n",
    "### Functions are Objects, like everything else\n",
    "\n"
   ]
  },
  {
   "cell_type": "markdown",
   "metadata": {},
   "source": [
    "Functions are first-class objects, which means they are treated the same as any other object in the language.\n",
    "Remember, everything in Python is an object.\n",
    "Functions can be created, destroyed (this is done automatically by Python), passed to other functions, assigned to a variable, returned from another function.\n",
    "\n"
   ]
  },
  {
   "cell_type": "code",
   "execution_count": 1,
   "metadata": {},
   "outputs": [],
   "source": [
    "type(sayHello)\n",
    "print(sayHello)                 # prints info, address of function in memory\n",
    "a = sayHello\n",
    "print(a)                        # same address\n",
    "# the variable a points to the same function\n",
    "id(a) == id(sayHello)"
   ]
  },
  {
   "cell_type": "markdown",
   "metadata": {},
   "source": [
    "When a function is defined and loaded by the Python interpreter it is assigned some space in memory.\n",
    "When we ran the code that defined `sayHello`, the function is created and assigned some space in memoy.\n",
    "The name `sayHello` then points to that space in memory.\n",
    "When we assign it to the variable `a`, then `a` starts pointing at the same space in memory.\n",
    "We can in fact delete the name `sayHello` and the function will still be accessible via the name `a`:\n",
    "\n"
   ]
  },
  {
   "cell_type": "code",
   "execution_count": 1,
   "metadata": {},
   "outputs": [],
   "source": [
    "del sayHello\n",
    "print(sayHello)                 # name not defined\n",
    "print(a)                        # the function lives!\n",
    "a()"
   ]
  },
  {
   "cell_type": "markdown",
   "metadata": {},
   "source": [
    "We can pass functions as inputs to other functions, and even return a function from another function:\n",
    "\n"
   ]
  },
  {
   "cell_type": "code",
   "execution_count": 1,
   "metadata": {},
   "outputs": [],
   "source": [
    "def greetingFactory(name):\n",
    "    def greet():\n",
    "        print(f\"Welcome, {name}!\")\n",
    "    return greet"
   ]
  },
  {
   "cell_type": "markdown",
   "metadata": {},
   "source": [
    "The function defined above takes a name as an argument, and creates a function that prints a message using the name.\n",
    "It then returns the newly defined function.\n",
    "This function that was returned remembers the value of `name` that was used in its construction, this is called a 'closure'.\n",
    "A closure is a function that remembers the values of the variables in the enclosing scope (the scope of `greetingFactory`).\n",
    "\n"
   ]
  },
  {
   "cell_type": "code",
   "execution_count": 1,
   "metadata": {},
   "outputs": [],
   "source": [
    "name = 'Guilherme'\n",
    "greetMyself = greetingFactory(name)\n",
    "greetMyself()\n",
    "greetingFactory('Doe')()"
   ]
  },
  {
   "cell_type": "markdown",
   "metadata": {},
   "source": [
    "\n",
    "### Default Values\n",
    "\n"
   ]
  },
  {
   "cell_type": "markdown",
   "metadata": {},
   "source": [
    "Functions can take arguments with default values! (This is not the case in Matlab, where default values is not straightforward)\n",
    "\n"
   ]
  },
  {
   "cell_type": "code",
   "execution_count": 1,
   "metadata": {},
   "outputs": [],
   "source": [
    "def installVirus(prompt, retries=4, reminder='Please try again!'):\n",
    "    while True:\n",
    "        response = input(prompt)  # asks user for input\n",
    "        if response in ('y', 'Y', 'yes', 'Yes'):\n",
    "            return True\n",
    "        if response in ('n', 'N', 'no', 'No'):\n",
    "            return False\n",
    "        retries = retries - 1   # retries starts at 4 by default\n",
    "        if retries <= 0:\n",
    "            break\n",
    "    print(reminder)"
   ]
  },
  {
   "cell_type": "markdown",
   "metadata": {},
   "source": [
    "Notice the use of the membership operator [`in`](https://docs.python.org/3.6/reference/expressions.html#membership-test-operations) to check whether the `response` variable is a member of a set.\n",
    "\n",
    "This function can be called in several different ways:\n",
    "\n"
   ]
  },
  {
   "cell_type": "code",
   "execution_count": 1,
   "metadata": {},
   "outputs": [],
   "source": [
    "installVirus('Do you want to Install this software?')\n",
    "installVirus('Install?', 1)\n",
    "installVirus('Delete your computer?', 10, 'Try again!')"
   ]
  },
  {
   "cell_type": "markdown",
   "metadata": {},
   "source": [
    "You can even specify which variable you are assigning the value to by using name and value pairs:\n",
    "\n"
   ]
  },
  {
   "cell_type": "code",
   "execution_count": 1,
   "metadata": {},
   "outputs": [],
   "source": [
    "installVirus('Delete file?', reminder='Did not work, try again.')"
   ]
  },
  {
   "cell_type": "markdown",
   "metadata": {},
   "source": [
    "You can use other variables to hold the default values for inputs in a function.\n",
    "However, the default values are captured (evaluated) when the function is first defined.\n",
    "That is, even if the value of the variable changes, the default value will not change:\n",
    "\n"
   ]
  },
  {
   "cell_type": "code",
   "execution_count": 1,
   "metadata": {},
   "outputs": [],
   "source": [
    "i = 10\n",
    "def f(arg=i):\n",
    "    print(arg)\n",
    "i = 20\n",
    "f()                             # prints 10"
   ]
  },
  {
   "cell_type": "markdown",
   "metadata": {},
   "source": [
    "The inputs of a function are positional: the order they are defined in the function definition is the order in which they should be received.\n",
    "However, is possible to change the order by specifying the name of the input.\n",
    "In this case, we pass `name=value` pair, also known as keyword arguments.\n",
    "For example:\n",
    "\n"
   ]
  },
  {
   "cell_type": "code",
   "execution_count": 1,
   "metadata": {},
   "outputs": [],
   "source": [
    "def foo(x, y=0, z=0):\n",
    "    print(x, y, z)\n",
    "\n",
    "# x is a positional input, it has no default value so must always be supplied\n",
    "foo()                           # error\n",
    "# missing a positional argument\n",
    "foo(1)\n",
    "# y and z are keyword arguments\n",
    "# we can pass them as positional arguments\n",
    "foo(1, 10, 20)\n",
    "# or by specifying name=value pairs\n",
    "foo(1, y=10, z=20)\n",
    "# when specifying name=value pairs the order can be changed\n",
    "foo(1, z=20, y=10)\n",
    "# but positional arguments must always come first\n",
    "foo(z=20, y=10, 1)              # error"
   ]
  },
  {
   "cell_type": "markdown",
   "metadata": {},
   "source": [
    "\n",
    "### Functions with \\*args and \\*\\*kwargs\n",
    "\n"
   ]
  },
  {
   "cell_type": "markdown",
   "metadata": {},
   "source": [
    "You will often find functions where some of its inputs are called `*args` and `**kwards`:\n",
    "\n"
   ]
  },
  {
   "cell_type": "code",
   "execution_count": 1,
   "metadata": {},
   "outputs": [],
   "source": [
    "def myFunction(variable1, *args, **kwargs):\n",
    "      pass"
   ]
  },
  {
   "cell_type": "markdown",
   "metadata": {},
   "source": [
    "Here the `variable1` is just the first argument that the function receives, it is named 'variable1' and is available for use within the function body.\n",
    "The keywords `*args` and `**kwargs` allow the function to accept optional arguments, as many as you want.\n",
    "Thus, the function above requires at least one argument, called \"variable1\", and can accept extra arguments.\n",
    "\n",
    "The keyword `*args` collects additional positional arguments, that is, arguments that do not have a keyword associated with them.\n",
    "These arguments are collected into a tuple with the name 'args'.\n",
    "\n"
   ]
  },
  {
   "cell_type": "code",
   "execution_count": 1,
   "metadata": {},
   "outputs": [],
   "source": [
    "def f(a, *args):\n",
    "    print(a)\n",
    "    print(args)\n",
    "f(1, 2, 3, 4, 5, 6, range(10))"
   ]
  },
  {
   "cell_type": "markdown",
   "metadata": {},
   "source": [
    "The keyword `**kwargs` collects values that are associated with names.\n",
    "These names and values are collected into a dictionary, which is available in the function body via the name 'kwargs':\n",
    "\n"
   ]
  },
  {
   "cell_type": "code",
   "execution_count": 1,
   "metadata": {},
   "outputs": [],
   "source": [
    "def f(a, *args, **kwargs):\n",
    "      print(a)\n",
    "      print(args)\n",
    "      print(kwargs)\n",
    "f(1, 1, 2, 3, range(10), name='Guilherme', lastname='Salome', age='29')"
   ]
  },
  {
   "cell_type": "markdown",
   "metadata": {},
   "source": [
    "If no extra arguments are passed, then \"args\" and \"kwargs\" will be empty:\n",
    "\n"
   ]
  },
  {
   "cell_type": "code",
   "execution_count": 1,
   "metadata": {},
   "outputs": [],
   "source": [
    "f(1)"
   ]
  },
  {
   "cell_type": "markdown",
   "metadata": {},
   "source": [
    "\n",
    "### Anonymous Functions: lambdas\n",
    "\n"
   ]
  },
  {
   "cell_type": "markdown",
   "metadata": {},
   "source": [
    "We can declare short inline functions using the `lambda` keyword.\n",
    "\n"
   ]
  },
  {
   "cell_type": "code",
   "execution_count": 1,
   "metadata": {},
   "outputs": [],
   "source": [
    "add = lambda x, y: x + y"
   ]
  },
  {
   "cell_type": "markdown",
   "metadata": {},
   "source": [
    "After the keyword [`lambda`](https://docs.python.org/3.6/tutorial/controlflow.html?#lambda-expressions) comes the arguments, in this case x and y. After the colon comes whatever the function will return, in this case `x+y`.\n",
    "The function here is assigned to the name 'add'.\n",
    "\n",
    "Lambdas are useful in some contexts.\n",
    "Suppose we have a list that we want to sort:\n",
    "\n"
   ]
  },
  {
   "cell_type": "code",
   "execution_count": 1,
   "metadata": {},
   "outputs": [],
   "source": [
    "grades = [('A', 9), ('B', 10), ('C', 7), ('D', 9.5)]\n",
    "dir(grades)\n",
    "help(grades.sort)"
   ]
  },
  {
   "cell_type": "markdown",
   "metadata": {},
   "source": [
    "The list method [`sort`](https://docs.python.org/3.6/library/stdtypes.html?highlight=list.sort#list.sort) sorts a list in place.\n",
    "It takes an optional argument called `key`.\n",
    "This argument is a function that takes an element of the list and returns a value.\n",
    "The value that is returned is used for sorting the list.\n",
    "\n"
   ]
  },
  {
   "cell_type": "code",
   "execution_count": 1,
   "metadata": {},
   "outputs": [],
   "source": [
    "print(grades)\n",
    "grades.sort()\n",
    "print(grades)"
   ]
  },
  {
   "cell_type": "markdown",
   "metadata": {},
   "source": [
    "Notice that the tuples inside this list were sorted by their first value, a string.\n",
    "We can sort the list of students and grades based on the grades.\n",
    "We can passa a lambda function to the `key` argument that will return the grade value for sorting:\n",
    "\n"
   ]
  },
  {
   "cell_type": "code",
   "execution_count": 1,
   "metadata": {},
   "outputs": [],
   "source": [
    "print(grades)\n",
    "grades.sort(key=lambda x: x[1])\n",
    "print(grades)"
   ]
  },
  {
   "cell_type": "markdown",
   "metadata": {},
   "source": [
    "If we want to sort in a decreasing order:\n",
    "\n"
   ]
  },
  {
   "cell_type": "code",
   "execution_count": 1,
   "metadata": {},
   "outputs": [],
   "source": [
    "print(grades)\n",
    "grades.sort(key=lambda x: x[1], reverse=True)\n",
    "print(grades)"
   ]
  },
  {
   "cell_type": "markdown",
   "metadata": {},
   "source": [
    "\n",
    "# Input and Output\n",
    "\n"
   ]
  },
  {
   "cell_type": "markdown",
   "metadata": {},
   "source": [
    "We now turn to loading and saving files with Python.\n",
    "To begin, let's create a new file and save some data in it.\n",
    "Open a file for writing with `open`:\n",
    "\n"
   ]
  },
  {
   "cell_type": "code",
   "execution_count": 1,
   "metadata": {},
   "outputs": [],
   "source": [
    "f = open('file.txt', 'w')\n",
    "# f is an object representing the file\n",
    "# f has a method for writing to the file: f.write\n",
    "# f.write takes a string and outputs it to the file\n",
    "f.write('column1,column2,column3\\n')\n",
    "# \\n is a special character that represents a new line\n",
    "f.write('1.23,2.34,0.3,4.5')\n",
    "# Close the file so that it is saved\n",
    "f.close()"
   ]
  },
  {
   "cell_type": "markdown",
   "metadata": {},
   "source": [
    "The file was created in the working directory Python is using.\n",
    "If you are in jupyter notebook, the working directory will be the folder where you launched jupyter notebook from using the terminal.\n",
    "You can use the built-in package `os` to find the working directory:\n",
    "\n"
   ]
  },
  {
   "cell_type": "code",
   "execution_count": 1,
   "metadata": {},
   "outputs": [],
   "source": [
    "import os\n",
    "os.getcwd()"
   ]
  },
  {
   "cell_type": "markdown",
   "metadata": {},
   "source": [
    "You can change the path to elsewhere with `os.chdir`.\n",
    "We can inspect the file outside Python by opening it with a text editor.\n",
    "\n",
    "Let's open the file for reading now:\n",
    "\n"
   ]
  },
  {
   "cell_type": "code",
   "execution_count": 1,
   "metadata": {},
   "outputs": [],
   "source": [
    "f = open('file.txt', 'r')       # r for reading only\n",
    "# We can go through the file in different ways\n",
    "help(f.read)\n",
    "# f.read: Reads until EOF (end of file) and returns a string with everything\n",
    "data = f.read()\n",
    "print(data)\n",
    "# Print string without interpreting the special character \\n as a new line\n",
    "print(repr(data))"
   ]
  },
  {
   "cell_type": "markdown",
   "metadata": {},
   "source": [
    "Python uses a cursor to go through the file.\n",
    "When we called f.read, this cursor moved through all characters of the file and stopped at the end of the file.\n",
    "Thus, if we call f.read again, Python will start reading the file from where the cursor is at. Since the cursor is already at the end of the file we will get an empty string, since there is nothing to read:\n",
    "\n"
   ]
  },
  {
   "cell_type": "code",
   "execution_count": 1,
   "metadata": {},
   "outputs": [],
   "source": [
    "print(f.read())\n",
    "print(repr(f.read()))\n",
    "# To re-read the file, we can either close it and open it again\n",
    "f.close()\n",
    "print(f)\n",
    "f.read()                        # file is closed\n",
    "f = open('file.txt', 'r')\n",
    "# Now, the cursor is back at the beginning of the file\n",
    "print(f.read())\n",
    "# The cursor is back at the end of the file\n",
    "# Move the cursor back to the beginning with f.seek\n",
    "help(f.seek)\n",
    "f.seek(0)\n",
    "print(f.read())\n",
    "f.seek(0)\n",
    "# We can read line by line with f.readline\n",
    "print(f.readline())\n",
    "# reads until it finds \\n, and outputs the result\n",
    "# Read the next line\n",
    "print(f.readline())\n",
    "# Read the next line, which does not exist\n",
    "print(f.readline())             # empty string"
   ]
  },
  {
   "cell_type": "markdown",
   "metadata": {},
   "source": [
    "The file object is also an iterator (we will discuss iterators in detail later on).\n",
    "It can be used in a for-loop in a way similar to a list of numbers.\n",
    "But, in this case, we have a list of lines:\n",
    "\n"
   ]
  },
  {
   "cell_type": "code",
   "execution_count": 1,
   "metadata": {},
   "outputs": [],
   "source": [
    "f.seek(0)\n",
    "for line in f:\n",
    "    print(line)\n",
    "# After we are done with the file, we can close it\n",
    "f.close()"
   ]
  },
  {
   "cell_type": "markdown",
   "metadata": {},
   "source": [
    "Notice we had to open and close the file.\n",
    "We can use something called a context manager to the closing job for us.\n",
    "We will discuss context managers in detail later on.\n",
    "We use a context manager with the `with` keyword:\n",
    "\n"
   ]
  },
  {
   "cell_type": "code",
   "execution_count": 1,
   "metadata": {},
   "outputs": [],
   "source": [
    "with open('file.txt', 'r') as f:\n",
    "    # Inside this block, f represents the file.\n",
    "    # We can now read the file however we prefer.\n",
    "    data = f.read()\n",
    "# When we exit the \"with\" block, it will take care of closing\n",
    "# the file for us. The file will be closed even if there is an\n",
    "# error which interrupts the execution of the code.\n",
    "print(data)\n",
    "\n",
    "# Create another file\n",
    "header = [\"Name\", \"Final Grade\"]\n",
    "grades = {'Gui': 'B',\n",
    "          'Joe': 'A',\n",
    "          'John': 'A+'}\n",
    "for name, grade in grades.items():\n",
    "    print(name, grade)\n",
    "with open('grades.txt', 'w') as f:\n",
    "    f.write(\",\".join(header) + '\\n')\n",
    "    for name, grade in grades.items():\n",
    "        f.write(name + \",\" + grade + \"\\n\")\n",
    "# Load the file and print grades\n",
    "with open('grades.txt', 'r') as f:\n",
    "    for line in f:\n",
    "        name, grade = line.split(',')\n",
    "        # returns a list, which we can unpack\n",
    "        print(name + ' ' + grade)"
   ]
  },
  {
   "cell_type": "markdown",
   "metadata": {},
   "source": [
    "\n",
    "# Objects\n",
    "\n"
   ]
  },
  {
   "cell_type": "markdown",
   "metadata": {},
   "source": [
    "A class is what defines an object, and is a way of creating a structure (the object) that has data and functions together.\n",
    "We have seen many examples so far, like the Python list.\n",
    "\n"
   ]
  },
  {
   "cell_type": "code",
   "execution_count": 1,
   "metadata": {},
   "outputs": [],
   "source": [
    "a = [1, 2, 3]\n",
    "# Creates an instance of a list.\n",
    "print(a.__class__)\n",
    "# The list a has data, but also functions:\n",
    "a.append(\"4\")"
   ]
  },
  {
   "cell_type": "markdown",
   "metadata": {},
   "source": [
    "When we create a new class, we are defining a new type of object.\n",
    "\n",
    "An object in python consists of a type, an id, data (attributes) and methods (functions).\n",
    "The attributes of an object can be, for example, the main piece of data it is storing, but also other relevant information.\n",
    "Some of its attributes can be functions, which are referred to as the methods of that class.\n",
    "The methods of an object usually work on the data contained in that object, like in the case of the list, where the `append` method used the data stored in `a` to modify its value.\n",
    "\n"
   ]
  },
  {
   "cell_type": "code",
   "execution_count": 1,
   "metadata": {},
   "outputs": [],
   "source": [
    "# create an instance of a class\n",
    "x = ['a', 'b', 'c']\n",
    "# check whether an attribute is a method\n",
    "callable(x.append)\n",
    "callable(x.__doc__)             # this is a documentation string for the class of x\n",
    "# Some symbols overload methods of an object.\n",
    "# For example, [] overload the method __getitem__\n",
    "print(x[0])\n",
    "print(x.__getitem__(0))\n",
    "# [] can also overload the method __setitem__\n",
    "x[0] = 'A'                      # item assignment\n",
    "print(x[0])\n",
    "x.__setitem__(0, 'a')\n",
    "print(x[0])\n",
    "# It is possible to change what [] means by changing the definition\n",
    "# of the functions __setitem__ and __getitem__ in the list class."
   ]
  },
  {
   "cell_type": "markdown",
   "metadata": {},
   "source": [
    "Everything in Python is an object, including variables, files, functions and even modules.\n",
    "\n"
   ]
  },
  {
   "cell_type": "code",
   "execution_count": 1,
   "metadata": {},
   "outputs": [],
   "source": [
    "def foo(x):\n",
    "    \"\"\"Docs\"\"\"\n",
    "    return x + 1\n",
    "\n",
    "\n",
    "# A function has a type:\n",
    "print(type(foo))\n",
    "# It has an id:\n",
    "print(id(foo))\n",
    "# It has attributes:\n",
    "print(foo.__name__, foo.__doc__)\n",
    "# It has methods:\n",
    "print(foo.__call__)\n",
    "print(foo.__call__(1))\n",
    "# Parentheses overload the __call__ method\n",
    "print(foo(1))\n",
    "# We can see all of its attributes with dir:\n",
    "print(dir(foo))"
   ]
  },
  {
   "cell_type": "markdown",
   "metadata": {},
   "source": [
    "\n",
    "# Handling Exceptions\n",
    "\n"
   ]
  },
  {
   "cell_type": "markdown",
   "metadata": {},
   "source": [
    "It is possible to write a Python script that can handle exceptions as they occur during execution.\n",
    "In fact, many of Python's own functions use exceptions as a form of control flow.\n",
    "Let's see how we can handle errors:\n",
    "\n"
   ]
  },
  {
   "cell_type": "code",
   "execution_count": 1,
   "metadata": {},
   "outputs": [],
   "source": [
    "while True:\n",
    "    try:\n",
    "        number = int(input(\"Please enter an integer: \"))\n",
    "        break\n",
    "    except ValueError:\n",
    "        print(\"Invalid input. Not a number, please try again.\")\n",
    "print(f'Your number converted to integer = {number}')"
   ]
  },
  {
   "cell_type": "markdown",
   "metadata": {},
   "source": [
    "The `input` will wait for the user to type something in the standard input and hit enter.\n",
    "Whatever was inputed will come in as a string, and the `int` function will attempt to convert it to an integer.\n",
    "If the string does not contain an integer, then a `ValueError` exception will be raised.\n",
    "\n"
   ]
  },
  {
   "cell_type": "code",
   "execution_count": 1,
   "metadata": {},
   "outputs": [],
   "source": [
    "int(2.35)                       # no error, converting float to int works\n",
    "int('2')                        # works, there is an integer in the string\n",
    "int('2.35')                     # error, no integer in the string"
   ]
  },
  {
   "cell_type": "markdown",
   "metadata": {},
   "source": [
    "Python will execute whatever is in the [`try`](https://docs.python.org/3.6/tutorial/errors.html#handling-exceptions) block.\n",
    "If no exception occurs inside the block, then the `except` statement is skipped and the `try` statement is finished.\n",
    "However, if an exception occur inside the `try` block, then the rest of the `try` block is skipped.\n",
    "Then, if the exception type matches with the keyword that comes after `except`, the `except` block is executed.\n",
    "After the `except` block is executed, the code continues on.\n",
    "\n",
    "If another exception occur with a type different than `ValueError`, then it is an unhandled exception, and the execution of the script will be stopped and an error message will be shown.\n",
    "Try executing the `while` loop above and instead of entering an integer, hit Ctrl-C Ctrl-C, which will raise a `KeyboardInterrupt` error.\n",
    "Since this error is not handled, then the script will be completely interrupted.\n",
    "This is an unhandled error.\n",
    "\n",
    "It is possible to handle more than one type of exception:\n",
    "\n"
   ]
  },
  {
   "cell_type": "code",
   "execution_count": 1,
   "metadata": {},
   "outputs": [],
   "source": [
    "while True:\n",
    "    try:\n",
    "        number = int(input(\"Please enter an integer:\"))\n",
    "    except ValueError:\n",
    "        print(\"Invalid input. Not an integer, please try again.\")\n",
    "    except KeyboardInterrupt:\n",
    "        print(\"\\n\\n\")\n",
    "        print(\"Input interrupted by the keyboard.\")\n",
    "        break                   # break the while loop so the script stops\n",
    "    else:\n",
    "        print(f'Integer = {number}')\n",
    "        break"
   ]
  },
  {
   "cell_type": "markdown",
   "metadata": {},
   "source": [
    "If we hit Ctrl-C Ctrl-C, then the script will raise a `KeyboardInterrupt` exception.\n",
    "On Jupyter this is equivalent to going on the menu `Kernel` and clicking the button `Interrupt`.\n",
    "Which the second `except` will catch and handle.\n",
    "It hanldes the exception by printing a message and breaking out of the loop, causing the script to end.\n",
    "Notice that we have an `else` clause at the end.\n",
    "That clause will only be executed if no exception is raised.\n",
    "That happens if the user enters an integer number, in that case the number is printed and the loop is broken.\n",
    "\n",
    "If the `except` keyword is used without specifying an exception type, then it will catch <span class=\"underline\">all</span> exceptions.\n",
    "This is not a good practice since it will catch any exception that you may or may not expect.\n",
    "Only hanlde exceptions you know how to handle.\n",
    "\n",
    "Lastly, there is a `finally` keyword that can be used in a `try` block:\n",
    "\n"
   ]
  },
  {
   "cell_type": "code",
   "execution_count": 1,
   "metadata": {},
   "outputs": [],
   "source": [
    "try:\n",
    "    raise KeyboardInterrupt\n",
    "except ValueError:\n",
    "    print('A value error occurred.')\n",
    "finally:\n",
    "    print(\"Goodbye\")"
   ]
  },
  {
   "cell_type": "markdown",
   "metadata": {},
   "source": [
    "The above will `raise` an exception which is not handled.\n",
    "Since the exception is not handled it will stop the execution of the script.\n",
    "However, before doing so, the code in the `finally` clause is executed.\n",
    "\n",
    "The real world use of the `finally` clause is to guarantee that resources are correctly closed, like closing a file or a network connection even if an error in the script occurred.\n",
    "\n"
   ]
  },
  {
   "cell_type": "markdown",
   "metadata": {},
   "source": [
    "\n",
    "# Assertions\n",
    "\n"
   ]
  },
  {
   "cell_type": "markdown",
   "metadata": {},
   "source": [
    "Exceptions and the `try` blocks are used to tackle errors that you can handle.\n",
    "Assertions are used to alert you of an error that cannot be recovered (that should stop the execution of the script).\n",
    "\n"
   ]
  },
  {
   "cell_type": "code",
   "execution_count": 1,
   "metadata": {},
   "outputs": [],
   "source": [
    "def discountPrice(price, discount):\n",
    "      assert 0 <= discount <= 1, \"Discount greater than actual price.\"\n",
    "      return price*(1-discount)"
   ]
  },
  {
   "cell_type": "markdown",
   "metadata": {},
   "source": [
    "The [`assert`](https://docs.python.org/3.6/reference/simple_stmts.html#the-assert-statement) statement will check if the variable `discount` is between 0 and 1, and, if it is not, it will raise an `AssertionError` with the message \"Discount greater than actual price\".\n",
    "\n",
    "If the `discountPrice` function sits in the middle of a payment system of some company, and at some point it is invoked with a discount that is greater than 100%, then something clearly went wrong somewhere.\n",
    "We found a bug!\n",
    "If this assertion error occurred, then we need to stop the program and fix it.\n",
    "An assertion error should only be raised if there is a bug in your program.\n",
    "\n"
   ]
  }
 ],
 "metadata": {
  "kernelspec": {
   "display_name": "Python 3",
   "language": "python",
   "name": "python3"
  },
  "language_info": {
   "codemirror_mode": {
    "name": "ipython",
    "version": 3
   },
   "file_extension": ".py",
   "mimetype": "text/x-python",
   "name": "python",
   "nbconvert_exporter": "python",
   "pygments_lexer": "ipython3",
   "version": "3.7.4"
  },
  "org": null
 },
 "nbformat": 4,
 "nbformat_minor": 1
}
