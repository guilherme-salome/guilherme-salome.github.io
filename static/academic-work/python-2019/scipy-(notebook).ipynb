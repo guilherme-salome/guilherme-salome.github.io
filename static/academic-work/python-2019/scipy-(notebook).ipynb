{
 "cells": [
  {
   "cell_type": "markdown",
   "metadata": {},
   "source": [
    "# Optimization with SciPy"
   ]
  },
  {
   "cell_type": "markdown",
   "metadata": {},
   "source": [
    "[SciPy](https://www.scipy.org) is a library that builds on NumPy and provides additional tools for scientific computing.\n",
    "Some of the tools provided are: numerical integration, optimization, interpolation, Fourier transforms, signal processing, linear algebra, spatial algorithms and statistics.\n",
    "The reference page for the current version is available [here](https://docs.scipy.org/doc/scipy-1.3.0/reference/).\n",
    "\n"
   ]
  },
  {
   "cell_type": "markdown",
   "metadata": {},
   "source": [
    "\n",
    "# Install\n",
    "\n"
   ]
  },
  {
   "cell_type": "markdown",
   "metadata": {},
   "source": [
    "On the terminal, execute:\n",
    "\n"
   ]
  },
  {
   "cell_type": "code",
   "execution_count": 1,
   "metadata": {},
   "outputs": [],
   "source": [
    "pip install -U scipy"
   ]
  },
  {
   "cell_type": "markdown",
   "metadata": {},
   "source": [
    "If you are having issues with the installation process check [the scipy install page](https://scipy.org/install.html).\n",
    "\n",
    "Scipy should now be available under the `scipy` namespace.\n",
    "\n"
   ]
  },
  {
   "cell_type": "markdown",
   "metadata": {},
   "source": [
    "\n",
    "# Statistics\n",
    "\n"
   ]
  },
  {
   "cell_type": "markdown",
   "metadata": {},
   "source": [
    "The [`scipy.stats`](https://docs.scipy.org/doc/scipy/reference/stats.html) subpackage contains functions for: generating numbers from continuous distributions, from multivariate distributions and from discrete distributions, to compute summary and frequency statistics, statistical tests and density estimation.\n",
    "\n"
   ]
  },
  {
   "cell_type": "markdown",
   "metadata": {},
   "source": [
    "\n",
    "## Distribution of Random Variables\n",
    "\n"
   ]
  },
  {
   "cell_type": "markdown",
   "metadata": {},
   "source": [
    "While NumPy provides [several functions](https://docs.scipy.org/doc/numpy/reference/routines.random.html) for random number generations from continuous and discrete distributions, SciPy extends on the list and also provides functions for the cdf, pdf, quantiles and so on.\n",
    "\n",
    "In Scipy, the functions the statistical distributions are available under separate namespaces.\n",
    "For example, the functions for the normal distribution are available under `scipy.stats.norm`.\n",
    "The `scipy.stats.norm` class is a subclass of `rv_continuous`, which itself is an abstract class.\n",
    "This means that, `rv_continuous` defines the names of the methods and properties of a generic class, but it is the job of its subclasses to actually implement them.\n",
    "In this case, `scipy.stats.norm`, implements the methods of `rv_continuous` to the case of a normal distribution.\n",
    "Therefore, to get a sense of what functions are available for all continuous statistical distributions, you only need to read the documentation of [`rv_continuous`](https://docs.scipy.org/doc/scipy/reference/generated/scipy.stats.rv_continuous.html#scipy-stats-rv-continuous).\n",
    "For discrete distributions, the abstract class is [`rv_discrete`](https://docs.scipy.org/doc/scipy/reference/generated/scipy.stats.rv_discrete.html#scipy-stats-rv-discrete).\n",
    "\n"
   ]
  },
  {
   "cell_type": "code",
   "execution_count": 1,
   "metadata": {},
   "outputs": [],
   "source": [
    "import matplotlib.pyplot as plt\n",
    "import numpy as np\n",
    "# Import logistic distribution\n",
    "from scipy.stats import logistic\n",
    "# Instantiate a logistic distribution\n",
    "# scale (mean)\n",
    "mu = 1\n",
    "# scale (variance is proportional to scale)\n",
    "s = 1\n",
    "help(logistic)\n",
    "l = logistic(loc=mu, scale=s)\n",
    "# Freezes the distribution,\n",
    "# so that the methods apply to a Logistic with\n",
    "# mean mu and scale s.\n",
    "# Histogram:\n",
    "sample = l.rvs(size=(2000, 1))\n",
    "fig, ax = plt.subplots(figsize=(10, 6))\n",
    "ax.hist(sample, density=True, bins=50)  # normalized\n",
    "# Density:\n",
    "x = np.linspace(1.1*sample.min(), 1.1*sample.max(), 200)\n",
    "ax.plot(x, l.pdf(x), 'k-', linewidth=2)\n",
    "fig.show()\n",
    "# Other methods:\n",
    "# cumulative distribution\n",
    "l.cdf(0)\n",
    "# inverse cdf\n",
    "l.ppf(0.5)\n",
    "# Summary statistics:\n",
    "l.mean()\n",
    "l.var() == s**2*np.pi**2/3\n",
    "# Alternatives:\n",
    "logistic.cdf(0, loc=mu, scale=s)\n",
    "logistic.ppf(0.5, loc=mu, scale=s)"
   ]
  },
  {
   "cell_type": "markdown",
   "metadata": {},
   "source": [
    "\n",
    "# Optimization\n",
    "\n"
   ]
  },
  {
   "cell_type": "markdown",
   "metadata": {},
   "source": [
    "The sub-package [`scipy.optimize`](https://docs.scipy.org/doc/scipy-1.3.0/reference/tutorial/optimize.html) contains several functions for solving optimization problems.\n",
    "\n",
    "Consider an optimization problem where we need to find the minimum value of a function $f:\\mathbb{R}\\mapsto\\mathbb{R}$ on some subset of its domain:\n",
    "\n",
    "\\begin{align*}\n",
    "\\min_{x\\in D}{f(x)}\n",
    "\\end{align*}\n",
    "\n",
    "We are interested in solving this problem.\n",
    "However, it is not clear that a solution to this problem exists.\n",
    "We know that if $f$ is a [continuous function](https://en.wikipedia.org/wiki/Continuous_function) and $D$ is a [compact set](https://en.wikipedia.org/wiki/Compact_space), then by the [Weierstrass theorem](https://en.wikipedia.org/wiki/Extreme_value_theorem) $\\exists x^*\\in D:f(x^*)\\leq f(x),\\forall x\\in D$.\n",
    "Under these conditions, we know that a solution to the problem exists, but we still need a way to find it.\n",
    "If the function $f$ is not continuous, or $D$ is not a compact set, then a solution may or may not exist.\n",
    "\n",
    "Even though we cannot always guarantee that a solution exists, if a solution does exist, then it must satisfy a necessary condition.\n",
    "If $x_0$ is a point where $f$ is minimized (or maximized) and $f$ is differentiable at $x_0$, then $f'(x_0)=0$ (see [Fermat's theorem on stationary points](https://en.wikipedia.org/wiki/Fermat%27s_theorem_(stationary_points))).\n",
    "This necessary condition motivates many of the optimization algorithms.\n",
    "\n",
    "The algorithms for finding the argument that minimizes a function are divided in two types: <span class=\"underline\">direct search methods</span> and <span class=\"underline\">gradient-based methods</span>.\n",
    "Direct search methods do not rely on the derivative of a function, and so can be applied to non-differentiable functions.\n",
    "These methods directly search for optimal points across the domain of a function.\n",
    "An example of a direct search method is the [Golden-section search](https://en.wikipedia.org/wiki/Golden-section_search).\n",
    "Gradient-based methods use the derivative of a function to find a value $x$ such that $f'(x)=0$.\n",
    "In these algorithms, the gradient can be explicitly computed or approximated numerically.\n",
    "Examples of gradient-based algorithms are: [Bisection method](https://en.wikipedia.org/wiki/Bisection_method), [Newton-Raphson method](https://en.wikipedia.org/wiki/Newton's_method) and [Secant method](https://en.wikipedia.org/wiki/Secant_method).\n",
    "\n",
    "These optimization methods apply to functions of a single variable.\n",
    "However, they are building blocks for optimization methods for functions of many variables.\n",
    "When it comes to optimization algorithms for functions of many variables, we can still divide the algorithms in the same two types.\n",
    "Examples of direct search methods for multivariate functions are: [Powell's method](https://en.wikipedia.org/wiki/Powell's_method) and [Nelder-Mead method](https://en.wikipedia.org/wiki/Nelder–Mead_method).\n",
    "Some of the optimization methods that use the gradient are: [Newton's method](https://en.wikipedia.org/wiki/Newton's_method), [DFP method](https://en.wikipedia.org/wiki/Davidon–Fletcher–Powell_formula), [BFGS method](https://en.wikipedia.org/wiki/Broyden–Fletcher–Goldfarb–Shanno_algorithm) and the [Gradient Descent method](https://en.wikipedia.org/wiki/Gradient_descent).\n",
    "\n",
    "The methods above apply to unconstrained optimization problems.\n",
    "However, in practice we usually have to deal with optimization problems that are subject to constraints:\n",
    "\n",
    "\\begin{equation*}\n",
    "\\begin{aligned}\n",
    "& \\underset{x\\in\\mathbb{R}^d}{\\text{minimize}}\n",
    "& & f(x)\\\\\n",
    "& \\text{subject to}\n",
    "& & f_i(x) \\leq b_i, i=1,\\ldots, d\n",
    "\\end{aligned}\n",
    "\\end{equation*}\n",
    "\n",
    "For constrained problems, some of the optimization methods are: [Penalty function method](https://en.wikipedia.org/wiki/Penalty_method), [Augmented Lagrangian method](https://en.wikipedia.org/wiki/Augmented_Lagrangian_method) and [Sequential quadratic programming](https://en.wikipedia.org/wiki/Sequential_quadratic_programming).\n",
    "These methods either transform the constrained problem into an unconstrained problem with an added term that penalizes values that are outside the original constraints, or take extra care when looking through the domain to make sure the points satisfy the constrains.\n",
    "\n",
    "Fortunately, we do not need to implement these algorithms, as most of them are already implemented in SciPy.\n",
    "\n"
   ]
  },
  {
   "cell_type": "markdown",
   "metadata": {},
   "source": [
    "\n",
    "## Finding the Roots of a Function\n",
    "\n"
   ]
  },
  {
   "cell_type": "markdown",
   "metadata": {},
   "source": [
    "The function [`bisect`](https://docs.scipy.org/doc/scipy-1.3.0/reference/generated/scipy.optimize.bisect.html?#scipy-optimize-bisect) implements the bisection algorithm.\n",
    "It requires a function and two endpoints of an interval.\n",
    "The function must have different signs on these two points.\n",
    "The idea is that if the function is continuous, then it must have changed signs in some point of the interval.\n",
    "The idea is to then take a third random point inside the interval and check whether there was a change in sign.\n",
    "Depending on the sign of that point, one part of the interval is thrown away, and search continues on the other part of the interval.\n",
    "\n"
   ]
  },
  {
   "cell_type": "code",
   "execution_count": 1,
   "metadata": {},
   "outputs": [],
   "source": [
    "import matplotlib.pyplot as plt\n",
    "from scipy.optimize import bisect\n",
    "\n",
    "fun = lambda x: x**3 - 2*x**2 + 3*x - 10;\n",
    "# Visualize fun\n",
    "fig, ax = plt.subplots()\n",
    "x = np.linspace(-5, 5, 100)\n",
    "ax.plot(x, fun(x))\n",
    "fig.show()\n",
    "# Find root\n",
    "x_root = bisect(fun, -5, 5)\n",
    "ax.plot(x_root, fun(x_root), 'k*', linewidth=3)\n",
    "ax.text(x_root + 0.1, 0.1, 'Root')"
   ]
  },
  {
   "cell_type": "markdown",
   "metadata": {},
   "source": [
    "The bisection method is a direct search method, and, while it works well for continuous functions, it can be quite slow depending on the function.\n",
    "An alternative is the Neton-Raphson method, which is a gradient-based method.\n",
    "This method works well for well-behaved functions, and achieves a higher speed than the bisection method.\n",
    "However, it can fail for certain types of functions.\n",
    "SciPy actually recommends the function [`brentq`](https://docs.scipy.org/doc/scipy-1.3.0/reference/generated/scipy.optimize.brentq.html#scipy-optimize-brentq) for root-finding, as it combines several ideas to speed-up the execution (hybrid method).\n",
    "The algorithm also requires the endpoints of the interval, a continuous function and that the function has different signs at the endpoints.\n",
    "\n"
   ]
  },
  {
   "cell_type": "code",
   "execution_count": 1,
   "metadata": {},
   "outputs": [],
   "source": [
    "from scipy.optimize import brentq\n",
    "\n",
    "x_root = brentq(fun, -5, 5)\n",
    "# Visualize\n",
    "fig, ax = plt.subplots()\n",
    "x = np.linspace(-5, 5, 100)\n",
    "ax.plot(x, fun(x))\n",
    "ax.plot(x_root, fun(x_root), 'k*', linewidth=3)\n",
    "ax.text(x_root + 0.1, 0.1, 'Root')\n",
    "fig.show()"
   ]
  },
  {
   "cell_type": "markdown",
   "metadata": {},
   "source": [
    "\n",
    "### Fixed Point\n",
    "\n"
   ]
  },
  {
   "cell_type": "markdown",
   "metadata": {},
   "source": [
    "A related problem is that of finding a fixed point.\n",
    "Remember, we say $x$ is a fixed point of $f:\\mathbb{R}\\mapsto\\mathbb{R}$ if $f(x)=x$.\n",
    "This problem can be cast as a root finding problem for the function $g(x)\\equiv f(x) - x$.\n",
    "We can solve this type of problem with the function [`fixed_point`](https://docs.scipy.org/doc/scipy-1.3.0/reference/generated/scipy.optimize.fixed_point.html#scipy-optimize-fixed-point).\n",
    "This function does not require endpoints of an interval, but an initial guess for the fixed point.\n",
    "\n"
   ]
  },
  {
   "cell_type": "code",
   "execution_count": 1,
   "metadata": {},
   "outputs": [],
   "source": [
    "from scipy.optimize import fixed_point\n",
    "\n",
    "\n",
    "# Visualize problem\n",
    "fig, ax = plt.subplots()\n",
    "x = np.linspace(-np.pi, np.pi, 50)\n",
    "ax.plot(x, np.cos(x), label='$\\cos(x)$')\n",
    "ax.plot(x, x, label='$45^o$ line')\n",
    "ax.legend()\n",
    "fig.show()\n",
    "# Find fixed point\n",
    "x_fixed = fixed_point(np.cos, -np.pi)\n",
    "ax.plot(x_fixed, np.cos(x_fixed), 'k*')\n",
    "ax.text(x_fixed + 0.1, x_fixed + 0.1, 'Fixed Point')"
   ]
  },
  {
   "cell_type": "markdown",
   "metadata": {},
   "source": [
    "\n",
    "## Unconstrained Optimization\n",
    "\n"
   ]
  },
  {
   "cell_type": "markdown",
   "metadata": {},
   "source": [
    "The function [`minimize`](https://docs.scipy.org/doc/scipy-1.3.0/reference/generated/scipy.optimize.minimize.html#scipy-optimize-minimize) can be used to solve unconstrained optimization problems for a function $f:\\mathbb{R}^n\\mapsto\\mathbb{R}$.\n",
    "The `minimize` function implements the following algorithms for unconstrained optimization:\n",
    "\n",
    "-   Nelder-Mead (`'nelder-mead'`): direct search method, works well for well-behaved functions, but is slow since does not use the gradient\n",
    "-   Broyden-Fletcher-Goldfarb-Shanno (`'BFGS`): known as BFGS method, uses the gradient (if not supplied, the gradient is estimated numerically)\n",
    "-   Netwon-Conjugate-Gradient (`'Newton-CG'`): known as Netwon-CG, uses gradient and Hessian, finds descent step via quadratic approximation\n",
    "-   Trust-Region Newton-Conjugate-Gradient (`'trust-ncg'`): uses gradient and Hessian, but looks for the best descent step given a maximum step size\n",
    "-   Trust-Region Truncated Generalized Conjugate Gradient (`'trust-krylov'`): similar to the Trust-Region method above, but more efficiently\n",
    "-   Trust-Region Nearly Exact Algorithm (`trust-exact`): uses gradient and Hessian, adequate for medium-sized problems\n",
    "\n",
    "According to SciPy, the methods `'Newton-CG'`, `'trust-ncg'` and `'trust-krylov'` are good for dealing with very large problems (thousands of variables).\n",
    "This is the case because instead of supplying the entire Hessian matrix, which can be slow to compute and take a lot of memory, we can supply the product of the Hessian matrix with an arbitrary vector.\n",
    "Let $H:\\mathbb{R}^n\\mapsto\\mathbb{R}^{n\\times n}$ denote the Hessian matrix, then we can either pass $H$ to the `minimize`, or, we can pass $H\\cdot p$, where $p$ is a $n\\times 1$ vector, implying that $H\\cdot p:\\mathbb{R}^n\\mapsto\\mathbb{R}^n$, diminishing the amount of memory required to store the result.\n",
    "The method `'trust-exact'` does not support the Hessian product, and takes the exact Hessian, but provides a good algorithm to solve medium-scale problems where the Hessian can be stored in memory.\n",
    "\n",
    "Let's start by defining and visualizing a test function:\n",
    "\n"
   ]
  },
  {
   "cell_type": "code",
   "execution_count": 1,
   "metadata": {},
   "outputs": [],
   "source": [
    "from mpl_toolkits.mplot3d import Axes3D\n",
    "from matplotlib import cm\n",
    "from scipy.optimize import minimize\n",
    "\n",
    "\n",
    "# Function to be minimized\n",
    "def rosenbrock(x, y, a, b):\n",
    "    return (a - x)**2 + b*(y - x**2)**2\n",
    "\n",
    "\n",
    "# Visualize problem\n",
    "x_grid = np.linspace(-2, 2, 50)\n",
    "y_grid = np.linspace(-1, 3, 50)\n",
    "[x, y] = np.meshgrid(x_grid, y_grid)\n",
    "z = rosenbrock(x, y, 1, 100)\n",
    "fig = plt.figure()\n",
    "ax = fig.add_subplot(111, projection='3d')\n",
    "surf = ax.plot_surface(x, y, z, alpha=0.7, cmap=cm.gnuplot)\n",
    "# Display global minimum\n",
    "ax.scatter(1, 1, 0, color='black', marker='o', s=100)\n",
    "# Rotate figure: 30 degrees on vertical, 50 degrees on horizontal\n",
    "ax.view_init(30, 50)\n",
    "# Add labels\n",
    "ax.set(title=\"Unconstrained Minimization of Rosenbrock's Function\")\n",
    "fig.show()"
   ]
  },
  {
   "cell_type": "markdown",
   "metadata": {},
   "source": [
    "Let's use the `minimize` function to minimize `rosenbrock` with the different algorithms.\n",
    "We need to redefine `rosenbrock` because `minimize` takes a function of a single argument, instead of a function of many arguments:\n",
    "\n"
   ]
  },
  {
   "cell_type": "code",
   "execution_count": 1,
   "metadata": {},
   "outputs": [],
   "source": [
    "# Minimize rosenbrock\n",
    "# minimize takes a function of a vector,\n",
    "# so we need to rewrite rosenbrock\n",
    "def fun(point): return rosenbrock(point[0], point[1], 1, 100)"
   ]
  },
  {
   "cell_type": "markdown",
   "metadata": {},
   "source": [
    "We begin with Nelder-Mead, since it is the simplest algorithm to use and does not require any derivatives:\n",
    "\n"
   ]
  },
  {
   "cell_type": "code",
   "execution_count": 1,
   "metadata": {},
   "outputs": [],
   "source": [
    "# Minimize with Nelder-Mead\n",
    "# only requires the function itself and an initial guess\n",
    "res = minimize(fun, np.array([-1, 3]), method='nelder-mead',\n",
    "               options={'disp': True})\n",
    "print(f'Solution: {res.x}\\nIterations: {res.nit}')"
   ]
  },
  {
   "cell_type": "markdown",
   "metadata": {},
   "source": [
    "Next, we use the BFGS method. To use it, we need to define the Jacobian of `rosenbrcok`:\n",
    "\n"
   ]
  },
  {
   "cell_type": "code",
   "execution_count": 1,
   "metadata": {},
   "outputs": [],
   "source": [
    "# Minimize with BFGS\n",
    "# need to supply the gradient\n",
    "def rosenbrock_der(x, y):\n",
    "    return np.array([-400*(y - x**2)*x - 2*(1-x),\n",
    "                     200*(y - x**2)])\n",
    "\n",
    "\n",
    "def dfun(point):\n",
    "    return rosenbrock_der(point[0], point[1])"
   ]
  },
  {
   "cell_type": "markdown",
   "metadata": {},
   "source": [
    "There is a helper function named `check_grad` that we can use to check the gradient.\n",
    "It compares the theoretical gradient with its numerical counterpart.\n",
    "The function takes as an input the point where to evaluate the gradients, and it returns the difference between the approximation and the gradient we coded.\n",
    "If we coded everything correctly, this difference should be small.\n",
    "\n"
   ]
  },
  {
   "cell_type": "code",
   "execution_count": 1,
   "metadata": {},
   "outputs": [],
   "source": [
    "from scipy.optimize import check_grad\n",
    "difference = check_grad(fun, dfun, x0=[-3, 1])\n",
    "print(f'Difference between theoretical and numerical gradient: {difference}')"
   ]
  },
  {
   "cell_type": "markdown",
   "metadata": {},
   "source": [
    "We can now use the method BFGS with confidence in our Jacobian implementation:\n",
    "\n"
   ]
  },
  {
   "cell_type": "code",
   "execution_count": 1,
   "metadata": {},
   "outputs": [],
   "source": [
    "res = minimize(fun, x0=np.array([-1, 3]),\n",
    "               method='BFGS', jac=dfun,\n",
    "               options={'disp': True})\n",
    "print(f'Solution: {res.x}\\nIterations: {res.nit}')"
   ]
  },
  {
   "cell_type": "markdown",
   "metadata": {},
   "source": [
    "Next, we use the Newton-Conjugate Gradient method.\n",
    "To use it, we also need to supply the hessian:\n",
    "\n"
   ]
  },
  {
   "cell_type": "code",
   "execution_count": 1,
   "metadata": {},
   "outputs": [],
   "source": [
    "# Minimize with Newton-Conjugate Gradient Algorithm\n",
    "# requires the Hessian\n",
    "def rosenbrock_hess(x, y):\n",
    "    return np.array([[-400*(y - 3*x**2) + 2, -400*x],\n",
    "                     [-400*x, 200]])\n",
    "\n",
    "\n",
    "def ddfun(point):\n",
    "    return rosenbrock_hess(point[0], point[1])\n",
    "\n",
    "\n",
    "res = minimize(fun, x0=np.array([-1, 3]),\n",
    "               method='Newton-CG', jac=dfun, hess=ddfun,\n",
    "               options={'disp': True})\n",
    "print(f'Solution: {res.x}\\nIterations: {res.nit}')"
   ]
  },
  {
   "cell_type": "markdown",
   "metadata": {},
   "source": [
    "The Newton-Conjugate Gradient method (and others) can accept the product of the Hessian with an arbitrary vector, instead of the full Hessian.\n",
    "This is useful for larger problems (functions of several variables), where the Hessian can be a big matrix and use a lot of memory.\n",
    "\n"
   ]
  },
  {
   "cell_type": "code",
   "execution_count": 1,
   "metadata": {},
   "outputs": [],
   "source": [
    "# Minimize with Newton-Conjugate Gradient Algorithm\n",
    "# use the Hessian product\n",
    "def rosenbrock_hess_prod(x, y, p):\n",
    "    return rosenbrock_hess(x, y)@p\n",
    "\n",
    "\n",
    "def ddfun_prod(point, p):\n",
    "    return rosenbrock_hess_prod(point[0], point[1], p)\n",
    "\n",
    "\n",
    "res = minimize(fun, x0=np.array([-1, 3]),\n",
    "               method='Newton-CG', jac=dfun, hessp=ddfun_prod,\n",
    "               options={'disp': True})\n",
    "print(f'Solution: {res.x}\\nIterations: {res.nit}')"
   ]
  },
  {
   "cell_type": "markdown",
   "metadata": {},
   "source": [
    "The Trust-Region Newton-Conjugate-Gradient method is similar to the previous method, but attempts to take bigger steps in the optimization procedure:\n",
    "\n"
   ]
  },
  {
   "cell_type": "code",
   "execution_count": 1,
   "metadata": {},
   "outputs": [],
   "source": [
    "# Minimize with Trust-Region Newton-Conjugate-Gradient Algorithm\n",
    "# with full Hessian\n",
    "res = minimize(fun, x0=np.array([-1, 3]),\n",
    "               method='trust-ncg', jac=dfun, hess=ddfun,\n",
    "               options={'disp': True})\n",
    "print(f'Solution: {res.x}\\nIterations: {res.nit}')\n",
    "# with Hessian product\n",
    "res = minimize(fun, x0=np.array([-1, 3]),\n",
    "               method='trust-ncg', jac=dfun, hessp=ddfun_prod,\n",
    "               options={'disp': True})\n",
    "print(f'Solution: {res.x}\\nIterations: {res.nit}')"
   ]
  },
  {
   "cell_type": "markdown",
   "metadata": {},
   "source": [
    "The Trust-Region Truncated method is an improvement of the previous method, but behaves similarly:\n",
    "\n"
   ]
  },
  {
   "cell_type": "code",
   "execution_count": 1,
   "metadata": {},
   "outputs": [],
   "source": [
    "# Minimize with Trust-Region Truncated Generalized Conjugate Gradient Algorithm\n",
    "# with full Hessian\n",
    "res = minimize(fun, x0=np.array([-1, 3]),\n",
    "               method='trust-krylov', jac=dfun, hess=ddfun,\n",
    "               options={'disp': True})\n",
    "print(f'Solution: {res.x}\\nIterations: {res.nit}')\n",
    "# with Hessian product\n",
    "res = minimize(fun, x0=np.array([-1, 3]),\n",
    "               method='trust-krylov', jac=dfun, hessp=ddfun_prod,\n",
    "               options={'disp': True})\n",
    "print(f'Solution: {res.x}\\nIterations: {res.nit}')"
   ]
  },
  {
   "cell_type": "markdown",
   "metadata": {},
   "source": [
    "The Trust-Region Nearly Exact Algorithm is similar to the previous two methods, but only accepts the entire Hessian as input.\n",
    "It is useful for medium-sized problems, in which the Hessian does not take too much memory.\n",
    "\n"
   ]
  },
  {
   "cell_type": "code",
   "execution_count": 1,
   "metadata": {},
   "outputs": [],
   "source": [
    "# Minimize with Trust-Region Nearly Exact Algorithm\n",
    "# with full Hessian\n",
    "res = minimize(fun, x0=np.array([-1, 3]),\n",
    "               method='trust-exact', jac=dfun, hess=ddfun,\n",
    "               options={'disp': True})\n",
    "print(f'Solution: {res.x}\\nIterations: {res.nit}')"
   ]
  },
  {
   "cell_type": "markdown",
   "metadata": {},
   "source": [
    "Let's compare the number of iterations and the solutions found by each of the methods:\n",
    "\n"
   ]
  },
  {
   "cell_type": "code",
   "execution_count": 1,
   "metadata": {},
   "outputs": [],
   "source": [
    "# Compare methods\n",
    "from functools import partial\n",
    "getmin = partial(minimize, fun=fun, x0=np.array([-1, 3]),\n",
    "                 jac=dfun, hess=ddfun)\n",
    "methods = ['nelder-mead', 'BFGS', 'Newton-CG', 'trust-ncg',\n",
    "           'trust-krylov', 'trust-exact']\n",
    "print('|{:^15s}|{:^15s}|{:^15s}|'.format(\n",
    "    'Method', 'Iterations', 'Solution'))\n",
    "for method in methods:\n",
    "    res = getmin(method=method)\n",
    "    print((f'|{method:^15s}|{res.nit:^15d}|'\n",
    "           f'{np.array2string(res.x, precision=2):^15s}|'))"
   ]
  },
  {
   "cell_type": "markdown",
   "metadata": {},
   "source": [
    "Notice that `.format` is a string method that works in a similar way to f-Strings: it substitutes values wherever there are curly brackets.\n",
    "The `:` inside the curly brackets specify the formatting of the string.\n",
    "The number `15` means we want to put up to 15 whitespaces after the word.\n",
    "The letter `^` means we want the string to be centered, so that there is some whitespace before and after the string.\n",
    "The letter `s` indicates that what we are substituting in the curly brackets is a string.\n",
    "\n"
   ]
  },
  {
   "cell_type": "markdown",
   "metadata": {},
   "source": [
    "\n",
    "## Constrained Optimization\n",
    "\n"
   ]
  },
  {
   "cell_type": "markdown",
   "metadata": {},
   "source": [
    "The function [`minimize`](https://docs.scipy.org/doc/scipy-1.3.0/reference/tutorial/optimize.html#constrained-minimization-of-multivariate-scalar-functions-minimize) also provides algorithms for solving constrained minimization problems.\n",
    "There are three algorithms implemented:\n",
    "\n",
    "-   Trust-Region Constrained Algorithm: `trust-constr`\n",
    "-   Sequential Least Squares Programming: `SLSQP`\n",
    "-   Constrained Optimization by Linear Approximation: `COBYLA`\n",
    "\n",
    "We will discuss how to use the Trust-Region Constrained Algorithm.\n",
    "\n"
   ]
  },
  {
   "cell_type": "markdown",
   "metadata": {},
   "source": [
    "\n",
    "### Trust-Region Constrained Algorithm\n",
    "\n"
   ]
  },
  {
   "cell_type": "markdown",
   "metadata": {},
   "source": [
    "The Trust-Region Constrained Algorithm can tackle constrained optimization problems of the form:\n",
    "\n",
    "\\begin{equation*}\n",
    "\\begin{aligned}\n",
    "& \\underset{x\\in\\mathbb{R}^d}{\\text{minimize}} & & f(x)\\\\\n",
    "& \\text{subject to} & & \\begin{cases}\n",
    "c^l \\leq c(x) \\leq c^u\\\\\n",
    "x^l \\leq x \\leq x^u\n",
    "\\end{cases}\n",
    "\\end{aligned}\n",
    "\\end{equation*}\n",
    "\n",
    "Where $c^l, c^u, x^l, x^u$ can be vectors.\n",
    "We can specify equality constraints by setting $c^l=c^u$, and one-sided constrains by setting $c^l$ to `-np.inf` or $c^u$ to `np.inf`.\n",
    "\n",
    "Let's solve the following optimization problem:\n",
    "\n",
    "\\begin{equation*}\n",
    "\\begin{aligned}\n",
    "& \\underset{(x, y)\\in\\mathbb{R}^2}{\\text{minimize}} & & (1-x)^2 + 100(y-x^2)^2\\\\\n",
    "& \\text{subject to} & & \\begin{cases}\n",
    "-1 \\leq x + 2y \\leq 1\\\\\n",
    "x^2 + y\\leq 1\\\\\n",
    "2x + y =1\\\\\n",
    "-1 \\leq x \\leq 0.5\\\\\n",
    "-0.1 \\leq y \\leq 0.3\n",
    "\\end{cases}\n",
    "\\end{aligned}\n",
    "\\end{equation*}\n",
    "\n",
    "There are three constraints on transformations of $(x, y)$, two of which are linear and one is non-linear, and two constraints on the values of $(x, y)$.\n",
    "\n",
    "To define the linear constraints, we use the object [`LinearConstraint`](https://docs.scipy.org/doc/scipy-1.3.0/reference/generated/scipy.optimize.LinearConstraint.html#scipy.optimize.LinearConstraint):\n",
    "\n"
   ]
  },
  {
   "cell_type": "code",
   "execution_count": 1,
   "metadata": {},
   "outputs": [],
   "source": [
    "from scipy.optimize import LinearConstraint\n",
    "\n",
    "\n",
    "# need to supply a matrix A, such that A @ [x, y] gives\n",
    "# the linear constraints we care about\n",
    "A = [[1, 0], [0, 1], [1, 2], [2, 1]]\n",
    "lin_cons = LinearConstraint(A, [-1, -0.1, -1, 1], [0.5, 0.3, 1, 1])"
   ]
  },
  {
   "cell_type": "markdown",
   "metadata": {},
   "source": [
    "For non-linear constraints we use the object [`NonlinearConstraint`](https://docs.scipy.org/doc/scipy-1.3.0/reference/generated/scipy.optimize.NonlinearConstraint.html#scipy.optimize.NonlinearConstraint).\n",
    "It takes a function that specifies the non-linear constraints.\n",
    "We can also supply the gradient and Hessian matrix if it is possible to compute them, otherwise they are approximated numerically.\n",
    "\n"
   ]
  },
  {
   "cell_type": "code",
   "execution_count": 1,
   "metadata": {},
   "outputs": [],
   "source": [
    "from scipy.optimize import NonlinearConstraint\n",
    "\n",
    "\n",
    "def nl_cons(point):\n",
    "    return [point[0]**2 + point[1]]\n",
    "\n",
    "\n",
    "def nl_cons_der(point):\n",
    "    return [2*point[0], 1]\n",
    "\n",
    "\n",
    "# WARNING: here the Hessian actually\n",
    "# takes the inputs separately instead of\n",
    "#  a single input! (don't ask me why)\n",
    "def nl_cons_hess(x, y):\n",
    "    return [[2, 0],\n",
    "            [0, 0]]\n",
    "\n",
    "\n",
    "# without supplying gradient and Hessian\n",
    "nlin_cons = NonlinearConstraint(nl_cons, [-np.inf], [1])\n",
    "# supplying gradient and Hessian\n",
    "nlin_cons_full = NonlinearConstraint(nl_cons, [-np.inf], [1],\n",
    "                                     jac=nl_cons_der,\n",
    "                                     hess=nl_cons_hess)"
   ]
  },
  {
   "cell_type": "markdown",
   "metadata": {},
   "source": [
    "We can now solve the optimization problem:\n",
    "\n"
   ]
  },
  {
   "cell_type": "code",
   "execution_count": 1,
   "metadata": {},
   "outputs": [],
   "source": [
    "def rosenbrock(point):\n",
    "    return (1-point[0])**2 + 100*(point[1]-point[0]**2)**2\n",
    "\n",
    "\n",
    "def rosenbrock_der(point):\n",
    "    return [-400*(point[1] - point[0]**2)*point[0] - 2*(1-point[0]),\n",
    "            200*(point[1] - point[0]**2)]\n",
    "\n",
    "\n",
    "def rosenbrock_hess(point):\n",
    "    return [[-400*(point[1] - 3*point[0]**2) + 2, -400*point[0]],\n",
    "            [-400*point[0], 200]]\n",
    "\n",
    "\n",
    "x0 = np.array([0.2, 0.2])\n",
    "res = minimize(rosenbrock, x0,\n",
    "               method='trust-constr',\n",
    "               jac=rosenbrock_der,\n",
    "               hess=rosenbrock_hess,\n",
    "               constraints=[lin_cons, nlin_cons_full],\n",
    "               options={'verbose': 1})\n",
    "print(f'Solution: {np.array2string(res.x, precision=2)}')\n",
    "print(f'Iterations: {res.nit}')"
   ]
  },
  {
   "cell_type": "markdown",
   "metadata": {},
   "source": [
    "\n",
    "# Numerical Integration\n",
    "\n"
   ]
  },
  {
   "cell_type": "markdown",
   "metadata": {},
   "source": [
    "The sub-package [`scipy.integrate`](https://docs.scipy.org/doc/scipy/reference/tutorial/integrate.html) implements methods for the numerical integration of functions.\n",
    "Consider the following integral:\n",
    "\n",
    "\\begin{align*}\n",
    "\\int_a^b f(x)dx\n",
    "\\end{align*}\n",
    "\n",
    "Where $f:\\mathbb{R}\\mapsto\\mathbb{R}$ and $a,b\\in\\mathbb{R}\\cup\\Set{\\pm\\infty}$.\n",
    "To integrate such a function, we can use the function [`quad`](https://docs.scipy.org/doc/scipy/reference/generated/scipy.integrate.quad.html#scipy-integrate-quad):\n",
    "\n"
   ]
  },
  {
   "cell_type": "code",
   "execution_count": 1,
   "metadata": {},
   "outputs": [],
   "source": [
    "from scipy.integrate import quad\n",
    "from scipy.stats import norm\n",
    "\n",
    "help(quad)\n",
    "res, _ = quad(np.sin, 0, np.pi)\n",
    "print(res)\n",
    "res, _ = quad(np.sin, 0, 2*np.pi)\n",
    "print(res)\n",
    "res, _ = quad(lambda x: np.exp(-x), 0, np.inf)\n",
    "print(res)\n",
    "res, _ = quad(norm.pdf, -np.inf, np.inf)\n",
    "print(res)"
   ]
  },
  {
   "cell_type": "markdown",
   "metadata": {},
   "source": [
    "There are other functions for evaluating double, triple and even bigger integrals.\n",
    "To see details, check the documentation for [`dblquad`](https://docs.scipy.org/doc/scipy/reference/generated/scipy.integrate.dblquad.html#scipy-integrate-dblquad), [`tplquad`](https://docs.scipy.org/doc/scipy/reference/generated/scipy.integrate.tplquad.html#scipy.integrate.tplquad) and [`nquad`](https://docs.scipy.org/doc/scipy/reference/generated/scipy.integrate.nquad.html#scipy-integrate-nquad).\n",
    "\n"
   ]
  },
  {
   "cell_type": "markdown",
   "metadata": {},
   "source": [
    "\n",
    "# Approximating Functions\n",
    "\n"
   ]
  },
  {
   "cell_type": "markdown",
   "metadata": {},
   "source": [
    "Given a function $f:\\mathbb{R}\\mapsto\\mathbb{R}$ we want to approximate it by a finite number $n$ of basis functions $\\Set{p_k}_{k=1}^n$.\n",
    "We need to choose weights such that:\n",
    "\n",
    "\\begin{align*}\n",
    "  f(x)&\\approx \\beta_1 p_1(x) + \\beta_2 p_2(x) + \\cdots + \\beta_n p_n(x)\\\\\n",
    "      &=\\underbrace{\\begin{pmatrix}\n",
    "        p_1(x) & p_2(x) & \\cdots & p_n(x)\n",
    "      \\end{pmatrix}}_{p(x)'}\\underbrace{\\begin{pmatrix}\n",
    "        \\beta_1\\\\\n",
    "        \\beta_2\\\\\n",
    "        \\vdots\\\\\n",
    "        \\beta_n\n",
    "      \\end{pmatrix}}_{\\beta}\\\\\n",
    "  &=p(x)'\\beta\n",
    "\\end{align*}\n",
    "\n",
    "If we have a set of points $\\Set{x_i}_{i=1}^d$ where we know the value of $f$, then we can write:\n",
    "\n",
    "\\begin{align*}\n",
    "  \\underbrace{\\begin{pmatrix}\n",
    "    f(x_1)\\\\\n",
    "    f(x_2)\\\\\n",
    "    \\vdots\\\\\n",
    "    f(x_d)\n",
    "  \\end{pmatrix}}_{F}\\approx\n",
    "  \\underbrace{\\begin{pmatrix}\n",
    "    p_1(x_1) & p_2(x_1) & \\cdots & p_n(x_1)\\\\\n",
    "    p_1(x_2) & p_2(x_2) & \\cdots & p_n(x_2)\\\\\n",
    "    & & \\vdots & \\\\\n",
    "    p_1(x_d) & p_2(x_d) & \\cdots & p_n(x_d)\\\\\n",
    "  \\end{pmatrix}}_{P}\n",
    "  \\underbrace{\\begin{pmatrix}\n",
    "    \\beta_1\\\\\n",
    "    \\beta_2\\\\\n",
    "    \\vdots\\\\\n",
    "    \\beta_d\n",
    "  \\end{pmatrix}}_{\\beta}\\numberthis{}\\label{eq:890_matlab_FPbeta}\n",
    "\\end{align*}\n",
    "\n",
    "If the number of basis functions and the number of points is the same, that is $n=d$, then there is an exact solution for $\\beta$ if $P$ is invertible:\n",
    "\n",
    "\\begin{align*}\n",
    "\\beta=P^{-1}F\n",
    "\\end{align*}\n",
    "\n",
    "If we have more points than basis functions, then we can compute a least-squares approximation to $f$:\n",
    "\n",
    "\\begin{align*}\n",
    "\\hat{\\beta} \\equiv \\argmin_{\\beta\\in\\mathbb{R}^n}{\\sum_{i=1}^d(f(x_i) - p(x_i)'\\beta)^2}\n",
    "\\end{align*}\n",
    "\n",
    "We know that the \"OLS\" solution is:\n",
    "\n",
    "\\begin{align*}\n",
    "\\hat{\\beta}=(P'P)^{-}P'F\n",
    "\\end{align*}\n",
    "\n",
    "Notice the use of a [generalized inverse](https://en.wikipedia.org/wiki/Moore–Penrose_inverse) (Moore-Penrose) in $(P'P)^{-}$.\n",
    "This is necessary because depending on choice of the basis function, we might have a column of zeros in $P$ (this happens with splines when there are more knots relative to points).\n",
    "Now, the function that approximates $f$ is:\n",
    "\n",
    "\\begin{align*}\n",
    "\\hat{f}(x) \\equiv p(x)'\\hat{\\beta}\n",
    "\\end{align*}\n",
    "\n",
    "This approximating function can be computed given a choice of basis functions $\\Set{p_k}_{k=1}^n$ and a collection of data points $\\Set{x_i}_{i=1}^d$.\n",
    "\n",
    "As an aside, consider the case where the original function we wanted to estimate was a conditional mean, $f(x)=\\E{Y\\vert X=x}$.\n",
    "If we have i.i.d. observations of $f$ and $x$, then the $\\hat{f}$ above is exactly the non-parametric Sieves estimator for the conditional mean.\n",
    "In this case, there is theory justifying the consistency and asymptotic normality of $\\hat{f}$.\n",
    "\n",
    "Next, we discuss different choices for basis functions.\n",
    "We will focus on polynomials, since their properties are well understood and they are easy to work with.\n",
    "\n"
   ]
  },
  {
   "cell_type": "markdown",
   "metadata": {},
   "source": [
    "\n",
    "## Polynomials, Orthogonality and Orthonormality\n",
    "\n"
   ]
  },
  {
   "cell_type": "markdown",
   "metadata": {},
   "source": [
    "Let $\\mathcal{P}$ denote a family of polynomials parameterized by the degree of the polynomials:\n",
    "\n",
    "\\begin{align*}\n",
    "\\mathcal{P}=\\Set{P_n:\\mathbb{R}\\mapsto\\mathbb{R}: P_n\\text { is polynomial of degree n}}_{n \\in\\mathbb{N}\\cup\\Set{0}}\n",
    "\\end{align*}\n",
    "\n",
    "We say that a family of polynomials is <span class=\"underline\">orthogonal</span> if any two of its members are orthogonal to each other under some inner product:\n",
    "\n",
    "\\begin{align*}\n",
    "\\exists w:\\mathbb{R}\\mapsto\\mathbb{R}:\\forall P_n, P_m\\in\\mathcal{P}, \\int w(x)P_n(x) P_m(x)dx = 0 \\text{ if } n\\neq m\n",
    "\\end{align*}\n",
    "\n",
    "We say that a family of polynomials is <span class=\"underline\">orthonormal</span> if it is orthogonal and:\n",
    "\n",
    "\\begin{align*}\n",
    "\\forall P_n\\in\\mathcal{P},\\int w(x)P_n(x)P_n(x)dx = 1\n",
    "\\end{align*}\n",
    "\n",
    "We are interested in using orthonormal polynomials as the basis functions in the functional approximation.\n",
    "The orthonormality property is important for the numerical stability, since polynomials of a high degree from a family of polynomials that is not orthonormal will have values that are big, leading to numerical errors very quickly.\n",
    "\n",
    "A few observations before we begin.\n",
    "First, coding the different orthonormal polynomials by hand is surprisingly hard, since it is quite easy to make small mistakes but hard to debug.\n",
    "If you ever need to do so, the orthogonality and orthonomality conditions are useful to check if everything is correct.\n",
    "Second, the approximation of continuous functions over compacts is justified by [Jackson's theorems](https://en.wikipedia.org/wiki/Jackson%27s_inequality).\n",
    "Third, better approximations require a higher number of basis functions.\n",
    "Fourth, to approximate more complex functions you need a higher number of $(x, f(x))$ observations.\n",
    "\n"
   ]
  },
  {
   "cell_type": "markdown",
   "metadata": {},
   "source": [
    "\n",
    "## Hermite Polynomials\n",
    "\n"
   ]
  },
  {
   "cell_type": "markdown",
   "metadata": {},
   "source": [
    "The motivation for Hermite polynomials is to find a family of polynomials that is orthogonal on the real line.\n",
    "We can define [Hermite polynomials](https://en.wikipedia.org/wiki/Hermite_polynomials) recursively.\n",
    "Let $H_k$ denote the Hermite polynomial of order $k$, then:\n",
    "\n",
    "\\begin{align*}\n",
    "H_0(x)&\\equiv 1\\\\\n",
    "H_1(x)&\\equiv 2x\\\\\n",
    "H_k(x)&\\equiv 2xH_{k-1}(x)-2(k-1)H_{k-2}(x)\n",
    "\\end{align*}\n",
    "\n",
    "The Hermite polynomials are orthogonal on the real line with respect to the weight function:\n",
    "\n",
    "\\begin{align*}\n",
    "w(x) = \\e{-x^2}\n",
    "\\end{align*}\n",
    "\n",
    "Hermite polynomials are available in `scipy.special.hermite`:\n",
    "\n"
   ]
  },
  {
   "cell_type": "code",
   "execution_count": 1,
   "metadata": {},
   "outputs": [],
   "source": [
    "from scipy.special import hermite\n",
    "from scipy.integrate import quad\n",
    "\n",
    "# Verify orthogonality\n",
    "def w(x): return np.exp(-x**2)\n",
    "res, _ = quad(lambda x: w(x)*hermite(2)(x)*hermite(3)(x),\n",
    "              -np.inf, np.inf)\n",
    "print(res)\n",
    "res, _ = quad(lambda x: w(x)*hermite(1)(x)*hermite(2)(x),\n",
    "              -np.inf, np.inf)\n",
    "print(res)"
   ]
  },
  {
   "cell_type": "markdown",
   "metadata": {},
   "source": [
    "It is possible to show that:\n",
    "\n",
    "\\begin{align*}\n",
    "\\int_{-\\infty}^{\\infty}w(x)H_k(x)H_k(x)dx=2^kk!\\sqrt{\\pi}\n",
    "\\end{align*}\n",
    "\n",
    "Thus, we can define Hermite polynomials that are orthonormal and with weight function $w(x)=1$, by defining:\n",
    "\n",
    "\\begin{align*}\n",
    "\\tilde{H}_k(x)&=\\sqrt{\\frac{w(x)}{2^kk!\\sqrt{\\pi}}}H_k(x)\\\\\n",
    "&=(2^kk!\\sqrt{\\pi})^{-\\frac{1}{2}}\\e{-\\frac{x^2}{2}}H_k(x)\n",
    "\\end{align*}\n",
    "\n",
    "The family of polynomials $\\Set{\\tilde{H}_k:k\\in\\mathbb{N}\\cup\\Set{0}}$ is orthonormal.\n",
    "\n"
   ]
  },
  {
   "cell_type": "code",
   "execution_count": 1,
   "metadata": {},
   "outputs": [],
   "source": [
    "from scipy.special import factorial\n",
    "\n",
    "\n",
    "# Hermite Polynomials\n",
    "def orthoHermite(n):\n",
    "    scale = (2**n*factorial(n)*np.pi**0.5)**-0.5\n",
    "    return lambda x: scale*np.exp(-x**2/2)*hermite(n)(x)\n",
    "\n",
    "\n",
    "# Verify Orthonormality\n",
    "res, _ = quad(lambda x: orthoHermite(2)(x)*orthoHermite(3)(x),\n",
    "              -np.inf, np.inf)\n",
    "print(res)\n",
    "res, _ = quad(lambda x: orthoHermite(3)(x)*orthoHermite(3)(x),\n",
    "              -np.inf, np.inf)\n",
    "print(res)\n",
    "\n",
    "\n",
    "# Visualize polynomials\n",
    "fig, ax = plt.subplots()\n",
    "x = np.linspace(-5, 5, 200)\n",
    "for n in range(5):\n",
    "    ax.plot(x, orthoHermite(n)(x), label=f'$H_{n}$')\n",
    "ax.legend()\n",
    "ax.set(title=\"Orthonormal Hermite Polynomials\")\n",
    "fig.show()"
   ]
  },
  {
   "cell_type": "markdown",
   "metadata": {},
   "source": [
    "Let's use the Orthonormal Hermite polynomials as basis functions to approximate some data points:\n",
    "\n"
   ]
  },
  {
   "cell_type": "code",
   "execution_count": 1,
   "metadata": {},
   "outputs": [],
   "source": [
    "# Generate data\n",
    "x_data = np.linspace(-5, 5, num=100)\n",
    "y_data = 2.3 * np.sin(1.2 * x_data) + np.random.normal(size=100)\n",
    "\n",
    "\n",
    "# Compute approximating function from basis of 4 polynomials\n",
    "def poly(x): return np.array([orthoHermite(0)(x),\n",
    "                              orthoHermite(1)(x),\n",
    "                              orthoHermite(2)(x),\n",
    "                              orthoHermite(3)(x)])\n",
    "\n",
    "\n",
    "P = poly(x_data).T\n",
    "beta = np.linalg.pinv(P.T @ P) @ P.T @ y_data\n",
    "\n",
    "\n",
    "def fhat(x):\n",
    "    return poly(x).T @ beta\n",
    "\n",
    "\n",
    "# Visualize\n",
    "fig, ax = plt.subplots()\n",
    "ax.scatter(x_data, y_data,\n",
    "           marker='o', color='black', label='Data')\n",
    "ax.plot(x_data, fhat(x_data), color='green')\n",
    "fig.show()"
   ]
  },
  {
   "cell_type": "markdown",
   "metadata": {},
   "source": [
    "Notice that we are approximating a function $f$ based on noisy observations.\n",
    "The algorithm is very fast and allows for quickly increasing the number of basis functions used in the approximation.\n",
    "\n",
    "We can obtain a similar result using the [`curve_fit`](https://docs.scipy.org/doc/scipy/reference/generated/scipy.optimize.curve_fit.html#scipy-optimize-curve-fit) function from `scipy.optimize`.\n",
    "The function `curve_fit` takes a function as input, and uses non-linear least-squares to estimate its parameters.\n",
    "\n"
   ]
  },
  {
   "cell_type": "code",
   "execution_count": 1,
   "metadata": {},
   "outputs": [],
   "source": [
    "from scipy.optimize import curve_fit\n",
    "\n",
    "\n",
    "def p(x, *args):\n",
    "    params = np.array(args)\n",
    "    poly = np.array([orthoHermite(0)(x),\n",
    "                     orthoHermite(1)(x),\n",
    "                     orthoHermite(2)(x),\n",
    "                     orthoHermite(3)(x)])\n",
    "    return poly.T @ params\n",
    "\n",
    "\n",
    "params, _ = curve_fit(p, x_data, y_data, p0=np.ones((4, 1)))\n",
    "fig, ax = plt.subplots()\n",
    "ax.scatter(x_data, y_data,\n",
    "           marker='o', color='black', label='Data')\n",
    "ax.plot(x_data, f(x_data, *params),\n",
    "        color='blue', label='curve_fit')\n",
    "ax.plot(x_data, fhat(x_data),\n",
    "        color='green', label='sieves')\n",
    "ax.legend()\n",
    "fig.show()"
   ]
  },
  {
   "cell_type": "markdown",
   "metadata": {},
   "source": [
    "We can improve the approximation by using a higher number of basis polynomials.\n",
    "Let's create a function that will create `p` with however many polynomials we want:\n",
    "\n"
   ]
  },
  {
   "cell_type": "code",
   "execution_count": 1,
   "metadata": {},
   "outputs": [],
   "source": [
    "# Generate approximating function based on a specified\n",
    "# number of basis polynomials\n",
    "# With curve_fit\n",
    "def approximator_generator(max_degree):\n",
    "    def p(x, *args):\n",
    "        params = np.array(args)\n",
    "        poly = np.array([orthoHermite(n)(x) for n in range(max_degree)])\n",
    "        return poly.T @ params\n",
    "    return p"
   ]
  },
  {
   "cell_type": "markdown",
   "metadata": {},
   "source": [
    "If we pass the number `10`, then `p` will use 10 orthonormal Hermite polynomials.\n",
    "Let's use `curve_fit` and the Sieves approach to approximate the function.\n",
    "\n"
   ]
  },
  {
   "cell_type": "code",
   "execution_count": 1,
   "metadata": {},
   "outputs": [],
   "source": [
    "p = approximator_generator(10)\n",
    "params, _ = curve_fit(p, x_data, y_data, p0=np.ones(10))\n",
    "\n",
    "\n",
    "# With sieves\n",
    "def poly(x): return np.array([orthoHermite(n)(x) for n in range(10)]).T\n",
    "P = poly(x_data)\n",
    "beta = np.linalg.pinv(P.T @ P) @ P.T @ y_data\n",
    "def fhat(x): return poly(x) @ beta\n",
    "\n",
    "\n",
    "# Visualize both\n",
    "fig, ax = plt.subplots()\n",
    "ax.scatter(x_data, y_data,\n",
    "           marker='o', color='black', label='Data')\n",
    "ax.plot(x_data, p(x_data, *params),\n",
    "        color='blue', label='curve_fit')\n",
    "ax.plot(x_data, fhat(x_data),\n",
    "        color='green', label='sieves')\n",
    "ax.legend()\n",
    "fig.show()"
   ]
  },
  {
   "cell_type": "markdown",
   "metadata": {},
   "source": [
    "Compare different approximations as a function of the number of basis polynomials:\n",
    "\n"
   ]
  },
  {
   "cell_type": "code",
   "execution_count": 1,
   "metadata": {},
   "outputs": [],
   "source": [
    "fig, ax = plt.subplots()\n",
    "ax.scatter(x_data, y_data,\n",
    "           marker='o', color='black', label='Data')\n",
    "for n in [5, 15, 30]:\n",
    "    p = approximator_generator(n)\n",
    "    params, _ = curve_fit(p, x_data, y_data, p0=np.ones(n))\n",
    "    ax.plot(x_data, p(x_data, *params), label=f'{n} polynomials')\n",
    "ax.legend()\n",
    "fig.show()"
   ]
  },
  {
   "cell_type": "markdown",
   "metadata": {},
   "source": [
    "Too few basis polynomials and the approximation is bad, too many and the approximation becomes highly variable.\n",
    "When creating approximating functions, you might want to hard-code the number of polynomials in the basis after finishing approximating the function, since this is faster than using something like `approximator_generator`.\n",
    "\n"
   ]
  },
  {
   "cell_type": "markdown",
   "metadata": {},
   "source": [
    "\n",
    "## Piecewise Polynomials (Splines)\n",
    "\n"
   ]
  },
  {
   "cell_type": "markdown",
   "metadata": {},
   "source": [
    "Polynomials are useful to approximate continuous functions, however the approximations often oscillate wildly.\n",
    "These oscillations are more apparent at the tails of the function we are approximating.\n",
    "\n",
    "Consider the approximation of a simple function $f(x)=\\frac{1}{1+x^2}$ over the interval $[-5, 5]$ using polynomials.\n",
    "The function we want to approximate is infinitely differentiable, but the approximation by polynomials will incur in a wild oscillation near the tails of the function.\n",
    "This problem is known as [Runge's example](https://en.wikipedia.org/wiki/Runge%27s_phenomenon).\n",
    "\n"
   ]
  },
  {
   "cell_type": "code",
   "execution_count": 1,
   "metadata": {},
   "outputs": [],
   "source": [
    "def runge(x):\n",
    "    return 1/(1 + 25*x**2)\n",
    "\n",
    "\n",
    "# Use 15 points to approximate the function\n",
    "x = np.linspace(-1, 1, 15)\n",
    "y = runge(x)\n",
    "p = approximator_generator(12)\n",
    "params, _ = curve_fit(p, x, y, p0=np.ones(12))\n",
    "fhat = lambda x: p(x, *params)\n",
    "\n",
    "# Visualize problem\n",
    "fig, ax = plt.subplots()\n",
    "x = np.linspace(-1, 1, 200)\n",
    "ax.plot(x, runge(x),\n",
    "        color='black', label=\"Runge's function\")\n",
    "ax.plot(x, fhat(x),\n",
    "        color='blue', label='Approximation')\n",
    "ax.legend()\n",
    "fig.show()"
   ]
  },
  {
   "cell_type": "markdown",
   "metadata": {},
   "source": [
    "The idea of piecewise polynomials is that instead of using a single polynomial to approximate a function, we could use various different polynomials to approximate different parts of the function.\n",
    "We say that a function $s:[a,b]\\mapsto\\mathbb{R}$ is a <span class=\"underline\">piecewise polynomial of degree k</span> if:\n",
    "\n",
    "-   The function $s$ is continuous over $[a,b]$;\n",
    "-   There exists a finite number $n+1$ of points $\\Set{\\xi_i}_{i=1}^{n+1}$, with $a=\\xi_0<\\xi_1<\\cdots<\\xi_n=b$, where $s$ is a polynomial of degree at most $k$ on each of the intervals $[\\xi_{i-1}, \\xi_i], i=1,2,\\ldots,n$.\n",
    "\n",
    "That is, $s$ is a continuous function, but restricted to each interval it is also a polynomial of degree at most $k$.\n",
    "The points $\\xi_i$ are called <span class=\"underline\">knots</span>.\n",
    "If the function $s$ is differentiable up to its degree $k$ minus 1, then we say it is a <span class=\"underline\">spline function of degree k</span>.\n",
    "A spline is a piecewise polynomial that is as smooth as possible, without becoming a regular polynomial.\n",
    "\n",
    "There are various functions that are splines.\n",
    "One of the simplest is the linear spline.\n",
    "Given a set of points $\\Set{(x_1, y_1), \\cdots, (x_m, y_m)}$, where $x_1=a$ and $x_m=b$, we can define $s$ on each of the intervals $[x_i, x_{i+1}]$ by:\n",
    "\n",
    "\\begin{align*}\n",
    "s(x)\\equiv\\frac{(x_{i+1}-x)y+(x-x_i)y_{i+1}}{x_{i+1}-x_i},  x\\in[x_i,x_{i+1}]\n",
    "\\end{align*}\n",
    "\n",
    "The function $s$ is defined as a sequence of lines connecting the intervals.\n",
    "Notice that the function is continuous, of degree $k=1$, but not differentiable.\n",
    "\n",
    "We will focus the discussion on a type of splines known as [B-splines](https://en.wikipedia.org/wiki/B-spline).\n",
    "The idea of B-splines is to write $s$ as a linear combination of various polynomials of degree $k$, denoted by $B_i^k$:\n",
    "\n",
    "\\begin{align*}\n",
    "s(x)=\\sum_{i}\\beta_iB_i^k(x) \\text{ where } x\\in[a, b]\n",
    "\\end{align*}\n",
    "\n",
    "Each of the $B_i^k$ polynomials satisfy the property that they are nonzero only on a small interval, but are zero on the majority of $[a, b]$.\n",
    "The subscript $i$ denotes the interval $[\\xi_{i}, \\xi_{i+1}]$ over which $B_i^k$ is nonzero.\n",
    "The idea is to limit the impact of the polynomials on intervals far from where they are nonzero.\n",
    "An additional benefit is that B-splines incur in fewer calculations than other splines.\n",
    "\n",
    "We can define the $B_i^k$ polynomials by:\n",
    "\n",
    "\\begin{align*}\n",
    "B_i^k(x) &= \\sum_{j=i}^{i+k+1}d_j(x-\\xi_j)_{+}^k\\\\\n",
    "d_j&=  \\prod_{l=i,l\\neq j}^{i+k+1}\\frac{1}{\\xi_l-\\xi_j}\n",
    "\\end{align*}\n",
    "\n",
    "Where $(a)_{+ }\\equiv\\text{max}(a, 0)$, and the terms $(x-\\xi_j)_{+}^k$ are known as truncated power functions.\n",
    "\n",
    "The subscript $i$ indicates the interval $[\\xi_i, \\xi_{i+1}]$ over which the polynomial $B_i^k$ is nonzero.\n",
    "However, the polynomial $B_i^k$ is also nonzero over a slightly larger interval that extends after $\\xi_{i+1}$.\n",
    "This is necessary so that the resulting function is continuous.\n",
    "The order of the polynomial $k$ dictates how much longer the polynomial is extended.\n",
    "If the order is $k=1$, then the polynomial extends over one more knot, that is, $B_i^1$ is nonzero on the interval $[\\xi_i, \\xi_{i+2}]$.\n",
    "If the order is $k=2$, then the polynomial extends over two more knots, that is, $B_i^2$ is nonzero on the interval $[\\xi_i, \\xi_{i+3}]$.\n",
    "And so on for higher orders.\n",
    "The coefficients $d_j$ are computed so that the polynomial $B_i^k$ is zero outside the interval $[\\xi_i, \\xi_{i+k+1}]$.\n",
    "\n",
    "The polynomials $B_i^k$ are created for each of the knots $\\xi_i$, for $i=0,1,2,\\cdots,n$.\n",
    "Notice that when we are at the final knots, we would need more points to the right of $\\xi_n$ to compute the coefficients $d_j$.\n",
    "In practice, we may not be able to generate these additional knots, so we need to truncate some of the coefficients to zero to generate the last few $B_i^k$.\n",
    "\n",
    "The basis polynomials for B-Splines are available in [`scipy.signal.bspline`](https://docs.scipy.org/doc/scipy/reference/generated/scipy.signal.bspline.html?highlight=signal.bspline#scipy.signal.bspline).\n",
    "\n"
   ]
  },
  {
   "cell_type": "code",
   "execution_count": 1,
   "metadata": {},
   "outputs": [],
   "source": [
    "from scipy.interpolate import BSpline\n",
    "from scipy.signal import bspline\n",
    "fig, ax = plt.subplots()\n",
    "x = np.linspace(-3, 3, 200)\n",
    "for n in range(5):\n",
    "    ax.plot(x, bspline(x, n), label=f'Order {n}')\n",
    "ax.set(title='Basis B-Splines')\n",
    "ax.legend()\n",
    "fig.show()"
   ]
  },
  {
   "cell_type": "markdown",
   "metadata": {},
   "source": [
    "We can fit B-splines on data using the function [`scipy.interpolate.splrep`](https://docs.scipy.org/doc/scipy/reference/generated/scipy.interpolate.splrep.html#scipy.interpolate.splrep), and then use [`scipy.interpolate.BSpline`](https://docs.scipy.org/doc/scipy/reference/generated/scipy.interpolate.BSpline.html#scipy-interpolate-bspline) to create the approximating function:\n",
    "\n"
   ]
  },
  {
   "cell_type": "code",
   "execution_count": 1,
   "metadata": {},
   "outputs": [],
   "source": [
    "from scipy.interpolate import splrep, BSpline\n",
    "\n",
    "\n",
    "# Use 15 points to approximate the function\n",
    "x = np.linspace(-1, 1, 15)\n",
    "y = runge(x)\n",
    "# Approximate using B-splines of 3rd degree (cubic splines)\n",
    "# On each small interval, uses basis polynomials of up to 3rd\n",
    "# degree to approximate the function.\n",
    "(knots, coef, degree) = splrep(x, y, k=3)\n",
    "#  Combine all polynomials using the coefficients to get\n",
    "# the final approximation.\n",
    "fhat = lambda x: BSpline(knots, coef, degree, False)(x)\n",
    "# Visualize problem\n",
    "fig, ax = plt.subplots()\n",
    "x = np.linspace(-1, 1, 200)\n",
    "ax.plot(x, runge(x),\n",
    "        color='black', label=\"Runge's function\")\n",
    "ax.plot(x, fhat(x),\n",
    "        color='green', label='B-Spline Approximation')\n",
    "ax.legend()\n",
    "fig.show()"
   ]
  },
  {
   "cell_type": "markdown",
   "metadata": {},
   "source": [
    "\n",
    "## Approximating Functions of Many Variables\n",
    "\n"
   ]
  },
  {
   "cell_type": "markdown",
   "metadata": {},
   "source": [
    "We can use the same methodology to approximate a function $f$ of many variables.\n",
    "In this case, $f:\\mathbb{R}^n\\mapsto\\mathbb{R}$, so that $x$ is now a vector of dimension $n$.\n",
    "Let's consider a basis of power functions to approximate $f$.\n",
    "Let $p_k(x)$ denote a power function of degree $k$ for the vector $x$.\n",
    "It consists of all interaction terms between the elements of $x$, such that the sum of the exponents of each element is equal to $k$.\n",
    "For example:\n",
    "\n",
    "\\begin{align*}\n",
    "p_0(x) &= 1\\\\\n",
    "p_1(x) &= \\begin{pmatrix}\n",
    "x_1\\\\\n",
    "x_2\n",
    "\\end{pmatrix}\\\\\n",
    "p_2(x) &= \\begin{pmatrix}\n",
    "x_1^2\\\\\n",
    "x_1x_2\\\\\n",
    "x_2^2\n",
    "\\end{pmatrix}\\\\\n",
    "p_3(x) &= \\begin{pmatrix}\n",
    "x_1^3\\\\\n",
    "x_1^2x_2\\\\\n",
    "x_1x_2^2\\\\\n",
    "x_2^3\n",
    "\\end{pmatrix}\n",
    "\\end{align*}\n",
    "\n",
    "Given a choice for the highest order $k$ of the polynomials, we can define $p(x)$ as before.\n",
    "For example, if we choose $k=2$:\n",
    "\n",
    "\\begin{align*}\n",
    "  p(x)=\\begin{pmatrix}\n",
    "    1\\\\\n",
    "    x_1\\\\\n",
    "    x_2\\\\\n",
    "    x_1^2\\\\\n",
    "    x_1x_2\\\\\n",
    "    x_2^2\n",
    "  \\end{pmatrix}\n",
    "\\end{align*}\n",
    "\n",
    "Then, given a set of observations for $x$ and $f(x)$, we can proceed as before to estimate $\\hat{\\beta}$ and approximate the function $f$.\n",
    "\n"
   ]
  },
  {
   "cell_type": "markdown",
   "metadata": {},
   "source": [
    "\n",
    "## Built-In Interpolating Functions\n",
    "\n"
   ]
  },
  {
   "cell_type": "markdown",
   "metadata": {},
   "source": [
    "SciPy offers the function [`scipy.interpolate.interp1d`](https://docs.scipy.org/doc/scipy/reference/generated/scipy.interpolate.interp1d.html#scipy-interpolate-interp1d) to interpolate 1-dimensional data.\n",
    "It is similar to the `minimize` function, in the sense that we can choose a the input `kind` to get different types of interpolations.\n",
    "\n"
   ]
  },
  {
   "cell_type": "code",
   "execution_count": 1,
   "metadata": {},
   "outputs": [],
   "source": [
    "from scipy.interpolate import interp1d\n",
    "\n",
    "x = np.linspace(-1, 1, 15)\n",
    "y = runge(x)\n",
    "\n",
    "# Visualize different interpolations\n",
    "fig, axes = plt.subplots(nrows=2)\n",
    "x_grid = np.linspace(-1, 1, 200)\n",
    "for ax in axes:\n",
    "    ax.plot(x_grid, runge(x_grid), color='black',\n",
    "            linewidth=2, label=\"Runge's Function\")\n",
    "for kind in ['linear', 'cubic']:\n",
    "    fun = interp1d(x, y, kind=kind)\n",
    "    axes[0].plot(x_grid, fun(x_grid), label=f'{kind} spline')\n",
    "for kind in [5, 11]:\n",
    "    fun = interp1d(x, y, kind=kind)\n",
    "    axes[1].plot(x_grid, fun(x_grid),\n",
    "                 label=f'{kind}th degree polynomial')\n",
    "\n",
    "\n",
    "axes[0].legend()\n",
    "axes[1].legend()\n",
    "fig.show()"
   ]
  },
  {
   "cell_type": "markdown",
   "metadata": {},
   "source": [
    "See [`interp2d`](https://docs.scipy.org/doc/scipy/reference/generated/scipy.interpolate.interp2d.html#scipy.interpolate.interp2d) for the interpolation of 2-dimensional functions.\n",
    "For the interpolation of n-dimensional functions, read the documentation of [`interpn`](https://docs.scipy.org/doc/scipy/reference/generated/scipy.interpolate.interpn.html#scipy.interpolate.interpn).\n",
    "\n"
   ]
  },
  {
   "cell_type": "markdown",
   "metadata": {},
   "source": [
    "\n",
    "# Symbolic Math\n",
    "\n"
   ]
  },
  {
   "cell_type": "markdown",
   "metadata": {},
   "source": [
    "The [SymPy](https://www.sympy.org/en/index.html) package provides tools for symbolic mathematics in Python.\n",
    "It can be installed with `pip`:\n",
    "\n",
    "    1  pip install sympy\n",
    "\n",
    "Check its [documentation page](https://docs.sympy.org/latest/index.html) for usage details.\n",
    "\n",
    "Due to time constraints, we will not explore this package, although if you have the time, it is very useful to learn how to use it.\n",
    "You can create scripts that show how to solve models step by step, or use SymPy as a checker for your calculations on paper.\n",
    "\n"
   ]
  }
 ],
 "metadata": {
  "kernelspec": {
   "display_name": "Python 3",
   "language": "python",
   "name": "python3"
  },
  "language_info": {
   "codemirror_mode": {
    "name": "ipython",
    "version": 3
   },
   "file_extension": ".py",
   "mimetype": "text/x-python",
   "name": "python",
   "nbconvert_exporter": "python",
   "pygments_lexer": "ipython3",
   "version": "3.7.4"
  },
  "org": null
 },
 "nbformat": 4,
 "nbformat_minor": 1
}
