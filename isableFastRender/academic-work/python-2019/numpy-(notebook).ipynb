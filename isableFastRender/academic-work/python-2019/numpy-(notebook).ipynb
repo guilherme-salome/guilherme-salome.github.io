{
 "cells": [
  {
   "cell_type": "markdown",
   "metadata": {},
   "source": [
    "# Numpy"
   ]
  },
  {
   "cell_type": "markdown",
   "metadata": {},
   "source": [
    "We have covered the basics of the Python language.\n",
    "We know how to work with the basic data types, create functions and handle exceptions.\n",
    "To continue learning Python, we will implement the ordinary least squares (OLS) estimator for the parameters of a linear regression under the classical assumptions.\n",
    "\n",
    "Let's assume that the economic model of interest is given by:\n",
    "\n",
    "\\begin{align*}\n",
    "\\underbrace{y}_{n \\times 1}=\\underbrace{X}_{n\\times K}\\underbrace{\\beta}_{K\\times 1} + \\underbrace{\\varepsilon}_{n\\times 1}\n",
    "\\end{align*}\n",
    "\n",
    "where $y$ is a $n\\times 1$ vector of observed dependent variables, $X$ is an $n \\times K$ matrix of observed explanatory variables, $\\beta$ is a $K\\times 1$ vector of unknown parameters and $\\varepsilon$ is a $n\\times 1$ vector of unobserved explanatory variables.\n",
    "\n",
    "We know that the OLS estimator of $\\beta$ is given by:\n",
    "\n",
    "\\begin{align*}\n",
    "\\hat{\\beta}=(X'X)^{-1}X'y\n",
    "\\end{align*}\n",
    "\n",
    "Our first objective is to implement this estimator.\n",
    "\n",
    "Using a bottom-up approach, we need to understand:\n",
    "\n",
    "1.  The basic data types in Python;\n",
    "2.  How to create vectors and matrices;\n",
    "3.  How to do matrix transposition, inversion and multiplication;\n",
    "4.  How to create a function that given $X$ and $y$ produces $\\hat{\\beta}$;\n",
    "5.  How to generate data to test out our code.\n",
    "\n",
    "Step 1 was already accomplished with our last lecture.\n",
    "We now turn to creating vectors and matrices in Python.\n",
    "\n",
    "To do so, we will use a package called [NumPy](https://docs.scipy.org/doc/numpy/index.html).\n",
    "NumPy is a package for scientific computing in Python.\n",
    "It implements an object to represent N-dimensional arrays (vectors, matrices and higher dimensional matrices).\n",
    "It also has linear algebra functions and random number generators.\n",
    "\n",
    "Why do we need Numpy?\n",
    "Python is a dynamically typed language, it infers the type of a variable at runtime.\n",
    "This means that when Python store variables in memory, it not only stores the variable's value, but also its type.\n",
    "Then, when we perform a computation, like adding two variables (`x+y`), Python looks up the type of `x` and the type of `y`, and applies the definition of `+` to those types if it makes sense to do so. If those types are integers, for example, then Python performs an integer addition.\n",
    "However, if the type of `x` is integer, but `y` is a list, then the operation is not defined and Python will raise an exception (error).\n",
    "This type of checking is called a runtime type check.\n",
    "\n",
    "The runtime type check makes programming in Python a pleasure, since you do not have to worry about types all the time.\n",
    "However, it does lead to inefficiencies when we start performing operations on large datasets.\n",
    "Numpy solves those inefficiencies.\n",
    "\n",
    "Numpy introduces a new type of list, called a Numpy array.\n",
    "In an array, the type of all elements is the same.\n",
    "This has two benefits.\n",
    "First, the type is only stored once, so performing operations with numpy is much faster than with Python lists.\n",
    "Second, since all elements have the same type, their position in the memory is easy to compute.\n",
    "This means that accessing random elements in a numpy array is quick.\n",
    "\n",
    "Numpy also provides a set of operations for numpy array, all implemented in C.\n",
    "Arrays are not required to be 1 dimensional, so the class can also deal with matrices and higher dimensional arrays.\n",
    "Numpy is the base of other higher-level packages, like `pandas` and `scipy`.\n",
    "\n"
   ]
  },
  {
   "cell_type": "markdown",
   "metadata": {},
   "source": [
    "\n",
    "# Install\n",
    "\n"
   ]
  },
  {
   "cell_type": "markdown",
   "metadata": {},
   "source": [
    "Numpy can be installed with `pip`.\n",
    "After activating your environment in the terminal, run:\n",
    "\n"
   ]
  },
  {
   "cell_type": "code",
   "execution_count": 1,
   "metadata": {},
   "outputs": [],
   "source": [
    "pip install numpy"
   ]
  },
  {
   "cell_type": "markdown",
   "metadata": {},
   "source": [
    "Now `numpy` is available for Python.\n",
    "In the jupyter notebook, we can import the package by executing:\n",
    "\n"
   ]
  },
  {
   "cell_type": "code",
   "execution_count": 1,
   "metadata": {},
   "outputs": [],
   "source": [
    "import numpy"
   ]
  },
  {
   "cell_type": "markdown",
   "metadata": {},
   "source": [
    "The `import` will look for the package named `numpy`, will find it and load all of its content.\n",
    "The methods, variables and objects defined in the Numpy package will be available in the object `numpy`.\n",
    "\n",
    "You will often see the following command being used:\n",
    "\n"
   ]
  },
  {
   "cell_type": "code",
   "execution_count": 1,
   "metadata": {},
   "outputs": [],
   "source": [
    "import numpy as np"
   ]
  },
  {
   "cell_type": "markdown",
   "metadata": {},
   "source": [
    "Which makes the `numpy` functionality available via `np`.\n",
    "This is often used because it requires less typing to use numpy.\n",
    "\n"
   ]
  },
  {
   "cell_type": "markdown",
   "metadata": {},
   "source": [
    "\n",
    "# Basics\n",
    "\n"
   ]
  },
  {
   "cell_type": "markdown",
   "metadata": {},
   "source": [
    "To create a matrix with numpy we run:\n",
    "\n"
   ]
  },
  {
   "cell_type": "code",
   "execution_count": 1,
   "metadata": {},
   "outputs": [],
   "source": [
    "matrix = np.array([[0, 1, 2, 3],\n",
    "                   [4, 5, 6, 7]])"
   ]
  },
  {
   "cell_type": "markdown",
   "metadata": {},
   "source": [
    "This creates a new matrix with dimensions 2 by 4.\n",
    "\n",
    "Basic properties of `np.ndarray`:\n",
    "\n"
   ]
  },
  {
   "cell_type": "code",
   "execution_count": 1,
   "metadata": {},
   "outputs": [],
   "source": [
    "type(matrix)\n",
    "print(f'Shape of matrix = {matrix.shape}')\n",
    "print(f'Number of axes = {matrix.ndim}')\n",
    "print(f'Total number of elements = {matrix.size}')"
   ]
  },
  {
   "cell_type": "markdown",
   "metadata": {},
   "source": [
    "The elements of the matrix can be accessed by using its indices.\n",
    "Since the matrix has 2 dimensions, we need to give it two indices: an index for the row and an index for the column. Remember that in Python the indexing starts at 0.\n",
    "\n"
   ]
  },
  {
   "cell_type": "code",
   "execution_count": 1,
   "metadata": {},
   "outputs": [],
   "source": [
    "print(matrix[0, 0])                    # element at row 0 and column 0\n",
    "print(matrix[1, 3])                    # last element of the 2nd row\n",
    "print(matrix[1, -1])                   # last element of the 2nd row\n",
    "print(matrix[-1, -1])                  # element at last row and last column"
   ]
  },
  {
   "cell_type": "markdown",
   "metadata": {},
   "source": [
    "We can use `:` to slice the matrix and obtain all values of a certain row or of a certain column:\n",
    "\n"
   ]
  },
  {
   "cell_type": "code",
   "execution_count": 1,
   "metadata": {},
   "outputs": [],
   "source": [
    "print(matrix[0, :])             # first row, all columns\n",
    "print(matrix[:, 0])             # all rows, first column\n",
    "print(matrix[0, 1:3])           # first row, columns 1 and 2\n",
    "print(matrix[:, 1:3])           # all rows, columns 1 and 2"
   ]
  },
  {
   "cell_type": "markdown",
   "metadata": {},
   "source": [
    "We can also select specific columns or rows:\n",
    "\n"
   ]
  },
  {
   "cell_type": "code",
   "execution_count": 1,
   "metadata": {},
   "outputs": [],
   "source": [
    "print(matrix[:,[0, 3]])         # all rows, first column and last column"
   ]
  },
  {
   "cell_type": "markdown",
   "metadata": {},
   "source": [
    "Like the built-in function `range`, numpy also provides a way to generate a sequence of numbers with the function `np.arange`:\n",
    "\n"
   ]
  },
  {
   "cell_type": "code",
   "execution_count": 1,
   "metadata": {},
   "outputs": [],
   "source": [
    "vector = np.arange(20)"
   ]
  },
  {
   "cell_type": "markdown",
   "metadata": {},
   "source": [
    "We can reshape this vector into a matrix:\n",
    "\n"
   ]
  },
  {
   "cell_type": "code",
   "execution_count": 1,
   "metadata": {},
   "outputs": [],
   "source": [
    "matrix = vector.reshape(4,5)"
   ]
  },
  {
   "cell_type": "markdown",
   "metadata": {},
   "source": [
    "Notice that when converting a vector into a matrix we need to decide whether to put the values first into columns, or first into rows.\n",
    "For example, if we have a vector $[1,2,3,4]$ and want to reshape it into a $2x2$ matrix, there are 2 natural possibilities: create the new matrix by filling each row first, or create the matrix by filling each column first.\n",
    "\n",
    "\\begin{align*}\n",
    "\\text{Fill Rows: }\\begin{pmatrix}\n",
    "1 & 2\\\\\n",
    "3 & 4\n",
    "\\end{pmatrix}\\text{ vs. Fill Columns:}\n",
    "\\begin{pmatrix}\n",
    "1 & 3\\\\\n",
    "2 & 4\n",
    "\\end{pmatrix}\n",
    "\\end{align*}\n",
    "\n",
    "The default in Python is to fill each row before moving to the next (first matrix above).\n",
    "The behavior is controlled by a keyword argument `order` given to the reshape method.\n",
    "\n"
   ]
  },
  {
   "cell_type": "code",
   "execution_count": 1,
   "metadata": {},
   "outputs": [],
   "source": [
    "a = np.arange(4)\n",
    "# Different ways of reshaping\n",
    "# fill each row, row by row\n",
    "a.reshape((2, 2), order='C') # this is also the default\n",
    "# fill each column, column by column\n",
    "a.reshape((2, 2), order='F')"
   ]
  },
  {
   "cell_type": "markdown",
   "metadata": {},
   "source": [
    "We can also get the type of the values stored in the matrix:\n",
    "\n"
   ]
  },
  {
   "cell_type": "code",
   "execution_count": 1,
   "metadata": {},
   "outputs": [],
   "source": [
    "print(matrix.dtype)"
   ]
  },
  {
   "cell_type": "markdown",
   "metadata": {},
   "source": [
    "Observe that the `np.array` takes a list of numbers as input, it does not take numbers as separate inputs:\n",
    "\n"
   ]
  },
  {
   "cell_type": "code",
   "execution_count": 1,
   "metadata": {},
   "outputs": [],
   "source": [
    "np.array([1,2,3,4])             # correct, creates a vector\n",
    "np.array(1,2,3,4)               # wrong"
   ]
  },
  {
   "cell_type": "markdown",
   "metadata": {},
   "source": [
    "If a list of lists is given, then we get a two-dimensional array:\n",
    "\n"
   ]
  },
  {
   "cell_type": "code",
   "execution_count": 1,
   "metadata": {},
   "outputs": [],
   "source": [
    "np.array([[0, 1], [1, 2]])"
   ]
  },
  {
   "cell_type": "markdown",
   "metadata": {},
   "source": [
    "\n",
    "# Data Types\n",
    "\n"
   ]
  },
  {
   "cell_type": "markdown",
   "metadata": {},
   "source": [
    "The data type of values stored in a matrix are usually inferred when the values are assigned:\n",
    "\n"
   ]
  },
  {
   "cell_type": "code",
   "execution_count": 1,
   "metadata": {},
   "outputs": [],
   "source": [
    "matrixOfIntegers = np.array([[0, 1, 2, 3, 4, 5],\n",
    "                             [5, 4, 3, 2, 1, 0],\n",
    "                             [10, 9, 8, 7, 6, 5]])\n",
    "print(matrixOfIntegers.dtype)\n",
    "matrixOfFloats = np.array([[1.0, 2.3],\n",
    "                           [-5.1, 9.8234]])\n",
    "print(matrixOfFloats.dtype)"
   ]
  },
  {
   "cell_type": "markdown",
   "metadata": {},
   "source": [
    "The first matrix has the type `int64` and the second matrix has the type `float64`.\n",
    "Notice that if we try to change a value in the first matrix to a float, it will be implicitly converted to an integer:\n",
    "\n"
   ]
  },
  {
   "cell_type": "code",
   "execution_count": 1,
   "metadata": {},
   "outputs": [],
   "source": [
    "print(matrixOfIntegers[0, 0])\n",
    "matrixOfIntegers[0, 0] = 0.34\n",
    "print(matrixOfIntegers[0, 0])"
   ]
  },
  {
   "cell_type": "markdown",
   "metadata": {},
   "source": [
    "We can specify the type of data when we first create the matrix:\n",
    "\n"
   ]
  },
  {
   "cell_type": "code",
   "execution_count": 1,
   "metadata": {},
   "outputs": [],
   "source": [
    "matrix = np.array([[0, 1], [2, 3]], dtype='float64')\n",
    "matrix[0, 0] = 3.2\n",
    "print(matrix)"
   ]
  },
  {
   "cell_type": "markdown",
   "metadata": {},
   "source": [
    "The matrix is initialized with integers, but we specify the type to be a float, so the values are implicitly converted to floats.\n",
    "\n",
    "The most common data types for numbers are:\n",
    "\n",
    "| Data Type|Description|\n",
    "|---|---|\n",
    "| int\\_|default integer type (usually int64)|\n",
    "| float\\_|default float type (usually float64)|\n",
    "| complex\\_|default complex type (usually complex128)|\n",
    "| bool\\_|default boolean type (uses a byte)|\n",
    "|---|---|\n",
    "| int<bytes>|where <bytes> can be 8, 16, 32 or 64|\n",
    "| uint<bytes>|unsigned integer|\n",
    "| float<bytes>||\n",
    "| complex<bytes>||\n",
    "\n",
    "Remember that defining a data type will convert the initial values to the defined type:\n",
    "\n"
   ]
  },
  {
   "cell_type": "code",
   "execution_count": 1,
   "metadata": {},
   "outputs": [],
   "source": [
    "matrix = np.array([[0, 1],\n",
    "                   ['False', True],\n",
    "                   ['a', 'b']], dtype='bool_')"
   ]
  },
  {
   "cell_type": "markdown",
   "metadata": {},
   "source": [
    "If the values cannot be converted, an error is raised:\n",
    "\n"
   ]
  },
  {
   "cell_type": "code",
   "execution_count": 1,
   "metadata": {},
   "outputs": [],
   "source": [
    "matrix = np.array([[0, 1], [2, 'abc']], dtype='float_')"
   ]
  },
  {
   "cell_type": "markdown",
   "metadata": {},
   "source": [
    "The command raises a `ValueError` and informs us that the string 'abc' cannot be converted to a float.\n",
    "\n",
    "It is also possible to store strings in numpy arrays (matrices):\n",
    "\n"
   ]
  },
  {
   "cell_type": "code",
   "execution_count": 1,
   "metadata": {},
   "outputs": [],
   "source": [
    "names = np.array(['A', 'B', 'C', 'D'], dtype='str_')\n",
    "print(names.dtype)"
   ]
  },
  {
   "cell_type": "markdown",
   "metadata": {},
   "source": [
    "Notice that the type is actually \"<U1\". The \"U\" stands for \"unicode string\" and \"1\" is the number of characters.\n",
    "Since all values passed to the `np.array` constructor have just 1 character, numpy assumes all data that we will store on this matrix will have a single character.\n",
    "This might not be the case, and if we try to store a bigger string:\n",
    "\n"
   ]
  },
  {
   "cell_type": "code",
   "execution_count": 1,
   "metadata": {},
   "outputs": [],
   "source": [
    "names[0] = 'Guilherme'\n",
    "print(names[0])"
   ]
  },
  {
   "cell_type": "markdown",
   "metadata": {},
   "source": [
    "Instead of storing the entire string, only the first character was stored.\n",
    "We can let numpy know that we need more space in memory by defining how many characters we need:\n",
    "\n"
   ]
  },
  {
   "cell_type": "code",
   "execution_count": 1,
   "metadata": {},
   "outputs": [],
   "source": [
    "names = np.array(['A', 'B', 'C', 'D'], dtype='<U100')\n",
    "names[0] = 'Guilherme'\n",
    "print(names[0])"
   ]
  },
  {
   "cell_type": "markdown",
   "metadata": {},
   "source": [
    "Now we can store 100 characters in each element of the matrix.\n",
    "\n",
    "Numpy can handle other data types, even objects:\n",
    "\n"
   ]
  },
  {
   "cell_type": "code",
   "execution_count": 1,
   "metadata": {},
   "outputs": [],
   "source": [
    "grades = np.array([{'A': 9, 'B': 8, 'C': 10},\n",
    "                   {'A': 'Econ', 'B': 'Finance', 'C': 'Econ'}])"
   ]
  },
  {
   "cell_type": "markdown",
   "metadata": {},
   "source": [
    "In this case the data type is `object`, and `grades` is a matrix with two elements, where each is a dictionary.\n",
    "The type `object` is used for creating arrays that can hold any data type, since everything is an object in Python.\n",
    "In this case, we are loosing the efficiency that comes with Numpy, since we are creating an array that can hold different types of data.\n",
    "In some cases we might still want to do so, since Numpy provides several useful functions for dealing with arrays.\n",
    "\n",
    "The complete documentation on specifying data types (`dtype`) can be found [here](https://docs.scipy.org/doc/numpy/reference/arrays.dtypes.html#arrays-dtypes).\n",
    "Arrays can also hold more than one type, details on how to hanlde multiple types can be found [here](https://docs.scipy.org/doc/numpy/user/basics.rec.html#module-numpy.doc.structured_arrays).\n",
    "\n"
   ]
  },
  {
   "cell_type": "markdown",
   "metadata": {},
   "source": [
    "\n",
    "# Empty and Pre-Filled Arrays\n",
    "\n"
   ]
  },
  {
   "cell_type": "markdown",
   "metadata": {},
   "source": [
    "On many cases we will want to create an empty array and populate as the code is executed.\n",
    "We can create arrays pre-filled with ones or zeros via:\n",
    "\n"
   ]
  },
  {
   "cell_type": "code",
   "execution_count": 1,
   "metadata": {},
   "outputs": [],
   "source": [
    "ones = np.ones((4, 5))\n",
    "zeros = np.zeros((10, 3))"
   ]
  },
  {
   "cell_type": "markdown",
   "metadata": {},
   "source": [
    "The functions `np.ones` and `np.zeros` take a tuple as input, which defines the shape of the matrix to be created.\n",
    "\n",
    "The function `np.empty` creates an \"empty\" matrix of the given shape and data type:\n",
    "\n"
   ]
  },
  {
   "cell_type": "code",
   "execution_count": 1,
   "metadata": {},
   "outputs": [],
   "source": [
    "empty = np.empty((4, 10), dtype='float_')"
   ]
  },
  {
   "cell_type": "markdown",
   "metadata": {},
   "source": [
    "The matrix is filled with whatever values are in the memory.\n",
    "If you use this command make sure all values are correctly replaced, otherwise you may run into bugs.\n",
    "\n",
    "It is also possible to pre-fill a matrix with any given value:\n",
    "\n"
   ]
  },
  {
   "cell_type": "code",
   "execution_count": 1,
   "metadata": {},
   "outputs": [],
   "source": [
    "full = np.full((10, 3), 3.14)\n",
    "manyStrings = np.full((5,5), 'StudentName')"
   ]
  },
  {
   "cell_type": "markdown",
   "metadata": {},
   "source": [
    "\n",
    "# Operations\n",
    "\n"
   ]
  },
  {
   "cell_type": "markdown",
   "metadata": {},
   "source": [
    "Arithmetic operations with numpy arrays are always <span class=\"underline\">element wise</span>.\n",
    "\n"
   ]
  },
  {
   "cell_type": "code",
   "execution_count": 1,
   "metadata": {},
   "outputs": [],
   "source": [
    "a = np.arange(10)\n",
    "b = np.ones(10)\n",
    "print(f'Type a = {a.dtype}, b = {b.dtype}')\n",
    "c = a + b\n",
    "print(c)\n",
    "print(f'Type c = {c.dtype}')    # implicit conversion of a to float\n",
    "print(c*10)\n",
    "print(c - 10)\n",
    "print(c**2)"
   ]
  },
  {
   "cell_type": "markdown",
   "metadata": {},
   "source": [
    "Notice that `**` is the same as `pow(c,2)`.\n",
    "\n",
    "Comparisons are also done element wise:\n",
    "\n"
   ]
  },
  {
   "cell_type": "code",
   "execution_count": 1,
   "metadata": {},
   "outputs": [],
   "source": [
    "print(c > 5)"
   ]
  },
  {
   "cell_type": "markdown",
   "metadata": {},
   "source": [
    "Booleans can be used to recover elements of an array:\n",
    "\n"
   ]
  },
  {
   "cell_type": "code",
   "execution_count": 1,
   "metadata": {},
   "outputs": [],
   "source": [
    "c[c>5]"
   ]
  },
  {
   "cell_type": "markdown",
   "metadata": {},
   "source": [
    "You can recover the indices that satisfy a condition with the `np.where` function:\n",
    "\n"
   ]
  },
  {
   "cell_type": "code",
   "execution_count": 1,
   "metadata": {},
   "outputs": [],
   "source": [
    "indices = np.where(c <= 2)\n",
    "print(indices)\n",
    "print(c[indices])"
   ]
  },
  {
   "cell_type": "markdown",
   "metadata": {},
   "source": [
    "It is possible to manipulate all elements of an array and accumulate the values:\n",
    "\n"
   ]
  },
  {
   "cell_type": "code",
   "execution_count": 1,
   "metadata": {},
   "outputs": [],
   "source": [
    "# some random values to stand in as returns\n",
    "returns = np.random.random((78, 5))\n",
    "returns /= 100                       # divides everything by 100\n",
    "help(np.sum)\n",
    "RV = np.sum(returns**2, axis=0)\n",
    "annRV = 100*np.sqrt(252*RV)\n",
    "print(f'RV = {RV}\\n'\n",
    "      f'annualized RV = {annRV}')"
   ]
  },
  {
   "cell_type": "markdown",
   "metadata": {},
   "source": [
    "The `np.random.random` is a function that generates random values in the interval $[0, 1)$.\n",
    "The `np.sum` function accumulates over elements in an array by summing them.\n",
    "Calling `np.sum` without the `axis` argument will sum all of the elements in a matrix, resulting in a single value.\n",
    "The keyword argument `axis=0` instructs the sum to occur along the rows.\n",
    "Numpy provides many universal mathematical functions, such as `np.sqrt` for computing the square root of a number (remember, element wise).\n",
    "\n",
    "We can find the minimum and maximum values in an array:\n",
    "\n"
   ]
  },
  {
   "cell_type": "code",
   "execution_count": 1,
   "metadata": {},
   "outputs": [],
   "source": [
    "print(f'Min RV = {np.min(annRV)}\\n'\n",
    "      f'Max RV = {np.max(annRV)}')\n",
    "print(f'Index of Min = {np.argmin(annRV)}\\n'\n",
    "      f'Index of Max = {np.argmax(annRV)}')"
   ]
  },
  {
   "cell_type": "markdown",
   "metadata": {},
   "source": [
    "Numpy arrays also implement a multitude of different methods:\n",
    "\n"
   ]
  },
  {
   "cell_type": "code",
   "execution_count": 1,
   "metadata": {},
   "outputs": [],
   "source": [
    "x = np.array([4,3,2,1]);\n",
    "# in-place sort\n",
    "x.sort()\n",
    "print(x)\n",
    "# common operations\n",
    "print(x.sum(), x.mean(), x.max(), x.min())\n",
    "# equivalent to\n",
    "print(np.sum(x), np.mean(x), np.max(x), np.min(x))\n",
    "# index of extremum\n",
    "print(x.argmin(), x.argmax(), np.argmin(x), np.argmax(x))\n",
    "# cummulative sum\n",
    "x.cumsum()\n",
    "# cummulative product\n",
    "x.cumprod()\n",
    "# variance\n",
    "x.var()\n",
    "x.std()\n",
    "x.std() == x.var()**0.5\n",
    "# search sorted array for index where a new value can be inserted\n",
    "# without affecting the sort\n",
    "x.searchsorted(2.5)"
   ]
  },
  {
   "cell_type": "markdown",
   "metadata": {},
   "source": [
    "Numpy also implements matrix operations:\n",
    "\n"
   ]
  },
  {
   "cell_type": "code",
   "execution_count": 1,
   "metadata": {},
   "outputs": [],
   "source": [
    "# Inner Product: <a, b>\n",
    "x = np.array([1, 2, 3])\n",
    "y = np.array([-1, 0, 10])\n",
    "print(np.dot(x, y))\n",
    "# Matrix multiplication\n",
    "# create identity matrix\n",
    "a = np.eye(2)\n",
    "b = np.random.random((2, 2))\n",
    "print(np.matmul(a, b))\n",
    "# The symbol @ is overloaded for matrix multiplication\n",
    "print(a @ b)\n",
    "print(a @ b == np.matmul(a,b))\n",
    "# Matrix transposition\n",
    "print(np.transpose(b))\n",
    "print(b.T)\n",
    "# Matrix inversion\n",
    "c = np.array([[1, 2],\n",
    "              [3, 4]])\n",
    "print(np.linalg.inv(c))"
   ]
  },
  {
   "cell_type": "markdown",
   "metadata": {},
   "source": [
    "Numpy also implements other functions, like singular value decomposition (`np.linalg.svd`), eigenvalues (`np.linalg.eig`), Moore-Penrose inverse (`np.linalg.pinv`), Kronecker product (`np.kron`) and others.\n",
    "For more information on linear algebra with Numpy check the [reference page](https://docs.scipy.org/doc/numpy/reference/routines.linalg.html).\n",
    "\n"
   ]
  },
  {
   "cell_type": "markdown",
   "metadata": {},
   "source": [
    "\n",
    "# Mutability and Copying Arrays\n",
    "\n"
   ]
  },
  {
   "cell_type": "markdown",
   "metadata": {},
   "source": [
    "Create a new array:\n",
    "\n"
   ]
  },
  {
   "cell_type": "code",
   "execution_count": 1,
   "metadata": {},
   "outputs": [],
   "source": [
    "x = np.array([4,3,2,1], dtype='float_')\n",
    "# arrays are mutable\n",
    "x[0] = 10.32\n",
    "print(x)"
   ]
  },
  {
   "cell_type": "markdown",
   "metadata": {},
   "source": [
    "What happens when we assign a new name to x?\n",
    "\n"
   ]
  },
  {
   "cell_type": "code",
   "execution_count": 1,
   "metadata": {},
   "outputs": [],
   "source": [
    "a = x\n",
    "a[1] = -2.34\n",
    "# What is printed?\n",
    "print(a, a[1], x[1])"
   ]
  },
  {
   "cell_type": "markdown",
   "metadata": {},
   "source": [
    "Notice that `x` is a name to an array, and `a` is a reference to `x`. Thus, `a` is also a name to the exact same array.\n",
    "\n"
   ]
  },
  {
   "cell_type": "code",
   "execution_count": 1,
   "metadata": {},
   "outputs": [],
   "source": [
    "a == x\n",
    "a is x"
   ]
  },
  {
   "cell_type": "markdown",
   "metadata": {},
   "source": [
    "This is a sensible behavior for memory efficiency.\n",
    "If you do need to make a copy of an array, then:\n",
    "\n"
   ]
  },
  {
   "cell_type": "code",
   "execution_count": 1,
   "metadata": {},
   "outputs": [],
   "source": [
    "print(x)\n",
    "a = np.copy(a)                  # deep copy\n",
    "print(a)\n",
    "np.all(a == x)\n",
    "a is x\n",
    "a[:] = np.pi\n",
    "print(a, x)"
   ]
  },
  {
   "cell_type": "markdown",
   "metadata": {},
   "source": [
    "We can check if all elements of an array are `True`:\n",
    "\n"
   ]
  },
  {
   "cell_type": "code",
   "execution_count": 1,
   "metadata": {},
   "outputs": [],
   "source": [
    "(a == x).all()\n",
    "np.all(a==x)\n",
    "# built in\n",
    "all(a == x)"
   ]
  },
  {
   "cell_type": "markdown",
   "metadata": {},
   "source": [
    "\n",
    "# Additional Functionality\n",
    "\n"
   ]
  },
  {
   "cell_type": "markdown",
   "metadata": {},
   "source": [
    "Numpy has several functions that can be applied element-wise:\n",
    "\n"
   ]
  },
  {
   "cell_type": "code",
   "execution_count": 1,
   "metadata": {},
   "outputs": [],
   "source": [
    "x = np.array([1, 2, 3, 4])\n",
    "# vectorized functions (element-wise)\n",
    "print(np.sin(x))                # implicit type conversion\n",
    "print(np.log(x), np.exp(x))"
   ]
  },
  {
   "cell_type": "markdown",
   "metadata": {},
   "source": [
    "These functions are referred to as universal functions (`ufunc`).\n",
    "They are universal in the sense that they work with arrays (work with many elements).\n",
    "\n",
    "We can compose these operations:\n",
    "\n"
   ]
  },
  {
   "cell_type": "code",
   "execution_count": 1,
   "metadata": {},
   "outputs": [],
   "source": [
    "# +, -, /, * and ** also work element-wise\n",
    "print(np.log(x + 1)*3/np.exp(x)**2)"
   ]
  },
  {
   "cell_type": "markdown",
   "metadata": {},
   "source": [
    "If a function is not universal (also known as vectorized), applying it on an array will lead to error:\n",
    "\n"
   ]
  },
  {
   "cell_type": "code",
   "execution_count": 1,
   "metadata": {},
   "outputs": [],
   "source": [
    "def f(x):\n",
    "    return 1 if x > 0 else 0\n",
    "f(x)"
   ]
  },
  {
   "cell_type": "markdown",
   "metadata": {},
   "source": [
    "The issue here is that `bool(x)` is not defined for numpy arrays.\n",
    "While `x > 0` works, the part that says `if x > 0` is equivalent to `if bool(x > 0)`, which is undefined for arrays.\n",
    "\n"
   ]
  },
  {
   "cell_type": "code",
   "execution_count": 1,
   "metadata": {},
   "outputs": [],
   "source": [
    "bool(x)\n",
    "# Remember that for Python lists bool is always defined\n",
    "bool(list(x))"
   ]
  },
  {
   "cell_type": "markdown",
   "metadata": {},
   "source": [
    "We can vectorize a function:\n",
    "\n"
   ]
  },
  {
   "cell_type": "code",
   "execution_count": 1,
   "metadata": {},
   "outputs": [],
   "source": [
    "f = np.vectorize(f)\n",
    "f(x)"
   ]
  },
  {
   "cell_type": "markdown",
   "metadata": {},
   "source": [
    "The function `np.vectorize` is basically creating a for-loop around `f`:\n",
    "\n"
   ]
  },
  {
   "cell_type": "code",
   "execution_count": 1,
   "metadata": {},
   "outputs": [],
   "source": [
    "res = np.zeros(len(x))\n",
    "for i in np.arange(len(x)):\n",
    "    res[i] = f(x[i])\n",
    "print(res)"
   ]
  },
  {
   "cell_type": "markdown",
   "metadata": {},
   "source": [
    "We can accomplish the result of the function `f` using np.where:\n",
    "\n"
   ]
  },
  {
   "cell_type": "code",
   "execution_count": 1,
   "metadata": {},
   "outputs": [],
   "source": [
    "help(np.where)\n",
    "# returns 1s where x > 0, and 0 otherwise\n",
    "np.where(x > 0, 1, 0)"
   ]
  },
  {
   "cell_type": "markdown",
   "metadata": {},
   "source": [
    "Remember that comparisons are element-wise and can be used for slicing:\n",
    "\n"
   ]
  },
  {
   "cell_type": "code",
   "execution_count": 1,
   "metadata": {},
   "outputs": [],
   "source": [
    "# comparisons are element-wise\n",
    "a = np.array([-1, 0, 1])\n",
    "b = np.array([1.2, -2.3, 3])\n",
    "a > b                           # implicit type conversion for a\n",
    "a > 0.2\n",
    "# slice based on comparisons\n",
    "a[a > 0.2]\n",
    "a[a > b]"
   ]
  },
  {
   "cell_type": "markdown",
   "metadata": {},
   "source": [
    "The Numpy subpackage `np.random` implements several random number generators.\n",
    "You can get more information about them with `help`:\n",
    "\n"
   ]
  },
  {
   "cell_type": "code",
   "execution_count": 1,
   "metadata": {},
   "outputs": [],
   "source": [
    "help(np.random)"
   ]
  },
  {
   "cell_type": "markdown",
   "metadata": {},
   "source": [
    "The Numpy subpackage `np.linalg` has other linear algebra tools.\n",
    "You can also use `help` to learn more about them:\n",
    "\n"
   ]
  },
  {
   "cell_type": "code",
   "execution_count": 1,
   "metadata": {},
   "outputs": [],
   "source": [
    "# numpy subpackage np.linalg implements linear algebra functions\n",
    "help(np.linalg)"
   ]
  },
  {
   "cell_type": "markdown",
   "metadata": {},
   "source": [
    "A table that compares commands in Matlab to commands in Numpy is available [here](https://docs.scipy.org/doc/numpy/user/numpy-for-matlab-users.html).\n",
    "A good overview of many numpy features is available [here](https://docs.scipy.org/doc/numpy/user/quickstart.html#quickstart-tutorial).\n",
    "\n"
   ]
  },
  {
   "cell_type": "markdown",
   "metadata": {},
   "source": [
    "\n",
    "# Implementing the OLS Estimator for Linear Regressions\n",
    "\n"
   ]
  },
  {
   "cell_type": "markdown",
   "metadata": {},
   "source": [
    "We now know everything we need to know about Python to estimate parameters in a linear regression:\n",
    "\n"
   ]
  },
  {
   "cell_type": "code",
   "execution_count": 1,
   "metadata": {},
   "outputs": [],
   "source": [
    "def linreg_ols(x, y):\n",
    "    assert x.shape[0] == y.shape[0], \"Different number of rows\"\n",
    "    beta = np.linalg.inv(x.T @ x) @ x.T @ y\n",
    "    return beta"
   ]
  },
  {
   "cell_type": "markdown",
   "metadata": {},
   "source": [
    "Generate some test data to test `linreg_ols`:\n",
    "\n"
   ]
  },
  {
   "cell_type": "code",
   "execution_count": 1,
   "metadata": {},
   "outputs": [],
   "source": [
    "# 1000 data points with a constant + 3 explanatory variables\n",
    "x = np.hstack((np.ones((1000, 1)), np.random.random((1000, 3))))\n",
    "print(x)\n",
    "beta = np.random.random((4, 1))\n",
    "epsilon = np.random.random((1000, 1))\n",
    "y = x @ beta + epsilon\n",
    "print(y)"
   ]
  },
  {
   "cell_type": "markdown",
   "metadata": {},
   "source": [
    "Estimate beta and compare the estimate to the true value:\n",
    "\n"
   ]
  },
  {
   "cell_type": "code",
   "execution_count": 1,
   "metadata": {},
   "outputs": [],
   "source": [
    "beta_hat = linreg_ols(x, y)\n",
    "print(np.hstack((beta, beta_hat)))"
   ]
  },
  {
   "cell_type": "markdown",
   "metadata": {},
   "source": [
    "Let's update `linreg_ols` so that adding a constant to `x` is automatic:\n",
    "\n"
   ]
  },
  {
   "cell_type": "code",
   "execution_count": 1,
   "metadata": {},
   "outputs": [],
   "source": [
    "def linreg_ols(x, y):\n",
    "    assert x.shape[0] == y.shape[0], \"Different number of rows\"\n",
    "    x = np.hstack((np.ones((x.shape[0], 1)), x))\n",
    "    beta = np.linalg.inv(x.T @ x) @ x.T @ y\n",
    "    return beta"
   ]
  },
  {
   "cell_type": "markdown",
   "metadata": {},
   "source": [
    "Test it again:\n",
    "\n"
   ]
  },
  {
   "cell_type": "code",
   "execution_count": 1,
   "metadata": {},
   "outputs": [],
   "source": [
    "x = x[:, 1:]\n",
    "print(x)\n",
    "print(x.shape, y.shape)\n",
    "beta_hat = linreg_ols(x, y)\n",
    "print(beta_hat)"
   ]
  },
  {
   "cell_type": "markdown",
   "metadata": {},
   "source": [
    "Update `linreg_ols` so that adding a constant can be optionally specified by the user:\n",
    "\n"
   ]
  },
  {
   "cell_type": "code",
   "execution_count": 1,
   "metadata": {},
   "outputs": [],
   "source": [
    "def linreg_ols(x, y, intercept=True):\n",
    "    assert x.shape[0] == y.shape[0], \"Different number of rows\"\n",
    "    if intercept:\n",
    "        x = np.hstack((np.ones((x.shape[0], 1)), x))\n",
    "    beta = np.linalg.inv(x.T @ x) @ x.T @ y\n",
    "    return beta\n",
    "\n",
    "\n",
    "# if no intercept is supplied, than a column of ones is added\n",
    "print(linreg_ols(x, y))\n",
    "print(linreg_ols(x, y, True))\n",
    "print(linreg_ols(x, y, 1))\n",
    "print(linreg_ols(x, y, False))"
   ]
  },
  {
   "cell_type": "markdown",
   "metadata": {},
   "source": [
    "Always remember to add documentation to your functions (your future self will thank you):\n",
    "\n"
   ]
  },
  {
   "cell_type": "code",
   "execution_count": 1,
   "metadata": {},
   "outputs": [],
   "source": [
    "def linreg_ols(x, y, intercept=True):\n",
    "    \"\"\"Estimates linear regression coefficients with OLS.\n",
    "\n",
    "    Estimates beta in a linear regression: y = x @ beta + epsilon.\n",
    "    Uses the ordinary least squares estimator.\n",
    "\n",
    "    Args:\n",
    "        x (np.array): A nxK matrix of explanatory variables\n",
    "        y (np.array): A nx1 matrix of dependent variables\n",
    "        intercept (bool): Specifies whether to estimate intercept coefficient\n",
    "\n",
    "    Returns:\n",
    "        beta (np.array): A Kx1 vector with the beta estimates\n",
    "\n",
    "    Raises:\n",
    "        AssertionError: x and y have different number of rows\n",
    "        LinAlgError: if x is a singular matrix\n",
    "\n",
    "    Example:\n",
    "        linreg_ols(np.array([[1, -2], [0.5, -3.1]]), np.array([1, 2.3]))\n",
    "    \"\"\"\n",
    "    assert x.shape[0] == y.shape[0], \"Different number of rows\"\n",
    "    if intercept:\n",
    "        x = np.hstack((np.ones((x.shape[0], 1)), x))\n",
    "    beta = np.linalg.inv(x.T @ x) @ x.T @ y\n",
    "    return beta\n",
    "\n",
    "\n",
    "help(linreg_ols)"
   ]
  },
  {
   "cell_type": "markdown",
   "metadata": {},
   "source": [
    "\n",
    "# Save and Load Results\n",
    "\n"
   ]
  },
  {
   "cell_type": "markdown",
   "metadata": {},
   "source": [
    "After running linear regressions, we might want to save the results.\n",
    "We can use `np.save` for that.\n",
    "It saves the results in a file for later use.\n",
    "The function `np.save` saves in a binary file, which is faster for loading compared to `.csv` files (but it is not human-readable).\n",
    "\n"
   ]
  },
  {
   "cell_type": "code",
   "execution_count": 1,
   "metadata": {},
   "outputs": [],
   "source": [
    "beta = linreg_ols(np.random.random((1000, 3)),\n",
    "                  np.random.random((1000, 1)))\n",
    "print(beta)\n",
    "\n",
    "help(np.save)\n",
    "np.save('regression_estimates', beta, allow_pickle=False)  # npy extension"
   ]
  },
  {
   "cell_type": "markdown",
   "metadata": {},
   "source": [
    "If you are only using the data only on your computer (not sharing), then you can set `allow_pickle=True` to speed things up.\n",
    "\n",
    "To load the data, use `np.load`:\n",
    "\n"
   ]
  },
  {
   "cell_type": "code",
   "execution_count": 1,
   "metadata": {},
   "outputs": [],
   "source": [
    "# load the data\n",
    "del beta\n",
    "print(beta)                     # not defined\n",
    "beta = np.load('regression_estimates.npy', allow_pickle=False)\n",
    "print(beta)"
   ]
  },
  {
   "cell_type": "markdown",
   "metadata": {},
   "source": [
    "We can save the results in a `.csv` file, which is easier to share and inspect.\n",
    "To do so, we use `np.savetxt`:\n",
    "\n"
   ]
  },
  {
   "cell_type": "code",
   "execution_count": 1,
   "metadata": {},
   "outputs": [],
   "source": [
    "np.savetxt('regression_estimates.csv', beta, delimiter=',')\n",
    "# load from .csv\n",
    "del beta\n",
    "print(beta)\n",
    "beta = np.loadtxt('regression_estimates.csv', delimiter=',')\n",
    "print(beta)"
   ]
  },
  {
   "cell_type": "markdown",
   "metadata": {},
   "source": [
    "We can also use np.loadtxt to load data created outside Python.\n",
    "Download [this data set on housing prices in California](https://raw.githubusercontent.com/Salompas/handson-ml/master/datasets/housing/housing.csv), and save the file in your working folder.\n",
    "The data contains information on household prices in California in 1990 (based on the census at that time).\n",
    "\n",
    "Look at the data file to understand it first.\n",
    "Skip first line since they are the headers.\n",
    "Ignore the last column since it is string data.\n",
    "So, we need to select all but the last column.\n",
    "\n",
    "A missing value in a `.csv` file is represented as `,,`.\n",
    "The value would be considered as an empty string (`''`) by Numpy.\n",
    "The file has some missing data, so we also need to deal with it.\n",
    "\n",
    "Load the data:\n",
    "\n"
   ]
  },
  {
   "cell_type": "code",
   "execution_count": 1,
   "metadata": {},
   "outputs": [],
   "source": [
    "data = np.loadtxt('housing.csv', delimiter=\",\",\n",
    "                  skiprows=0, usecols=range(9),\n",
    "                  converters={4: lambda x: 0.})\n",
    "# delimiter: to specify its a csv file\n",
    "# skiprows: skips the first row, which has headlines\n",
    "# usecols: to select first 9 columns\n",
    "# converters: apply the anonymous functions to all strings it encounters\n",
    "#             thus, transforming '' into a 0.0\n",
    "print(data.shape)\n",
    "print(data)"
   ]
  },
  {
   "cell_type": "markdown",
   "metadata": {},
   "source": [
    "The function `np.loadtxt` is useful for files that are well formated and do not require much work.\n",
    "Later we will learn another package that implements a database object and provides much more powerful loading functions.\n",
    "\n"
   ]
  },
  {
   "cell_type": "markdown",
   "metadata": {},
   "source": [
    "\n",
    "# Organizing Outputs\n",
    "\n"
   ]
  },
  {
   "cell_type": "markdown",
   "metadata": {},
   "source": [
    "Let's extend linreg<sub>ols</sub> so the R-squared is also computed:\n",
    "\n"
   ]
  },
  {
   "cell_type": "code",
   "execution_count": 1,
   "metadata": {},
   "outputs": [],
   "source": [
    "def linreg_ols(x, y, intercept=True):\n",
    "    assert x.shape[0] == y.shape[0], \"Different number of rows\"\n",
    "    if intercept:\n",
    "        x = np.hstack((np.ones((x.shape[0], 1)), x))\n",
    "    beta = np.linalg.inv(x.T @ x) @ x.T @ y\n",
    "    # residuals\n",
    "    e = y - x @ beta\n",
    "    rsquared = 1 - (np.sum(e**2)/np.sum((y-y.mean())**2))\n",
    "    return (beta, rsquared)\n",
    "\n",
    "\n",
    "# we are returning a tuple, where the first element are the estimated\n",
    "# betas, and the second element is the R-squared\n",
    "x = np.random.random((1000, 5))\n",
    "y = np.random.random((1000, 1))\n",
    "results = linreg_ols(x, y)\n",
    "print(results)\n",
    "print(results[0], results[1])\n",
    "# tuple unpacking (a.k.a. unpacking):\n",
    "beta, rsquared = results\n",
    "beta, rsquared = linreg_ols(x, y)"
   ]
  },
  {
   "cell_type": "markdown",
   "metadata": {},
   "source": [
    "As we start adding more outputs to a function, it can become harder to identify what is each output represents.\n",
    "We can organize the outputs by using a dictionary:\n",
    "\n"
   ]
  },
  {
   "cell_type": "code",
   "execution_count": 1,
   "metadata": {},
   "outputs": [],
   "source": [
    "def linreg_ols(x, y, intercept=True):\n",
    "    assert x.shape[0] == y.shape[0], \"Different number of rows\"\n",
    "    if intercept:\n",
    "        x = np.hstack((np.ones((x.shape[0], 1)), x))\n",
    "    beta = np.linalg.inv(x.T @ x) @ x.T @ y\n",
    "    # residuals\n",
    "    e = y - x @ beta\n",
    "    rsquared = 1 - (np.sum(e**2)/np.sum((y-y.mean())**2))\n",
    "    return {'beta': beta, 'r2': rsquared}\n",
    "\n",
    "\n",
    "results = linreg_ols(x, y)\n",
    "# Check what are the outputs:\n",
    "print(results.keys())\n",
    "# Assign variable names\n",
    "beta = results['beta']\n",
    "rsquared = results['r2']\n",
    "# A dictionary can also be unpacked:\n",
    "beta, rsquared = results.values()\n",
    "print(beta, rsquared)"
   ]
  },
  {
   "cell_type": "markdown",
   "metadata": {},
   "source": [
    "We can also organize the output using a `namedtuple`.\n",
    "A `namedtuple` is similar to a tuple, but its elements have names.\n",
    "And the elements of a `namedtuple` can be accessed with the `.` notation:\n",
    "\n",
    "The `namedtuple` is defined in the `collections` package, which is built-in Python.\n",
    "The `namedtuple` is a factory function, which returns a subclass.\n",
    "A subclass is what defines an object, it is just a definition.\n",
    "But, we can use it to create instances of the object, which can actually be used.\n",
    "`namedtuple` takes the name of the object as an input, and also a list of properties that the object will have.\n",
    "\n"
   ]
  },
  {
   "cell_type": "code",
   "execution_count": 1,
   "metadata": {},
   "outputs": [],
   "source": [
    "from collections import namedtuple\n",
    "\n",
    "Point = namedtuple('Point', ['x', 'y'])\n",
    "mouse = Point(0.3, 0.7)\n",
    "print(mouse.x)\n",
    "print(mouse.y)"
   ]
  },
  {
   "cell_type": "markdown",
   "metadata": {},
   "source": [
    "We can adapt the example above to organize the output of `linreg_ols`:\n",
    "\n"
   ]
  },
  {
   "cell_type": "code",
   "execution_count": 1,
   "metadata": {},
   "outputs": [],
   "source": [
    "def linreg_ols(x, y, intercept=True):\n",
    "    assert x.shape[0] == y.shape[0], \"Different number of rows\"\n",
    "    if intercept:\n",
    "        x = np.hstack((np.ones((x.shape[0], 1)), x))\n",
    "    beta = np.linalg.inv(x.T @ x) @ x.T @ y\n",
    "    # residuals\n",
    "    e = y - x @ beta\n",
    "    rsquared = 1 - (np.sum(e**2)/np.sum((y-y.mean())**2))\n",
    "    RegressionOutput = namedtuple('RegressionOutput', ['beta', 'rsquared'])\n",
    "    return RegressionOutput(beta, rsquared)\n",
    "\n",
    "\n",
    "results = linreg_ols(x, y)\n",
    "# Check what are the field names:\n",
    "print(results._fields)\n",
    "# Recover the values\n",
    "print(results.beta)\n",
    "print(results.rsquared)"
   ]
  },
  {
   "cell_type": "markdown",
   "metadata": {},
   "source": [
    "This is a more efficient way of providing results, since you can name the outputs.\n",
    "Also, the outputs are saved in a tuple, which is immutable and so is slightly more memory efficient.\n",
    "\n"
   ]
  }
 ],
 "metadata": {
  "kernelspec": {
   "display_name": "Python 3",
   "language": "python",
   "name": "python3"
  },
  "language_info": {
   "codemirror_mode": {
    "name": "ipython",
    "version": 3
   },
   "file_extension": ".py",
   "mimetype": "text/x-python",
   "name": "python",
   "nbconvert_exporter": "python",
   "pygments_lexer": "ipython3",
   "version": "3.7.4"
  },
  "org": null
 },
 "nbformat": 4,
 "nbformat_minor": 1
}
